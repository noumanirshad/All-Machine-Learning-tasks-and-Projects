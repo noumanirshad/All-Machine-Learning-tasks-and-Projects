{
 "cells": [
  {
   "cell_type": "code",
   "execution_count": 1,
   "id": "99596997",
   "metadata": {},
   "outputs": [],
   "source": [
    "import pandas as pd\n",
    "import seaborn as sns\n",
    "import matplotlib.pyplot as plt\n",
    "import numpy as np"
   ]
  },
  {
   "cell_type": "code",
   "execution_count": 2,
   "id": "4a70dccc",
   "metadata": {},
   "outputs": [
    {
     "name": "stderr",
     "output_type": "stream",
     "text": [
      "e:\\softwares\\python setup\\lib\\site-packages\\IPython\\core\\interactiveshell.py:3457: DtypeWarning: Columns (12) have mixed types.Specify dtype option on import or set low_memory=False.\n",
      "  exec(code_obj, self.user_global_ns, self.user_ns)\n"
     ]
    }
   ],
   "source": [
    "zfone = pd.read_csv(\"trade.csv\")"
   ]
  },
  {
   "cell_type": "code",
   "execution_count": 3,
   "id": "ee417bfd",
   "metadata": {},
   "outputs": [
    {
     "data": {
      "text/html": [
       "<div>\n",
       "<style scoped>\n",
       "    .dataframe tbody tr th:only-of-type {\n",
       "        vertical-align: middle;\n",
       "    }\n",
       "\n",
       "    .dataframe tbody tr th {\n",
       "        vertical-align: top;\n",
       "    }\n",
       "\n",
       "    .dataframe thead th {\n",
       "        text-align: right;\n",
       "    }\n",
       "</style>\n",
       "<table border=\"1\" class=\"dataframe\">\n",
       "  <thead>\n",
       "    <tr style=\"text-align: right;\">\n",
       "      <th></th>\n",
       "      <th>Series_reference</th>\n",
       "      <th>Period</th>\n",
       "      <th>Data_value</th>\n",
       "      <th>STATUS</th>\n",
       "      <th>UNITS</th>\n",
       "      <th>MAGNTUDE</th>\n",
       "      <th>Subject</th>\n",
       "      <th>Group</th>\n",
       "      <th>Series_title_1</th>\n",
       "      <th>Series_title_2</th>\n",
       "      <th>Series_title_3</th>\n",
       "      <th>Series_title_4</th>\n",
       "      <th>Series_title_5</th>\n",
       "    </tr>\n",
       "  </thead>\n",
       "  <tbody>\n",
       "    <tr>\n",
       "      <th>0</th>\n",
       "      <td>OTVA.SEA2AA1</td>\n",
       "      <td>1971.06</td>\n",
       "      <td>369.135776</td>\n",
       "      <td>FINAL</td>\n",
       "      <td>Index</td>\n",
       "      <td>0</td>\n",
       "      <td>Overseas Trade Indexes - Volumes and Values - OTV</td>\n",
       "      <td>Export volume indexes and values - analytical</td>\n",
       "      <td>Volume</td>\n",
       "      <td>BEEF AND VEAL</td>\n",
       "      <td>June 2002 Quarter Base (=1000)</td>\n",
       "      <td>NaN</td>\n",
       "      <td>NaN</td>\n",
       "    </tr>\n",
       "    <tr>\n",
       "      <th>1</th>\n",
       "      <td>OTVA.SEA2AA1</td>\n",
       "      <td>1972.06</td>\n",
       "      <td>376.398285</td>\n",
       "      <td>FINAL</td>\n",
       "      <td>Index</td>\n",
       "      <td>0</td>\n",
       "      <td>Overseas Trade Indexes - Volumes and Values - OTV</td>\n",
       "      <td>Export volume indexes and values - analytical</td>\n",
       "      <td>Volume</td>\n",
       "      <td>BEEF AND VEAL</td>\n",
       "      <td>June 2002 Quarter Base (=1000)</td>\n",
       "      <td>NaN</td>\n",
       "      <td>NaN</td>\n",
       "    </tr>\n",
       "    <tr>\n",
       "      <th>2</th>\n",
       "      <td>OTVA.SEA2AA1</td>\n",
       "      <td>1973.06</td>\n",
       "      <td>415.590787</td>\n",
       "      <td>FINAL</td>\n",
       "      <td>Index</td>\n",
       "      <td>0</td>\n",
       "      <td>Overseas Trade Indexes - Volumes and Values - OTV</td>\n",
       "      <td>Export volume indexes and values - analytical</td>\n",
       "      <td>Volume</td>\n",
       "      <td>BEEF AND VEAL</td>\n",
       "      <td>June 2002 Quarter Base (=1000)</td>\n",
       "      <td>NaN</td>\n",
       "      <td>NaN</td>\n",
       "    </tr>\n",
       "    <tr>\n",
       "      <th>3</th>\n",
       "      <td>OTVA.SEA2AA1</td>\n",
       "      <td>1974.06</td>\n",
       "      <td>375.020912</td>\n",
       "      <td>FINAL</td>\n",
       "      <td>Index</td>\n",
       "      <td>0</td>\n",
       "      <td>Overseas Trade Indexes - Volumes and Values - OTV</td>\n",
       "      <td>Export volume indexes and values - analytical</td>\n",
       "      <td>Volume</td>\n",
       "      <td>BEEF AND VEAL</td>\n",
       "      <td>June 2002 Quarter Base (=1000)</td>\n",
       "      <td>NaN</td>\n",
       "      <td>NaN</td>\n",
       "    </tr>\n",
       "    <tr>\n",
       "      <th>4</th>\n",
       "      <td>OTVA.SEA2AA1</td>\n",
       "      <td>1975.06</td>\n",
       "      <td>400.815339</td>\n",
       "      <td>FINAL</td>\n",
       "      <td>Index</td>\n",
       "      <td>0</td>\n",
       "      <td>Overseas Trade Indexes - Volumes and Values - OTV</td>\n",
       "      <td>Export volume indexes and values - analytical</td>\n",
       "      <td>Volume</td>\n",
       "      <td>BEEF AND VEAL</td>\n",
       "      <td>June 2002 Quarter Base (=1000)</td>\n",
       "      <td>NaN</td>\n",
       "      <td>NaN</td>\n",
       "    </tr>\n",
       "  </tbody>\n",
       "</table>\n",
       "</div>"
      ],
      "text/plain": [
       "  Series_reference   Period  Data_value STATUS  UNITS  MAGNTUDE  \\\n",
       "0     OTVA.SEA2AA1  1971.06  369.135776  FINAL  Index         0   \n",
       "1     OTVA.SEA2AA1  1972.06  376.398285  FINAL  Index         0   \n",
       "2     OTVA.SEA2AA1  1973.06  415.590787  FINAL  Index         0   \n",
       "3     OTVA.SEA2AA1  1974.06  375.020912  FINAL  Index         0   \n",
       "4     OTVA.SEA2AA1  1975.06  400.815339  FINAL  Index         0   \n",
       "\n",
       "                                             Subject  \\\n",
       "0  Overseas Trade Indexes - Volumes and Values - OTV   \n",
       "1  Overseas Trade Indexes - Volumes and Values - OTV   \n",
       "2  Overseas Trade Indexes - Volumes and Values - OTV   \n",
       "3  Overseas Trade Indexes - Volumes and Values - OTV   \n",
       "4  Overseas Trade Indexes - Volumes and Values - OTV   \n",
       "\n",
       "                                           Group Series_title_1  \\\n",
       "0  Export volume indexes and values - analytical         Volume   \n",
       "1  Export volume indexes and values - analytical         Volume   \n",
       "2  Export volume indexes and values - analytical         Volume   \n",
       "3  Export volume indexes and values - analytical         Volume   \n",
       "4  Export volume indexes and values - analytical         Volume   \n",
       "\n",
       "  Series_title_2                  Series_title_3 Series_title_4 Series_title_5  \n",
       "0  BEEF AND VEAL  June 2002 Quarter Base (=1000)            NaN            NaN  \n",
       "1  BEEF AND VEAL  June 2002 Quarter Base (=1000)            NaN            NaN  \n",
       "2  BEEF AND VEAL  June 2002 Quarter Base (=1000)            NaN            NaN  \n",
       "3  BEEF AND VEAL  June 2002 Quarter Base (=1000)            NaN            NaN  \n",
       "4  BEEF AND VEAL  June 2002 Quarter Base (=1000)            NaN            NaN  "
      ]
     },
     "execution_count": 3,
     "metadata": {},
     "output_type": "execute_result"
    }
   ],
   "source": [
    "zfone.head()"
   ]
  },
  {
   "cell_type": "code",
   "execution_count": 4,
   "id": "74417916",
   "metadata": {},
   "outputs": [
    {
     "data": {
      "text/plain": [
       "(97259, 13)"
      ]
     },
     "execution_count": 4,
     "metadata": {},
     "output_type": "execute_result"
    }
   ],
   "source": [
    "zfone.shape"
   ]
  },
  {
   "cell_type": "code",
   "execution_count": 5,
   "id": "bea9cf5b",
   "metadata": {},
   "outputs": [
    {
     "data": {
      "text/html": [
       "<div>\n",
       "<style scoped>\n",
       "    .dataframe tbody tr th:only-of-type {\n",
       "        vertical-align: middle;\n",
       "    }\n",
       "\n",
       "    .dataframe tbody tr th {\n",
       "        vertical-align: top;\n",
       "    }\n",
       "\n",
       "    .dataframe thead th {\n",
       "        text-align: right;\n",
       "    }\n",
       "</style>\n",
       "<table border=\"1\" class=\"dataframe\">\n",
       "  <thead>\n",
       "    <tr style=\"text-align: right;\">\n",
       "      <th></th>\n",
       "      <th>Period</th>\n",
       "      <th>Data_value</th>\n",
       "      <th>MAGNTUDE</th>\n",
       "    </tr>\n",
       "  </thead>\n",
       "  <tbody>\n",
       "    <tr>\n",
       "      <th>count</th>\n",
       "      <td>97259.000000</td>\n",
       "      <td>9.666800e+04</td>\n",
       "      <td>97259.000000</td>\n",
       "    </tr>\n",
       "    <tr>\n",
       "      <th>mean</th>\n",
       "      <td>2001.087339</td>\n",
       "      <td>6.702072e+05</td>\n",
       "      <td>0.701056</td>\n",
       "    </tr>\n",
       "    <tr>\n",
       "      <th>std</th>\n",
       "      <td>14.062635</td>\n",
       "      <td>7.071830e+06</td>\n",
       "      <td>1.269529</td>\n",
       "    </tr>\n",
       "    <tr>\n",
       "      <th>min</th>\n",
       "      <td>1925.060000</td>\n",
       "      <td>-3.830000e+01</td>\n",
       "      <td>0.000000</td>\n",
       "    </tr>\n",
       "    <tr>\n",
       "      <th>25%</th>\n",
       "      <td>1993.060000</td>\n",
       "      <td>7.615271e+02</td>\n",
       "      <td>0.000000</td>\n",
       "    </tr>\n",
       "    <tr>\n",
       "      <th>50%</th>\n",
       "      <td>2003.060000</td>\n",
       "      <td>1.033755e+03</td>\n",
       "      <td>0.000000</td>\n",
       "    </tr>\n",
       "    <tr>\n",
       "      <th>75%</th>\n",
       "      <td>2012.060000</td>\n",
       "      <td>2.518620e+03</td>\n",
       "      <td>0.000000</td>\n",
       "    </tr>\n",
       "    <tr>\n",
       "      <th>max</th>\n",
       "      <td>2021.090000</td>\n",
       "      <td>1.123282e+09</td>\n",
       "      <td>3.000000</td>\n",
       "    </tr>\n",
       "  </tbody>\n",
       "</table>\n",
       "</div>"
      ],
      "text/plain": [
       "             Period    Data_value      MAGNTUDE\n",
       "count  97259.000000  9.666800e+04  97259.000000\n",
       "mean    2001.087339  6.702072e+05      0.701056\n",
       "std       14.062635  7.071830e+06      1.269529\n",
       "min     1925.060000 -3.830000e+01      0.000000\n",
       "25%     1993.060000  7.615271e+02      0.000000\n",
       "50%     2003.060000  1.033755e+03      0.000000\n",
       "75%     2012.060000  2.518620e+03      0.000000\n",
       "max     2021.090000  1.123282e+09      3.000000"
      ]
     },
     "execution_count": 5,
     "metadata": {},
     "output_type": "execute_result"
    }
   ],
   "source": [
    "zfone.describe()"
   ]
  },
  {
   "cell_type": "code",
   "execution_count": 6,
   "id": "7f1d7f8c",
   "metadata": {},
   "outputs": [
    {
     "name": "stdout",
     "output_type": "stream",
     "text": [
      "<class 'pandas.core.frame.DataFrame'>\n",
      "RangeIndex: 97259 entries, 0 to 97258\n",
      "Data columns (total 13 columns):\n",
      " #   Column            Non-Null Count  Dtype  \n",
      "---  ------            --------------  -----  \n",
      " 0   Series_reference  97259 non-null  object \n",
      " 1   Period            97259 non-null  float64\n",
      " 2   Data_value        96668 non-null  float64\n",
      " 3   STATUS            97259 non-null  object \n",
      " 4   UNITS             97259 non-null  object \n",
      " 5   MAGNTUDE          97259 non-null  int64  \n",
      " 6   Subject           97259 non-null  object \n",
      " 7   Group             97259 non-null  object \n",
      " 8   Series_title_1    97259 non-null  object \n",
      " 9   Series_title_2    95291 non-null  object \n",
      " 10  Series_title_3    94587 non-null  object \n",
      " 11  Series_title_4    16944 non-null  object \n",
      " 12  Series_title_5    252 non-null    object \n",
      "dtypes: float64(2), int64(1), object(10)\n",
      "memory usage: 9.6+ MB\n"
     ]
    }
   ],
   "source": [
    "zfone.info()"
   ]
  },
  {
   "cell_type": "code",
   "execution_count": 7,
   "id": "742de81c",
   "metadata": {},
   "outputs": [
    {
     "data": {
      "text/plain": [
       "Export volume indexes and values - analytical                                    20155\n",
       "Export price indexes - analytical                                                12330\n",
       "Import volume indexes and values - analytical                                    12045\n",
       "Import price indexes - analytical                                                 8019\n",
       "Import volume indexes and values - analytical - seasonally adjusted and trend     7224\n",
       "Export volume indexes and values - analytical - seasonally adjusted and trend     5796\n",
       "Export volume indexes and values - analytical - other bases and years             4692\n",
       "Import volume indexes and values - by BEC                                         3695\n",
       "Import price indexes - by BEC                                                     3695\n",
       "Export price indexes - analytical - other bases and years                         3491\n",
       "Import volume indexes - by BEC - seasonally adjusted and trend                    2646\n",
       "Import volume indexes and values - analytical - other bases and years             2285\n",
       "Import price indexes - analytical - other bases and years                         2045\n",
       "Export volume indexes and values - major trading partners                         1746\n",
       "Import volume indexes and values - major trading partners                         1555\n",
       "Import price indexes - major trading partners                                      945\n",
       "Export price indexes - major trading partners                                      945\n",
       "Export price indexes - analytical percentage change - other bases and years        513\n",
       "Import price indexes - analytical percentage change - other bases and years        513\n",
       "Terms of Trade - All Countries, percentage change                                  513\n",
       "Terms of Trade - All Countries                                                     355\n",
       "Services price indexes - exports (Discontinued June 2014)                          345\n",
       "Services price indexes - imports (Discontinued June 2014)                          345\n",
       "Services price indexes - exports series                                            340\n",
       "Services price indexes - imports series                                            340\n",
       "Terms of Trade - major trading partners                                            191\n",
       "Import volume indexes - seasonally adjusted - percentage change                    126\n",
       "Export volume indexes - seasonally adjusted - percentage change                    126\n",
       "Terms of Trade - Trend                                                             126\n",
       "Terms of Trade - Services (Discontinued June 2014)                                  69\n",
       "Terms of Trade - Services series                                                    48\n",
       "Name: Group, dtype: int64"
      ]
     },
     "execution_count": 7,
     "metadata": {},
     "output_type": "execute_result"
    }
   ],
   "source": [
    "zfone[\"Group\"].value_counts()"
   ]
  },
  {
   "cell_type": "code",
   "execution_count": 8,
   "id": "00dc8f7f",
   "metadata": {},
   "outputs": [
    {
     "data": {
      "text/plain": [
       "0    74531\n",
       "3    22728\n",
       "Name: MAGNTUDE, dtype: int64"
      ]
     },
     "execution_count": 8,
     "metadata": {},
     "output_type": "execute_result"
    }
   ],
   "source": [
    "zfone[\"MAGNTUDE\"].value_counts()"
   ]
  },
  {
   "cell_type": "code",
   "execution_count": 9,
   "id": "ae5f07fc",
   "metadata": {},
   "outputs": [
    {
     "data": {
      "text/plain": [
       "Overseas Trade Indexes - Volumes and Values - OTV    62091\n",
       "Overseas Trade Indexes - Prices - OTP                35168\n",
       "Name: Subject, dtype: int64"
      ]
     },
     "execution_count": 9,
     "metadata": {},
     "output_type": "execute_result"
    }
   ],
   "source": [
    "zfone[\"Subject\"].value_counts()"
   ]
  },
  {
   "cell_type": "code",
   "execution_count": 10,
   "id": "60c529ab",
   "metadata": {},
   "outputs": [
    {
     "data": {
      "text/plain": [
       "Volume                            39363\n",
       "Price                             32496\n",
       "Value: $(thousand) vfd or fob     22728\n",
       "June 2002 Quarter Base (=1000)      994\n",
       "Total Services                      351\n",
       "Total Travel                        334\n",
       "Total Government Services           334\n",
       "Total Transportation                234\n",
       "Other Services                      234\n",
       "Australia                            40\n",
       "United Kingdom                       40\n",
       "Japan                                40\n",
       "USA                                  40\n",
       "China                                31\n",
       "Name: Series_title_1, dtype: int64"
      ]
     },
     "execution_count": 10,
     "metadata": {},
     "output_type": "execute_result"
    }
   ],
   "source": [
    "zfone[\"Series_title_1\"].value_counts()"
   ]
  },
  {
   "cell_type": "code",
   "execution_count": 11,
   "id": "a4721dde",
   "metadata": {},
   "outputs": [
    {
     "data": {
      "text/plain": [
       "Index      72583\n",
       "Dollars    22728\n",
       "Percent     1791\n",
       "index        157\n",
       "Name: UNITS, dtype: int64"
      ]
     },
     "execution_count": 11,
     "metadata": {},
     "output_type": "execute_result"
    }
   ],
   "source": [
    "zfone[\"UNITS\"].value_counts()"
   ]
  },
  {
   "cell_type": "code",
   "execution_count": 12,
   "id": "a6ede5e3",
   "metadata": {},
   "outputs": [
    {
     "data": {
      "text/plain": [
       "FINAL           80576\n",
       "REVISED         15573\n",
       "CONFIDENTIAL      589\n",
       "PROVISIONAL       521\n",
       "Name: STATUS, dtype: int64"
      ]
     },
     "execution_count": 12,
     "metadata": {},
     "output_type": "execute_result"
    }
   ],
   "source": [
    "zfone[\"STATUS\"].value_counts()"
   ]
  },
  {
   "cell_type": "code",
   "execution_count": 13,
   "id": "bb63447f",
   "metadata": {},
   "outputs": [
    {
     "data": {
      "text/plain": [
       "Percentage change from previous period    252\n",
       "Name: Series_title_5, dtype: int64"
      ]
     },
     "execution_count": 13,
     "metadata": {},
     "output_type": "execute_result"
    }
   ],
   "source": [
    "zfone[\"Series_title_5\"].value_counts()"
   ]
  },
  {
   "cell_type": "code",
   "execution_count": 14,
   "id": "4fb5dde6",
   "metadata": {},
   "outputs": [
    {
     "data": {
      "text/plain": [
       "Trend                                               8008\n",
       "Seasonally adjusted                                 7910\n",
       "Percentage change from previous period               516\n",
       "Percentage change from same period previous year     510\n",
       "Name: Series_title_4, dtype: int64"
      ]
     },
     "execution_count": 14,
     "metadata": {},
     "output_type": "execute_result"
    }
   ],
   "source": [
    "zfone[\"Series_title_4\"].value_counts()"
   ]
  },
  {
   "cell_type": "code",
   "execution_count": 15,
   "id": "4c7bc7f8",
   "metadata": {},
   "outputs": [
    {
     "data": {
      "text/plain": [
       "June 2002 Quarter Base (=1000)              83067\n",
       "Mar Year. June 2002 Quarter Base (=1000)     4613\n",
       "Dec Year. June 2002 Quarter Base (=1000)     4581\n",
       "December 1993 Quarter Base (=1000)           1163\n",
       "June 1999 Quarter Base (=1000)               1163\n",
       "Name: Series_title_3, dtype: int64"
      ]
     },
     "execution_count": 15,
     "metadata": {},
     "output_type": "execute_result"
    }
   ],
   "source": [
    "zfone[\"Series_title_3\"].value_counts()"
   ]
  },
  {
   "cell_type": "code",
   "execution_count": 16,
   "id": "5a9a9552",
   "metadata": {},
   "outputs": [
    {
     "data": {
      "text/plain": [
       "OTPQ.SIO1I98    291\n",
       "OTPQ.SIO1I97    291\n",
       "OTVQ.SIA2I91    291\n",
       "OTPQ.SIA1I91    291\n",
       "OTPQ.SEO1BS8    287\n",
       "               ... \n",
       "OTVA.SEO2BM2     23\n",
       "OTVA.SIO3LM2     23\n",
       "OTVA.SEO2BN2     23\n",
       "OTVA.SIO3LO2     23\n",
       "OTVA.SIO3LD2     23\n",
       "Name: Series_reference, Length: 1159, dtype: int64"
      ]
     },
     "execution_count": 16,
     "metadata": {},
     "output_type": "execute_result"
    }
   ],
   "source": [
    "zfone[\"Series_reference\"].value_counts()"
   ]
  },
  {
   "cell_type": "code",
   "execution_count": 17,
   "id": "fbf92652",
   "metadata": {},
   "outputs": [
    {
     "data": {
      "text/html": [
       "<div>\n",
       "<style scoped>\n",
       "    .dataframe tbody tr th:only-of-type {\n",
       "        vertical-align: middle;\n",
       "    }\n",
       "\n",
       "    .dataframe tbody tr th {\n",
       "        vertical-align: top;\n",
       "    }\n",
       "\n",
       "    .dataframe thead th {\n",
       "        text-align: right;\n",
       "    }\n",
       "</style>\n",
       "<table border=\"1\" class=\"dataframe\">\n",
       "  <thead>\n",
       "    <tr style=\"text-align: right;\">\n",
       "      <th></th>\n",
       "      <th>Series_reference</th>\n",
       "      <th>Period</th>\n",
       "      <th>Data_value</th>\n",
       "      <th>STATUS</th>\n",
       "      <th>UNITS</th>\n",
       "      <th>MAGNTUDE</th>\n",
       "      <th>Subject</th>\n",
       "      <th>Group</th>\n",
       "      <th>Series_title_1</th>\n",
       "      <th>Series_title_2</th>\n",
       "      <th>Series_title_3</th>\n",
       "      <th>Series_title_4</th>\n",
       "      <th>Series_title_5</th>\n",
       "    </tr>\n",
       "  </thead>\n",
       "  <tbody>\n",
       "    <tr>\n",
       "      <th>0</th>\n",
       "      <td>OTVA.SEA2AA1</td>\n",
       "      <td>1971.06</td>\n",
       "      <td>369.135776</td>\n",
       "      <td>FINAL</td>\n",
       "      <td>Index</td>\n",
       "      <td>0</td>\n",
       "      <td>Overseas Trade Indexes - Volumes and Values - OTV</td>\n",
       "      <td>Export volume indexes and values - analytical</td>\n",
       "      <td>Volume</td>\n",
       "      <td>BEEF AND VEAL</td>\n",
       "      <td>June 2002 Quarter Base (=1000)</td>\n",
       "      <td>NaN</td>\n",
       "      <td>NaN</td>\n",
       "    </tr>\n",
       "    <tr>\n",
       "      <th>1</th>\n",
       "      <td>OTVA.SEA2AA1</td>\n",
       "      <td>1972.06</td>\n",
       "      <td>376.398285</td>\n",
       "      <td>FINAL</td>\n",
       "      <td>Index</td>\n",
       "      <td>0</td>\n",
       "      <td>Overseas Trade Indexes - Volumes and Values - OTV</td>\n",
       "      <td>Export volume indexes and values - analytical</td>\n",
       "      <td>Volume</td>\n",
       "      <td>BEEF AND VEAL</td>\n",
       "      <td>June 2002 Quarter Base (=1000)</td>\n",
       "      <td>NaN</td>\n",
       "      <td>NaN</td>\n",
       "    </tr>\n",
       "    <tr>\n",
       "      <th>2</th>\n",
       "      <td>OTVA.SEA2AA1</td>\n",
       "      <td>1973.06</td>\n",
       "      <td>415.590787</td>\n",
       "      <td>FINAL</td>\n",
       "      <td>Index</td>\n",
       "      <td>0</td>\n",
       "      <td>Overseas Trade Indexes - Volumes and Values - OTV</td>\n",
       "      <td>Export volume indexes and values - analytical</td>\n",
       "      <td>Volume</td>\n",
       "      <td>BEEF AND VEAL</td>\n",
       "      <td>June 2002 Quarter Base (=1000)</td>\n",
       "      <td>NaN</td>\n",
       "      <td>NaN</td>\n",
       "    </tr>\n",
       "    <tr>\n",
       "      <th>3</th>\n",
       "      <td>OTVA.SEA2AA1</td>\n",
       "      <td>1974.06</td>\n",
       "      <td>375.020912</td>\n",
       "      <td>FINAL</td>\n",
       "      <td>Index</td>\n",
       "      <td>0</td>\n",
       "      <td>Overseas Trade Indexes - Volumes and Values - OTV</td>\n",
       "      <td>Export volume indexes and values - analytical</td>\n",
       "      <td>Volume</td>\n",
       "      <td>BEEF AND VEAL</td>\n",
       "      <td>June 2002 Quarter Base (=1000)</td>\n",
       "      <td>NaN</td>\n",
       "      <td>NaN</td>\n",
       "    </tr>\n",
       "    <tr>\n",
       "      <th>4</th>\n",
       "      <td>OTVA.SEA2AA1</td>\n",
       "      <td>1975.06</td>\n",
       "      <td>400.815339</td>\n",
       "      <td>FINAL</td>\n",
       "      <td>Index</td>\n",
       "      <td>0</td>\n",
       "      <td>Overseas Trade Indexes - Volumes and Values - OTV</td>\n",
       "      <td>Export volume indexes and values - analytical</td>\n",
       "      <td>Volume</td>\n",
       "      <td>BEEF AND VEAL</td>\n",
       "      <td>June 2002 Quarter Base (=1000)</td>\n",
       "      <td>NaN</td>\n",
       "      <td>NaN</td>\n",
       "    </tr>\n",
       "  </tbody>\n",
       "</table>\n",
       "</div>"
      ],
      "text/plain": [
       "  Series_reference   Period  Data_value STATUS  UNITS  MAGNTUDE  \\\n",
       "0     OTVA.SEA2AA1  1971.06  369.135776  FINAL  Index         0   \n",
       "1     OTVA.SEA2AA1  1972.06  376.398285  FINAL  Index         0   \n",
       "2     OTVA.SEA2AA1  1973.06  415.590787  FINAL  Index         0   \n",
       "3     OTVA.SEA2AA1  1974.06  375.020912  FINAL  Index         0   \n",
       "4     OTVA.SEA2AA1  1975.06  400.815339  FINAL  Index         0   \n",
       "\n",
       "                                             Subject  \\\n",
       "0  Overseas Trade Indexes - Volumes and Values - OTV   \n",
       "1  Overseas Trade Indexes - Volumes and Values - OTV   \n",
       "2  Overseas Trade Indexes - Volumes and Values - OTV   \n",
       "3  Overseas Trade Indexes - Volumes and Values - OTV   \n",
       "4  Overseas Trade Indexes - Volumes and Values - OTV   \n",
       "\n",
       "                                           Group Series_title_1  \\\n",
       "0  Export volume indexes and values - analytical         Volume   \n",
       "1  Export volume indexes and values - analytical         Volume   \n",
       "2  Export volume indexes and values - analytical         Volume   \n",
       "3  Export volume indexes and values - analytical         Volume   \n",
       "4  Export volume indexes and values - analytical         Volume   \n",
       "\n",
       "  Series_title_2                  Series_title_3 Series_title_4 Series_title_5  \n",
       "0  BEEF AND VEAL  June 2002 Quarter Base (=1000)            NaN            NaN  \n",
       "1  BEEF AND VEAL  June 2002 Quarter Base (=1000)            NaN            NaN  \n",
       "2  BEEF AND VEAL  June 2002 Quarter Base (=1000)            NaN            NaN  \n",
       "3  BEEF AND VEAL  June 2002 Quarter Base (=1000)            NaN            NaN  \n",
       "4  BEEF AND VEAL  June 2002 Quarter Base (=1000)            NaN            NaN  "
      ]
     },
     "execution_count": 17,
     "metadata": {},
     "output_type": "execute_result"
    }
   ],
   "source": [
    "zfone.head()"
   ]
  },
  {
   "cell_type": "code",
   "execution_count": 18,
   "id": "7c6b92d0",
   "metadata": {},
   "outputs": [
    {
     "name": "stdout",
     "output_type": "stream",
     "text": [
      "<class 'pandas.core.frame.DataFrame'>\n",
      "RangeIndex: 97259 entries, 0 to 97258\n",
      "Data columns (total 7 columns):\n",
      " #   Column          Non-Null Count  Dtype  \n",
      "---  ------          --------------  -----  \n",
      " 0   Period          97259 non-null  float64\n",
      " 1   STATUS          97259 non-null  object \n",
      " 2   MAGNTUDE        97259 non-null  int64  \n",
      " 3   Subject         97259 non-null  object \n",
      " 4   Data_value      96668 non-null  float64\n",
      " 5   UNITS           97259 non-null  object \n",
      " 6   Series_title_1  97259 non-null  object \n",
      "dtypes: float64(2), int64(1), object(4)\n",
      "memory usage: 5.2+ MB\n"
     ]
    }
   ],
   "source": [
    "data = zfone[[\"Period\", \"STATUS\", \"MAGNTUDE\", \"Subject\", \"Data_value\", \"UNITS\", \"Series_title_1\"]]\n",
    "data.info()"
   ]
  },
  {
   "cell_type": "code",
   "execution_count": 19,
   "id": "7eef0708",
   "metadata": {},
   "outputs": [
    {
     "name": "stdout",
     "output_type": "stream",
     "text": [
      "<class 'pandas.core.frame.DataFrame'>\n",
      "RangeIndex: 97259 entries, 0 to 97258\n",
      "Data columns (total 7 columns):\n",
      " #   Column          Non-Null Count  Dtype  \n",
      "---  ------          --------------  -----  \n",
      " 0   Period          97259 non-null  float64\n",
      " 1   STATUS          97259 non-null  object \n",
      " 2   MAGNTUDE        97259 non-null  int64  \n",
      " 3   Subject         97259 non-null  object \n",
      " 4   Data_value      97259 non-null  object \n",
      " 5   UNITS           97259 non-null  object \n",
      " 6   Series_title_1  97259 non-null  object \n",
      "dtypes: float64(1), int64(1), object(5)\n",
      "memory usage: 5.2+ MB\n"
     ]
    }
   ],
   "source": [
    "f = data[\"Data_value\"].median\n",
    "data = data.fillna(f)\n",
    "data.info()"
   ]
  },
  {
   "cell_type": "code",
   "execution_count": 20,
   "id": "b8358f3a",
   "metadata": {},
   "outputs": [
    {
     "data": {
      "text/html": [
       "<div>\n",
       "<style scoped>\n",
       "    .dataframe tbody tr th:only-of-type {\n",
       "        vertical-align: middle;\n",
       "    }\n",
       "\n",
       "    .dataframe tbody tr th {\n",
       "        vertical-align: top;\n",
       "    }\n",
       "\n",
       "    .dataframe thead th {\n",
       "        text-align: right;\n",
       "    }\n",
       "</style>\n",
       "<table border=\"1\" class=\"dataframe\">\n",
       "  <thead>\n",
       "    <tr style=\"text-align: right;\">\n",
       "      <th></th>\n",
       "      <th>Period</th>\n",
       "      <th>STATUS</th>\n",
       "      <th>MAGNTUDE</th>\n",
       "      <th>Subject</th>\n",
       "      <th>Data_value</th>\n",
       "      <th>UNITS</th>\n",
       "      <th>Series_title_1</th>\n",
       "    </tr>\n",
       "  </thead>\n",
       "  <tbody>\n",
       "    <tr>\n",
       "      <th>0</th>\n",
       "      <td>1971.06</td>\n",
       "      <td>FINAL</td>\n",
       "      <td>0</td>\n",
       "      <td>Overseas Trade Indexes - Volumes and Values - OTV</td>\n",
       "      <td>369.135776</td>\n",
       "      <td>Index</td>\n",
       "      <td>Volume</td>\n",
       "    </tr>\n",
       "    <tr>\n",
       "      <th>1</th>\n",
       "      <td>1972.06</td>\n",
       "      <td>FINAL</td>\n",
       "      <td>0</td>\n",
       "      <td>Overseas Trade Indexes - Volumes and Values - OTV</td>\n",
       "      <td>376.398285</td>\n",
       "      <td>Index</td>\n",
       "      <td>Volume</td>\n",
       "    </tr>\n",
       "    <tr>\n",
       "      <th>2</th>\n",
       "      <td>1973.06</td>\n",
       "      <td>FINAL</td>\n",
       "      <td>0</td>\n",
       "      <td>Overseas Trade Indexes - Volumes and Values - OTV</td>\n",
       "      <td>415.590787</td>\n",
       "      <td>Index</td>\n",
       "      <td>Volume</td>\n",
       "    </tr>\n",
       "    <tr>\n",
       "      <th>3</th>\n",
       "      <td>1974.06</td>\n",
       "      <td>FINAL</td>\n",
       "      <td>0</td>\n",
       "      <td>Overseas Trade Indexes - Volumes and Values - OTV</td>\n",
       "      <td>375.020912</td>\n",
       "      <td>Index</td>\n",
       "      <td>Volume</td>\n",
       "    </tr>\n",
       "    <tr>\n",
       "      <th>4</th>\n",
       "      <td>1975.06</td>\n",
       "      <td>FINAL</td>\n",
       "      <td>0</td>\n",
       "      <td>Overseas Trade Indexes - Volumes and Values - OTV</td>\n",
       "      <td>400.815339</td>\n",
       "      <td>Index</td>\n",
       "      <td>Volume</td>\n",
       "    </tr>\n",
       "  </tbody>\n",
       "</table>\n",
       "</div>"
      ],
      "text/plain": [
       "    Period STATUS  MAGNTUDE  \\\n",
       "0  1971.06  FINAL         0   \n",
       "1  1972.06  FINAL         0   \n",
       "2  1973.06  FINAL         0   \n",
       "3  1974.06  FINAL         0   \n",
       "4  1975.06  FINAL         0   \n",
       "\n",
       "                                             Subject  Data_value  UNITS  \\\n",
       "0  Overseas Trade Indexes - Volumes and Values - OTV  369.135776  Index   \n",
       "1  Overseas Trade Indexes - Volumes and Values - OTV  376.398285  Index   \n",
       "2  Overseas Trade Indexes - Volumes and Values - OTV  415.590787  Index   \n",
       "3  Overseas Trade Indexes - Volumes and Values - OTV  375.020912  Index   \n",
       "4  Overseas Trade Indexes - Volumes and Values - OTV  400.815339  Index   \n",
       "\n",
       "  Series_title_1  \n",
       "0         Volume  \n",
       "1         Volume  \n",
       "2         Volume  \n",
       "3         Volume  \n",
       "4         Volume  "
      ]
     },
     "execution_count": 20,
     "metadata": {},
     "output_type": "execute_result"
    }
   ],
   "source": [
    "data.head()"
   ]
  },
  {
   "cell_type": "code",
   "execution_count": 21,
   "id": "cec6a902",
   "metadata": {},
   "outputs": [],
   "source": [
    "data.columns = [\"period\", \"status\", 'magnitude', \"subject\", 'data', 'units', 'series_1']"
   ]
  },
  {
   "cell_type": "code",
   "execution_count": 22,
   "id": "aead2db1",
   "metadata": {},
   "outputs": [
    {
     "data": {
      "text/html": [
       "<div>\n",
       "<style scoped>\n",
       "    .dataframe tbody tr th:only-of-type {\n",
       "        vertical-align: middle;\n",
       "    }\n",
       "\n",
       "    .dataframe tbody tr th {\n",
       "        vertical-align: top;\n",
       "    }\n",
       "\n",
       "    .dataframe thead th {\n",
       "        text-align: right;\n",
       "    }\n",
       "</style>\n",
       "<table border=\"1\" class=\"dataframe\">\n",
       "  <thead>\n",
       "    <tr style=\"text-align: right;\">\n",
       "      <th></th>\n",
       "      <th>period</th>\n",
       "      <th>status</th>\n",
       "      <th>magnitude</th>\n",
       "      <th>subject</th>\n",
       "      <th>data</th>\n",
       "      <th>units</th>\n",
       "      <th>series_1</th>\n",
       "    </tr>\n",
       "  </thead>\n",
       "  <tbody>\n",
       "    <tr>\n",
       "      <th>0</th>\n",
       "      <td>1971.06</td>\n",
       "      <td>FINAL</td>\n",
       "      <td>0</td>\n",
       "      <td>Overseas Trade Indexes - Volumes and Values - OTV</td>\n",
       "      <td>369.135776</td>\n",
       "      <td>Index</td>\n",
       "      <td>Volume</td>\n",
       "    </tr>\n",
       "    <tr>\n",
       "      <th>1</th>\n",
       "      <td>1972.06</td>\n",
       "      <td>FINAL</td>\n",
       "      <td>0</td>\n",
       "      <td>Overseas Trade Indexes - Volumes and Values - OTV</td>\n",
       "      <td>376.398285</td>\n",
       "      <td>Index</td>\n",
       "      <td>Volume</td>\n",
       "    </tr>\n",
       "    <tr>\n",
       "      <th>2</th>\n",
       "      <td>1973.06</td>\n",
       "      <td>FINAL</td>\n",
       "      <td>0</td>\n",
       "      <td>Overseas Trade Indexes - Volumes and Values - OTV</td>\n",
       "      <td>415.590787</td>\n",
       "      <td>Index</td>\n",
       "      <td>Volume</td>\n",
       "    </tr>\n",
       "    <tr>\n",
       "      <th>3</th>\n",
       "      <td>1974.06</td>\n",
       "      <td>FINAL</td>\n",
       "      <td>0</td>\n",
       "      <td>Overseas Trade Indexes - Volumes and Values - OTV</td>\n",
       "      <td>375.020912</td>\n",
       "      <td>Index</td>\n",
       "      <td>Volume</td>\n",
       "    </tr>\n",
       "    <tr>\n",
       "      <th>4</th>\n",
       "      <td>1975.06</td>\n",
       "      <td>FINAL</td>\n",
       "      <td>0</td>\n",
       "      <td>Overseas Trade Indexes - Volumes and Values - OTV</td>\n",
       "      <td>400.815339</td>\n",
       "      <td>Index</td>\n",
       "      <td>Volume</td>\n",
       "    </tr>\n",
       "  </tbody>\n",
       "</table>\n",
       "</div>"
      ],
      "text/plain": [
       "    period status  magnitude  \\\n",
       "0  1971.06  FINAL          0   \n",
       "1  1972.06  FINAL          0   \n",
       "2  1973.06  FINAL          0   \n",
       "3  1974.06  FINAL          0   \n",
       "4  1975.06  FINAL          0   \n",
       "\n",
       "                                             subject        data  units  \\\n",
       "0  Overseas Trade Indexes - Volumes and Values - OTV  369.135776  Index   \n",
       "1  Overseas Trade Indexes - Volumes and Values - OTV  376.398285  Index   \n",
       "2  Overseas Trade Indexes - Volumes and Values - OTV  415.590787  Index   \n",
       "3  Overseas Trade Indexes - Volumes and Values - OTV  375.020912  Index   \n",
       "4  Overseas Trade Indexes - Volumes and Values - OTV  400.815339  Index   \n",
       "\n",
       "  series_1  \n",
       "0   Volume  \n",
       "1   Volume  \n",
       "2   Volume  \n",
       "3   Volume  \n",
       "4   Volume  "
      ]
     },
     "execution_count": 22,
     "metadata": {},
     "output_type": "execute_result"
    }
   ],
   "source": [
    "data.head()"
   ]
  },
  {
   "cell_type": "code",
   "execution_count": 23,
   "id": "51e2a234",
   "metadata": {},
   "outputs": [
    {
     "name": "stderr",
     "output_type": "stream",
     "text": [
      "e:\\softwares\\python setup\\lib\\site-packages\\seaborn\\distributions.py:2619: FutureWarning: `distplot` is a deprecated function and will be removed in a future version. Please adapt your code to use either `displot` (a figure-level function with similar flexibility) or `histplot` (an axes-level function for histograms).\n",
      "  warnings.warn(msg, FutureWarning)\n"
     ]
    },
    {
     "data": {
      "image/png": "[encoded data removed]",
      "text/plain": [
       "<Figure size 432x288 with 1 Axes>"
      ]
     },
     "metadata": {
      "needs_background": "light"
     },
     "output_type": "display_data"
    }
   ],
   "source": [
    "sns.distplot(data[\"period\"], color = 'g')\n",
    "# sns.title(\"Period value\")\n",
    "plt.show()"
   ]
  },
  {
   "cell_type": "code",
   "execution_count": 24,
   "id": "e6628dd3",
   "metadata": {},
   "outputs": [
    {
     "data": {
      "text/plain": [
       "Index(['Overseas Trade Indexes - Volumes and Values - OTV', 'Overseas Trade Indexes - Prices - OTP'], dtype='object')"
      ]
     },
     "execution_count": 24,
     "metadata": {},
     "output_type": "execute_result"
    }
   ],
   "source": [
    "data[\"subject\"].value_counts().keys()"
   ]
  },
  {
   "cell_type": "code",
   "execution_count": 25,
   "id": "16359cf6",
   "metadata": {},
   "outputs": [
    {
     "name": "stderr",
     "output_type": "stream",
     "text": [
      "e:\\softwares\\python setup\\lib\\site-packages\\seaborn\\_decorators.py:36: FutureWarning: Pass the following variables as keyword args: x, y. From version 0.12, the only valid positional argument will be `data`, and passing other arguments without an explicit keyword will result in an error or misinterpretation.\n",
      "  warnings.warn(\n"
     ]
    },
    {
     "data": {
      "image/png": "[encoded data removed]",
      "text/plain": [
       "<Figure size 432x288 with 1 Axes>"
      ]
     },
     "metadata": {
      "needs_background": "light"
     },
     "output_type": "display_data"
    }
   ],
   "source": [
    "sns.barplot(list((\"1st_sub\", \"2nd_sub\")), list(data[\"subject\"].value_counts()))\n",
    "plt.show()"
   ]
  },
  {
   "cell_type": "code",
   "execution_count": 26,
   "id": "b4d54a97",
   "metadata": {},
   "outputs": [
    {
     "data": {
      "text/plain": [
       "<bound method NDFrame._add_numeric_operations.<locals>.median of 0         369.135776\\n1         376.398285\\n2         415.590787\\n3         375.020912\\n4         400.815339\\n            ...     \\n97254    1477.710217\\n97255    1463.018764\\n97256    1488.259734\\n97257    1514.944391\\n97258    1542.462841\\nName: Data_value, Length: 97259, dtype: float64>    591\n",
       "1000.0                                                                                                                                                                                                                                                                                                                                                                 271\n",
       "0.0                                                                                                                                                                                                                                                                                                                                                                     92\n",
       "0.6                                                                                                                                                                                                                                                                                                                                                                     31\n",
       "1.3                                                                                                                                                                                                                                                                                                                                                                     28\n",
       "                                                                                                                                                                                                                                                                                                                                                                      ... \n",
       "905.54203564                                                                                                                                                                                                                                                                                                                                                             1\n",
       "945.25499942                                                                                                                                                                                                                                                                                                                                                             1\n",
       "1014.9242901                                                                                                                                                                                                                                                                                                                                                             1\n",
       "1023.3670734                                                                                                                                                                                                                                                                                                                                                             1\n",
       "1542.4628409                                                                                                                                                                                                                                                                                                                                                             1\n",
       "Name: data, Length: 90312, dtype: int64"
      ]
     },
     "execution_count": 26,
     "metadata": {},
     "output_type": "execute_result"
    }
   ],
   "source": [
    "data[\"data\"].value_counts()"
   ]
  },
  {
   "cell_type": "code",
   "execution_count": 27,
   "id": "81bc0a05",
   "metadata": {},
   "outputs": [],
   "source": [
    "gtak = pd.read_csv(\"GTALK.csv\")"
   ]
  },
  {
   "cell_type": "code",
   "execution_count": 28,
   "id": "bc93660e",
   "metadata": {},
   "outputs": [],
   "source": [
    "dat = gtak.iloc[:,:6]"
   ]
  },
  {
   "cell_type": "code",
   "execution_count": 29,
   "id": "daca36b9",
   "metadata": {},
   "outputs": [],
   "source": [
    "dat = dat.rename(columns = {\"min_fpktl\": \"mink\",\n",
    "                              \"mean_fpktl\": \"meank\",\n",
    "                              \"max_fpktl\" : \"maxk\", \n",
    "                              \"std_fpktl\": \"stdk\", \n",
    "                              \"min_bpktl\": \"minb\",\n",
    "                              \"mean_bpktl\": \"meanb\"\n",
    "                             })"
   ]
  },
  {
   "cell_type": "code",
   "execution_count": 30,
   "id": "0d861fc8",
   "metadata": {},
   "outputs": [],
   "source": [
    "pro = (gtak[\"proto\"] == 6)\n",
    "dat[\"proto\"] = pro"
   ]
  },
  {
   "cell_type": "code",
   "execution_count": 31,
   "id": "8d402606",
   "metadata": {},
   "outputs": [],
   "source": [
    "xe =dat.drop(\"proto\", axis = 1)"
   ]
  },
  {
   "cell_type": "code",
   "execution_count": null,
   "id": "6c80023c",
   "metadata": {},
   "outputs": [],
   "source": []
  },
  {
   "cell_type": "markdown",
   "id": "1178ae96",
   "metadata": {},
   "source": [
    "#  MODEL  1 (CLASSIFIOR)"
   ]
  },
  {
   "cell_type": "code",
   "execution_count": 32,
   "id": "7d088265",
   "metadata": {},
   "outputs": [],
   "source": [
    "x = xe.drop(\"meanb\", axis = 1)\n",
    "# x = data.drop(\"series_1\", axis = 1)"
   ]
  },
  {
   "cell_type": "code",
   "execution_count": 33,
   "id": "70ac173d",
   "metadata": {},
   "outputs": [],
   "source": [
    "y = dat[[\"proto\"]]\n",
    "# y = data[[\"series_1\"]]"
   ]
  },
  {
   "cell_type": "code",
   "execution_count": 34,
   "id": "5af30d0c",
   "metadata": {},
   "outputs": [],
   "source": [
    "from sklearn.model_selection import train_test_split"
   ]
  },
  {
   "cell_type": "code",
   "execution_count": 35,
   "id": "0bcf3b6a",
   "metadata": {},
   "outputs": [],
   "source": [
    "x_train,x_test,y_train,y_test = train_test_split(x,y, test_size = 0.3)"
   ]
  },
  {
   "cell_type": "code",
   "execution_count": 36,
   "id": "8f1f6dc7",
   "metadata": {},
   "outputs": [],
   "source": [
    "from sklearn.svm import SVC"
   ]
  },
  {
   "cell_type": "code",
   "execution_count": 37,
   "id": "ccf6f314",
   "metadata": {},
   "outputs": [],
   "source": [
    "sv = SVC(tol = 0.4,gamma='auto')\n",
    "import warnings\n",
    "warnings.filterwarnings('ignore')"
   ]
  },
  {
   "cell_type": "code",
   "execution_count": 38,
   "id": "9732faf3",
   "metadata": {},
   "outputs": [
    {
     "data": {
      "text/plain": [
       "SVC(gamma='auto', tol=0.4)"
      ]
     },
     "execution_count": 38,
     "metadata": {},
     "output_type": "execute_result"
    }
   ],
   "source": [
    "sv.fit(x,y)"
   ]
  },
  {
   "cell_type": "code",
   "execution_count": 39,
   "id": "708483db",
   "metadata": {},
   "outputs": [],
   "source": [
    "y_pre = sv.predict(x_test)"
   ]
  },
  {
   "cell_type": "code",
   "execution_count": 40,
   "id": "fc90cf25",
   "metadata": {},
   "outputs": [
    {
     "data": {
      "text/html": [
       "<div>\n",
       "<style scoped>\n",
       "    .dataframe tbody tr th:only-of-type {\n",
       "        vertical-align: middle;\n",
       "    }\n",
       "\n",
       "    .dataframe tbody tr th {\n",
       "        vertical-align: top;\n",
       "    }\n",
       "\n",
       "    .dataframe thead th {\n",
       "        text-align: right;\n",
       "    }\n",
       "</style>\n",
       "<table border=\"1\" class=\"dataframe\">\n",
       "  <thead>\n",
       "    <tr style=\"text-align: right;\">\n",
       "      <th></th>\n",
       "      <th>proto</th>\n",
       "    </tr>\n",
       "  </thead>\n",
       "  <tbody>\n",
       "    <tr>\n",
       "      <th>219897</th>\n",
       "      <td>False</td>\n",
       "    </tr>\n",
       "    <tr>\n",
       "      <th>249478</th>\n",
       "      <td>False</td>\n",
       "    </tr>\n",
       "    <tr>\n",
       "      <th>216152</th>\n",
       "      <td>True</td>\n",
       "    </tr>\n",
       "    <tr>\n",
       "      <th>11321</th>\n",
       "      <td>False</td>\n",
       "    </tr>\n",
       "    <tr>\n",
       "      <th>155950</th>\n",
       "      <td>False</td>\n",
       "    </tr>\n",
       "  </tbody>\n",
       "</table>\n",
       "</div>"
      ],
      "text/plain": [
       "        proto\n",
       "219897  False\n",
       "249478  False\n",
       "216152   True\n",
       "11321   False\n",
       "155950  False"
      ]
     },
     "execution_count": 40,
     "metadata": {},
     "output_type": "execute_result"
    }
   ],
   "source": [
    "y_test.head()"
   ]
  },
  {
   "cell_type": "code",
   "execution_count": 41,
   "id": "d5939797",
   "metadata": {},
   "outputs": [
    {
     "data": {
      "text/plain": [
       "array([False, False,  True, False, False])"
      ]
     },
     "execution_count": 41,
     "metadata": {},
     "output_type": "execute_result"
    }
   ],
   "source": [
    "y_pre[:5]"
   ]
  },
  {
   "cell_type": "code",
   "execution_count": 42,
   "id": "9c6cf8a9",
   "metadata": {},
   "outputs": [],
   "source": [
    "from sklearn.metrics import confusion_matrix"
   ]
  },
  {
   "cell_type": "code",
   "execution_count": 43,
   "id": "1086fdbe",
   "metadata": {},
   "outputs": [
    {
     "data": {
      "text/plain": [
       "array([[61473,     0],\n",
       "       [    0, 29048]], dtype=int64)"
      ]
     },
     "execution_count": 43,
     "metadata": {},
     "output_type": "execute_result"
    }
   ],
   "source": [
    "confusion_matrix(y_test,y_pre)"
   ]
  },
  {
   "cell_type": "code",
   "execution_count": 44,
   "id": "1fc29f3b",
   "metadata": {},
   "outputs": [
    {
     "data": {
      "text/plain": [
       "90521.47705763331"
      ]
     },
     "execution_count": 44,
     "metadata": {},
     "output_type": "execute_result"
    }
   ],
   "source": [
    "61284+29236/61284+29236+1"
   ]
  },
  {
   "cell_type": "code",
   "execution_count": 45,
   "id": "2978045a",
   "metadata": {},
   "outputs": [
    {
     "data": {
      "image/png": "[encoded data removed]",
      "text/plain": [
       "<Figure size 432x288 with 2 Axes>"
      ]
     },
     "metadata": {
      "needs_background": "light"
     },
     "output_type": "display_data"
    }
   ],
   "source": [
    "sns.heatmap(confusion_matrix(y_test,y_pre),\n",
    "                annot = True,\n",
    "                );"
   ]
  },
  {
   "cell_type": "markdown",
   "id": "5a2567ab",
   "metadata": {},
   "source": [
    "# MODEL 2(REGRASSION)"
   ]
  },
  {
   "cell_type": "code",
   "execution_count": 46,
   "id": "79cf1894",
   "metadata": {},
   "outputs": [
    {
     "data": {
      "text/html": [
       "<div>\n",
       "<style scoped>\n",
       "    .dataframe tbody tr th:only-of-type {\n",
       "        vertical-align: middle;\n",
       "    }\n",
       "\n",
       "    .dataframe tbody tr th {\n",
       "        vertical-align: top;\n",
       "    }\n",
       "\n",
       "    .dataframe thead th {\n",
       "        text-align: right;\n",
       "    }\n",
       "</style>\n",
       "<table border=\"1\" class=\"dataframe\">\n",
       "  <thead>\n",
       "    <tr style=\"text-align: right;\">\n",
       "      <th></th>\n",
       "      <th>mink</th>\n",
       "      <th>meank</th>\n",
       "      <th>maxk</th>\n",
       "      <th>stdk</th>\n",
       "      <th>minb</th>\n",
       "      <th>meanb</th>\n",
       "    </tr>\n",
       "  </thead>\n",
       "  <tbody>\n",
       "    <tr>\n",
       "      <th>0</th>\n",
       "      <td>53</td>\n",
       "      <td>64</td>\n",
       "      <td>96</td>\n",
       "      <td>17</td>\n",
       "      <td>53</td>\n",
       "      <td>64</td>\n",
       "    </tr>\n",
       "    <tr>\n",
       "      <th>1</th>\n",
       "      <td>53</td>\n",
       "      <td>64</td>\n",
       "      <td>96</td>\n",
       "      <td>17</td>\n",
       "      <td>53</td>\n",
       "      <td>64</td>\n",
       "    </tr>\n",
       "    <tr>\n",
       "      <th>2</th>\n",
       "      <td>53</td>\n",
       "      <td>64</td>\n",
       "      <td>96</td>\n",
       "      <td>17</td>\n",
       "      <td>53</td>\n",
       "      <td>64</td>\n",
       "    </tr>\n",
       "    <tr>\n",
       "      <th>3</th>\n",
       "      <td>53</td>\n",
       "      <td>64</td>\n",
       "      <td>96</td>\n",
       "      <td>17</td>\n",
       "      <td>53</td>\n",
       "      <td>64</td>\n",
       "    </tr>\n",
       "    <tr>\n",
       "      <th>4</th>\n",
       "      <td>53</td>\n",
       "      <td>64</td>\n",
       "      <td>96</td>\n",
       "      <td>17</td>\n",
       "      <td>53</td>\n",
       "      <td>64</td>\n",
       "    </tr>\n",
       "  </tbody>\n",
       "</table>\n",
       "</div>"
      ],
      "text/plain": [
       "   mink  meank  maxk  stdk  minb  meanb\n",
       "0    53     64    96    17    53     64\n",
       "1    53     64    96    17    53     64\n",
       "2    53     64    96    17    53     64\n",
       "3    53     64    96    17    53     64\n",
       "4    53     64    96    17    53     64"
      ]
     },
     "execution_count": 46,
     "metadata": {},
     "output_type": "execute_result"
    }
   ],
   "source": [
    "xe.head()"
   ]
  },
  {
   "cell_type": "code",
   "execution_count": 47,
   "id": "e74c57dc",
   "metadata": {},
   "outputs": [],
   "source": [
    "xx = xe.drop(\"meanb\", axis = 1)\n",
    "yy = xe[\"meanb\"]"
   ]
  },
  {
   "cell_type": "code",
   "execution_count": 48,
   "id": "b1e38c56",
   "metadata": {},
   "outputs": [],
   "source": [
    "from sklearn.model_selection import train_test_split\n",
    "x_train,x_test,y_train,y_test = train_test_split(xx,yy, test_size = 0.3, random_state = 42)"
   ]
  },
  {
   "cell_type": "code",
   "execution_count": 49,
   "id": "0d5d2604",
   "metadata": {},
   "outputs": [],
   "source": [
    "from sklearn.svm import SVR \n",
    "sv = SVR()"
   ]
  },
  {
   "cell_type": "code",
   "execution_count": null,
   "id": "994446b3",
   "metadata": {},
   "outputs": [],
   "source": [
    "sv.fit(x_train,y_train)"
   ]
  },
  {
   "cell_type": "code",
   "execution_count": null,
   "id": "833ec090",
   "metadata": {},
   "outputs": [],
   "source": [
    "pre = sv.predict(y_train)"
   ]
  },
  {
   "cell_type": "code",
   "execution_count": null,
   "id": "06b538bd",
   "metadata": {},
   "outputs": [],
   "source": [
    "pre[:5]"
   ]
  },
  {
   "cell_type": "code",
   "execution_count": null,
   "id": "8cf6d7a8",
   "metadata": {},
   "outputs": [],
   "source": [
    "y_test.head()"
   ]
  },
  {
   "cell_type": "code",
   "execution_count": null,
   "id": "d4718b75",
   "metadata": {},
   "outputs": [],
   "source": [
    "from sklearn.metrics import mean_squared_error"
   ]
  },
  {
   "cell_type": "code",
   "execution_count": null,
   "id": "7ee037b5",
   "metadata": {},
   "outputs": [],
   "source": [
    "mean_squared_error(y_test,y_pre)"
   ]
  },
  {
   "cell_type": "code",
   "execution_count": null,
   "id": "a56256de",
   "metadata": {},
   "outputs": [],
   "source": []
  }
 ],
 "metadata": {
  "kernelspec": {
   "display_name": "Python 3 (ipykernel)",
   "language": "python",
   "name": "python3"
  },
  "language_info": {
   "codemirror_mode": {
    "name": "ipython",
    "version": 3
   },
   "file_extension": ".py",
   "mimetype": "text/x-python",
   "name": "python",
   "nbconvert_exporter": "python",
   "pygments_lexer": "ipython3",
   "version": "3.9.0"
  }
 },
 "nbformat": 4,
 "nbformat_minor": 5
}
