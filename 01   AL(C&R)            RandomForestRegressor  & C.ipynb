{
 "cells": [
  {
   "cell_type": "code",
   "execution_count": 1,
   "id": "18521e48",
   "metadata": {},
   "outputs": [],
   "source": [
    "import pandas as pd\n",
    "import matplotlib.pyplot as plt\n",
    "import seaborn as sns\n",
    "import numpy as np"
   ]
  },
  {
   "cell_type": "code",
   "execution_count": 67,
   "id": "9e736b63",
   "metadata": {},
   "outputs": [
    {
     "data": {
      "text/plain": [
       "(301735, 23)"
      ]
     },
     "execution_count": 67,
     "metadata": {},
     "output_type": "execute_result"
    }
   ],
   "source": [
    "gtak = pd.read_csv(\"GTALK.csv\")\n",
    "gtak.shape"
   ]
  },
  {
   "cell_type": "code",
   "execution_count": 3,
   "id": "9445eaf7",
   "metadata": {},
   "outputs": [
    {
     "data": {
      "text/html": [
       "<div>\n",
       "<style scoped>\n",
       "    .dataframe tbody tr th:only-of-type {\n",
       "        vertical-align: middle;\n",
       "    }\n",
       "\n",
       "    .dataframe tbody tr th {\n",
       "        vertical-align: top;\n",
       "    }\n",
       "\n",
       "    .dataframe thead th {\n",
       "        text-align: right;\n",
       "    }\n",
       "</style>\n",
       "<table border=\"1\" class=\"dataframe\">\n",
       "  <thead>\n",
       "    <tr style=\"text-align: right;\">\n",
       "      <th></th>\n",
       "      <th>min_fpktl</th>\n",
       "      <th>mean_fpktl</th>\n",
       "      <th>max_fpktl</th>\n",
       "      <th>std_fpktl</th>\n",
       "      <th>min_bpktl</th>\n",
       "      <th>mean_bpktl</th>\n",
       "      <th>max_bpktl</th>\n",
       "      <th>std_bpktl</th>\n",
       "      <th>min_fiat</th>\n",
       "      <th>mean_fiat</th>\n",
       "      <th>...</th>\n",
       "      <th>mean_biat</th>\n",
       "      <th>max_biat</th>\n",
       "      <th>std_biat</th>\n",
       "      <th>duration</th>\n",
       "      <th>proto</th>\n",
       "      <th>total_fpackets</th>\n",
       "      <th>total_fvolume</th>\n",
       "      <th>total_bpackets</th>\n",
       "      <th>total_bvolume</th>\n",
       "      <th>class</th>\n",
       "    </tr>\n",
       "  </thead>\n",
       "  <tbody>\n",
       "    <tr>\n",
       "      <th>0</th>\n",
       "      <td>53</td>\n",
       "      <td>64</td>\n",
       "      <td>96</td>\n",
       "      <td>17</td>\n",
       "      <td>53</td>\n",
       "      <td>64</td>\n",
       "      <td>96</td>\n",
       "      <td>17</td>\n",
       "      <td>3441</td>\n",
       "      <td>72824</td>\n",
       "      <td>...</td>\n",
       "      <td>72770</td>\n",
       "      <td>117346</td>\n",
       "      <td>35131</td>\n",
       "      <td>9973290</td>\n",
       "      <td>17</td>\n",
       "      <td>137</td>\n",
       "      <td>8815</td>\n",
       "      <td>138</td>\n",
       "      <td>8868</td>\n",
       "      <td>NOTGTALK</td>\n",
       "    </tr>\n",
       "    <tr>\n",
       "      <th>1</th>\n",
       "      <td>53</td>\n",
       "      <td>64</td>\n",
       "      <td>96</td>\n",
       "      <td>17</td>\n",
       "      <td>53</td>\n",
       "      <td>64</td>\n",
       "      <td>96</td>\n",
       "      <td>17</td>\n",
       "      <td>733</td>\n",
       "      <td>73233</td>\n",
       "      <td>...</td>\n",
       "      <td>73640</td>\n",
       "      <td>159544</td>\n",
       "      <td>36158</td>\n",
       "      <td>19992843</td>\n",
       "      <td>17</td>\n",
       "      <td>274</td>\n",
       "      <td>17630</td>\n",
       "      <td>272</td>\n",
       "      <td>17524</td>\n",
       "      <td>NOTGTALK</td>\n",
       "    </tr>\n",
       "    <tr>\n",
       "      <th>2</th>\n",
       "      <td>53</td>\n",
       "      <td>64</td>\n",
       "      <td>96</td>\n",
       "      <td>17</td>\n",
       "      <td>53</td>\n",
       "      <td>64</td>\n",
       "      <td>96</td>\n",
       "      <td>17</td>\n",
       "      <td>297</td>\n",
       "      <td>73753</td>\n",
       "      <td>...</td>\n",
       "      <td>74109</td>\n",
       "      <td>169928</td>\n",
       "      <td>36782</td>\n",
       "      <td>29870275</td>\n",
       "      <td>17</td>\n",
       "      <td>406</td>\n",
       "      <td>26106</td>\n",
       "      <td>404</td>\n",
       "      <td>26000</td>\n",
       "      <td>NOTGTALK</td>\n",
       "    </tr>\n",
       "    <tr>\n",
       "      <th>3</th>\n",
       "      <td>53</td>\n",
       "      <td>64</td>\n",
       "      <td>96</td>\n",
       "      <td>17</td>\n",
       "      <td>53</td>\n",
       "      <td>64</td>\n",
       "      <td>96</td>\n",
       "      <td>17</td>\n",
       "      <td>297</td>\n",
       "      <td>74110</td>\n",
       "      <td>...</td>\n",
       "      <td>74872</td>\n",
       "      <td>169928</td>\n",
       "      <td>37322</td>\n",
       "      <td>39910976</td>\n",
       "      <td>17</td>\n",
       "      <td>539</td>\n",
       "      <td>34709</td>\n",
       "      <td>534</td>\n",
       "      <td>34444</td>\n",
       "      <td>NOTGTALK</td>\n",
       "    </tr>\n",
       "    <tr>\n",
       "      <th>4</th>\n",
       "      <td>53</td>\n",
       "      <td>64</td>\n",
       "      <td>96</td>\n",
       "      <td>17</td>\n",
       "      <td>53</td>\n",
       "      <td>64</td>\n",
       "      <td>96</td>\n",
       "      <td>17</td>\n",
       "      <td>297</td>\n",
       "      <td>74298</td>\n",
       "      <td>...</td>\n",
       "      <td>75446</td>\n",
       "      <td>169928</td>\n",
       "      <td>37403</td>\n",
       "      <td>49949059</td>\n",
       "      <td>17</td>\n",
       "      <td>673</td>\n",
       "      <td>43322</td>\n",
       "      <td>663</td>\n",
       "      <td>42804</td>\n",
       "      <td>NOTGTALK</td>\n",
       "    </tr>\n",
       "  </tbody>\n",
       "</table>\n",
       "<p>5 rows × 23 columns</p>\n",
       "</div>"
      ],
      "text/plain": [
       "   min_fpktl  mean_fpktl  max_fpktl  std_fpktl  min_bpktl  mean_bpktl  \\\n",
       "0         53          64         96         17         53          64   \n",
       "1         53          64         96         17         53          64   \n",
       "2         53          64         96         17         53          64   \n",
       "3         53          64         96         17         53          64   \n",
       "4         53          64         96         17         53          64   \n",
       "\n",
       "   max_bpktl  std_bpktl  min_fiat  mean_fiat  ...  mean_biat  max_biat  \\\n",
       "0         96         17      3441      72824  ...      72770    117346   \n",
       "1         96         17       733      73233  ...      73640    159544   \n",
       "2         96         17       297      73753  ...      74109    169928   \n",
       "3         96         17       297      74110  ...      74872    169928   \n",
       "4         96         17       297      74298  ...      75446    169928   \n",
       "\n",
       "   std_biat  duration  proto  total_fpackets  total_fvolume  total_bpackets  \\\n",
       "0     35131   9973290     17             137           8815             138   \n",
       "1     36158  19992843     17             274          17630             272   \n",
       "2     36782  29870275     17             406          26106             404   \n",
       "3     37322  39910976     17             539          34709             534   \n",
       "4     37403  49949059     17             673          43322             663   \n",
       "\n",
       "   total_bvolume     class  \n",
       "0           8868  NOTGTALK  \n",
       "1          17524  NOTGTALK  \n",
       "2          26000  NOTGTALK  \n",
       "3          34444  NOTGTALK  \n",
       "4          42804  NOTGTALK  \n",
       "\n",
       "[5 rows x 23 columns]"
      ]
     },
     "execution_count": 3,
     "metadata": {},
     "output_type": "execute_result"
    }
   ],
   "source": [
    "gtak.head()"
   ]
  },
  {
   "cell_type": "code",
   "execution_count": 72,
   "id": "50e958c1",
   "metadata": {},
   "outputs": [],
   "source": [
    "# sns.barplot((gtak.iloc[:,:21]), (gtak[\"total_bvolume\"]))\n",
    "# plt.show()"
   ]
  },
  {
   "cell_type": "code",
   "execution_count": 49,
   "id": "b0ecdafb",
   "metadata": {},
   "outputs": [
    {
     "data": {
      "text/plain": [
       "17    204369\n",
       "6      97366\n",
       "Name: proto, dtype: int64"
      ]
     },
     "execution_count": 49,
     "metadata": {},
     "output_type": "execute_result"
    }
   ],
   "source": [
    "gtak[\"proto\"].value_counts()"
   ]
  },
  {
   "cell_type": "code",
   "execution_count": 66,
   "id": "402a2f80",
   "metadata": {},
   "outputs": [
    {
     "name": "stderr",
     "output_type": "stream",
     "text": [
      "e:\\softwares\\python setup\\lib\\site-packages\\seaborn\\_decorators.py:36: FutureWarning: Pass the following variables as keyword args: x, y. From version 0.12, the only valid positional argument will be `data`, and passing other arguments without an explicit keyword will result in an error or misinterpretation.\n",
      "  warnings.warn(\n"
     ]
    },
    {
     "data": {
      "image/png": "[encoded data removed]",
      "text/plain": [
       "<Figure size 432x288 with 1 Axes>"
      ]
     },
     "metadata": {
      "needs_background": "light"
     },
     "output_type": "display_data"
    }
   ],
   "source": [
    "sns.barplot(list(gtak[\"proto\"].value_counts().keys()), list(gtak[\"proto\"].value_counts().values))\n",
    "plt.show()"
   ]
  },
  {
   "cell_type": "code",
   "execution_count": 4,
   "id": "cf26fe01",
   "metadata": {},
   "outputs": [
    {
     "name": "stderr",
     "output_type": "stream",
     "text": [
      "e:\\softwares\\python setup\\lib\\site-packages\\seaborn\\distributions.py:2619: FutureWarning: `distplot` is a deprecated function and will be removed in a future version. Please adapt your code to use either `displot` (a figure-level function with similar flexibility) or `histplot` (an axes-level function for histograms).\n",
      "  warnings.warn(msg, FutureWarning)\n"
     ]
    },
    {
     "data": {
      "image/png": "[encoded data removed]",
      "text/plain": [
       "<Figure size 432x288 with 1 Axes>"
      ]
     },
     "metadata": {
      "needs_background": "light"
     },
     "output_type": "display_data"
    }
   ],
   "source": [
    "sns.distplot(gtak[\"proto\"])\n",
    "plt.show()"
   ]
  },
  {
   "cell_type": "code",
   "execution_count": 47,
   "id": "235e7be1",
   "metadata": {},
   "outputs": [
    {
     "name": "stderr",
     "output_type": "stream",
     "text": [
      "e:\\softwares\\python setup\\lib\\site-packages\\seaborn\\distributions.py:2619: FutureWarning: `distplot` is a deprecated function and will be removed in a future version. Please adapt your code to use either `displot` (a figure-level function with similar flexibility) or `histplot` (an axes-level function for histograms).\n",
      "  warnings.warn(msg, FutureWarning)\n"
     ]
    },
    {
     "data": {
      "image/png": "[encoded data removed]",
      "text/plain": [
       "<Figure size 432x288 with 1 Axes>"
      ]
     },
     "metadata": {
      "needs_background": "light"
     },
     "output_type": "display_data"
    }
   ],
   "source": [
    "sns.distplot(gtak[\"total_fpackets\"])\n",
    "plt.show()"
   ]
  },
  {
   "cell_type": "code",
   "execution_count": 51,
   "id": "42ec362e",
   "metadata": {},
   "outputs": [],
   "source": [
    "data = gtak.iloc[:,:6]"
   ]
  },
  {
   "cell_type": "code",
   "execution_count": 52,
   "id": "e0c4df13",
   "metadata": {},
   "outputs": [
    {
     "data": {
      "text/html": [
       "<div>\n",
       "<style scoped>\n",
       "    .dataframe tbody tr th:only-of-type {\n",
       "        vertical-align: middle;\n",
       "    }\n",
       "\n",
       "    .dataframe tbody tr th {\n",
       "        vertical-align: top;\n",
       "    }\n",
       "\n",
       "    .dataframe thead th {\n",
       "        text-align: right;\n",
       "    }\n",
       "</style>\n",
       "<table border=\"1\" class=\"dataframe\">\n",
       "  <thead>\n",
       "    <tr style=\"text-align: right;\">\n",
       "      <th></th>\n",
       "      <th>min_fpktl</th>\n",
       "      <th>mean_fpktl</th>\n",
       "      <th>max_fpktl</th>\n",
       "      <th>std_fpktl</th>\n",
       "      <th>min_bpktl</th>\n",
       "      <th>mean_bpktl</th>\n",
       "    </tr>\n",
       "  </thead>\n",
       "  <tbody>\n",
       "    <tr>\n",
       "      <th>0</th>\n",
       "      <td>53</td>\n",
       "      <td>64</td>\n",
       "      <td>96</td>\n",
       "      <td>17</td>\n",
       "      <td>53</td>\n",
       "      <td>64</td>\n",
       "    </tr>\n",
       "    <tr>\n",
       "      <th>1</th>\n",
       "      <td>53</td>\n",
       "      <td>64</td>\n",
       "      <td>96</td>\n",
       "      <td>17</td>\n",
       "      <td>53</td>\n",
       "      <td>64</td>\n",
       "    </tr>\n",
       "    <tr>\n",
       "      <th>2</th>\n",
       "      <td>53</td>\n",
       "      <td>64</td>\n",
       "      <td>96</td>\n",
       "      <td>17</td>\n",
       "      <td>53</td>\n",
       "      <td>64</td>\n",
       "    </tr>\n",
       "    <tr>\n",
       "      <th>3</th>\n",
       "      <td>53</td>\n",
       "      <td>64</td>\n",
       "      <td>96</td>\n",
       "      <td>17</td>\n",
       "      <td>53</td>\n",
       "      <td>64</td>\n",
       "    </tr>\n",
       "    <tr>\n",
       "      <th>4</th>\n",
       "      <td>53</td>\n",
       "      <td>64</td>\n",
       "      <td>96</td>\n",
       "      <td>17</td>\n",
       "      <td>53</td>\n",
       "      <td>64</td>\n",
       "    </tr>\n",
       "  </tbody>\n",
       "</table>\n",
       "</div>"
      ],
      "text/plain": [
       "   min_fpktl  mean_fpktl  max_fpktl  std_fpktl  min_bpktl  mean_bpktl\n",
       "0         53          64         96         17         53          64\n",
       "1         53          64         96         17         53          64\n",
       "2         53          64         96         17         53          64\n",
       "3         53          64         96         17         53          64\n",
       "4         53          64         96         17         53          64"
      ]
     },
     "execution_count": 52,
     "metadata": {},
     "output_type": "execute_result"
    }
   ],
   "source": [
    "data.head()"
   ]
  },
  {
   "cell_type": "code",
   "execution_count": 54,
   "id": "f007eede",
   "metadata": {},
   "outputs": [
    {
     "data": {
      "text/plain": [
       "(849,)"
      ]
     },
     "execution_count": 54,
     "metadata": {},
     "output_type": "execute_result"
    }
   ],
   "source": [
    "data[\"mean_bpktl\"].value_counts().shape"
   ]
  },
  {
   "cell_type": "code",
   "execution_count": 57,
   "id": "7da34aa9",
   "metadata": {},
   "outputs": [],
   "source": [
    "data = data.rename(columns = {\"min_fpktl\": \"mink\",\n",
    "                              \"mean_fpktl\": \"meank\",\n",
    "                              \"max_fpktl\" : \"maxk\", \n",
    "                              \"std_fpktl\": \"stdk\", \n",
    "                              \"min_bpktl\": \"minb\",\n",
    "                              \"mean_bpktl\": \"meanb\"\n",
    "                             })"
   ]
  },
  {
   "cell_type": "code",
   "execution_count": 58,
   "id": "430d07ab",
   "metadata": {},
   "outputs": [
    {
     "data": {
      "text/html": [
       "<div>\n",
       "<style scoped>\n",
       "    .dataframe tbody tr th:only-of-type {\n",
       "        vertical-align: middle;\n",
       "    }\n",
       "\n",
       "    .dataframe tbody tr th {\n",
       "        vertical-align: top;\n",
       "    }\n",
       "\n",
       "    .dataframe thead th {\n",
       "        text-align: right;\n",
       "    }\n",
       "</style>\n",
       "<table border=\"1\" class=\"dataframe\">\n",
       "  <thead>\n",
       "    <tr style=\"text-align: right;\">\n",
       "      <th></th>\n",
       "      <th>mink</th>\n",
       "      <th>meank</th>\n",
       "      <th>maxk</th>\n",
       "      <th>stdk</th>\n",
       "      <th>minb</th>\n",
       "      <th>meanb</th>\n",
       "    </tr>\n",
       "  </thead>\n",
       "  <tbody>\n",
       "    <tr>\n",
       "      <th>0</th>\n",
       "      <td>53</td>\n",
       "      <td>64</td>\n",
       "      <td>96</td>\n",
       "      <td>17</td>\n",
       "      <td>53</td>\n",
       "      <td>64</td>\n",
       "    </tr>\n",
       "    <tr>\n",
       "      <th>1</th>\n",
       "      <td>53</td>\n",
       "      <td>64</td>\n",
       "      <td>96</td>\n",
       "      <td>17</td>\n",
       "      <td>53</td>\n",
       "      <td>64</td>\n",
       "    </tr>\n",
       "    <tr>\n",
       "      <th>2</th>\n",
       "      <td>53</td>\n",
       "      <td>64</td>\n",
       "      <td>96</td>\n",
       "      <td>17</td>\n",
       "      <td>53</td>\n",
       "      <td>64</td>\n",
       "    </tr>\n",
       "    <tr>\n",
       "      <th>3</th>\n",
       "      <td>53</td>\n",
       "      <td>64</td>\n",
       "      <td>96</td>\n",
       "      <td>17</td>\n",
       "      <td>53</td>\n",
       "      <td>64</td>\n",
       "    </tr>\n",
       "    <tr>\n",
       "      <th>4</th>\n",
       "      <td>53</td>\n",
       "      <td>64</td>\n",
       "      <td>96</td>\n",
       "      <td>17</td>\n",
       "      <td>53</td>\n",
       "      <td>64</td>\n",
       "    </tr>\n",
       "  </tbody>\n",
       "</table>\n",
       "</div>"
      ],
      "text/plain": [
       "   mink  meank  maxk  stdk  minb  meanb\n",
       "0    53     64    96    17    53     64\n",
       "1    53     64    96    17    53     64\n",
       "2    53     64    96    17    53     64\n",
       "3    53     64    96    17    53     64\n",
       "4    53     64    96    17    53     64"
      ]
     },
     "execution_count": 58,
     "metadata": {},
     "output_type": "execute_result"
    }
   ],
   "source": [
    "data.head()"
   ]
  },
  {
   "cell_type": "code",
   "execution_count": 61,
   "id": "c78952e0",
   "metadata": {},
   "outputs": [
    {
     "data": {
      "text/plain": [
       "(48     0.290755\n",
       " 64     0.238981\n",
       " 84     0.086245\n",
       " 42     0.041023\n",
       " 76     0.023289\n",
       "          ...   \n",
       " 286    0.000003\n",
       " 302    0.000003\n",
       " 284    0.000003\n",
       " 891    0.000003\n",
       " 354    0.000003\n",
       " Name: meank, Length: 526, dtype: float64,\n",
       " 48     87731\n",
       " 64     72109\n",
       " 84     26023\n",
       " 42     12378\n",
       " 76      7027\n",
       "        ...  \n",
       " 286        1\n",
       " 302        1\n",
       " 284        1\n",
       " 891        1\n",
       " 354        1\n",
       " Name: meank, Length: 526, dtype: int64)"
      ]
     },
     "execution_count": 61,
     "metadata": {},
     "output_type": "execute_result"
    }
   ],
   "source": [
    "data[\"meank\"].value_counts(normalize = True),data[\"meank\"].value_counts()"
   ]
  },
  {
   "cell_type": "code",
   "execution_count": 11,
   "id": "f5da2bfb",
   "metadata": {},
   "outputs": [
    {
     "name": "stderr",
     "output_type": "stream",
     "text": [
      "e:\\softwares\\python setup\\lib\\site-packages\\seaborn\\distributions.py:2619: FutureWarning: `distplot` is a deprecated function and will be removed in a future version. Please adapt your code to use either `displot` (a figure-level function with similar flexibility) or `histplot` (an axes-level function for histograms).\n",
      "  warnings.warn(msg, FutureWarning)\n"
     ]
    },
    {
     "data": {
      "image/png": "[encoded data removed]",
      "text/plain": [
       "<Figure size 432x288 with 1 Axes>"
      ]
     },
     "metadata": {
      "needs_background": "light"
     },
     "output_type": "display_data"
    }
   ],
   "source": [
    "# data[\"meank\"].value_counts\n",
    "sns.distplot(data[\"meank\"])\n",
    "plt.show()"
   ]
  },
  {
   "cell_type": "code",
   "execution_count": 12,
   "id": "57896978",
   "metadata": {},
   "outputs": [
    {
     "data": {
      "text/html": [
       "<div>\n",
       "<style scoped>\n",
       "    .dataframe tbody tr th:only-of-type {\n",
       "        vertical-align: middle;\n",
       "    }\n",
       "\n",
       "    .dataframe tbody tr th {\n",
       "        vertical-align: top;\n",
       "    }\n",
       "\n",
       "    .dataframe thead th {\n",
       "        text-align: right;\n",
       "    }\n",
       "</style>\n",
       "<table border=\"1\" class=\"dataframe\">\n",
       "  <thead>\n",
       "    <tr style=\"text-align: right;\">\n",
       "      <th></th>\n",
       "      <th>mink</th>\n",
       "      <th>meank</th>\n",
       "      <th>maxk</th>\n",
       "      <th>stdk</th>\n",
       "      <th>minb</th>\n",
       "      <th>meanb</th>\n",
       "    </tr>\n",
       "  </thead>\n",
       "  <tbody>\n",
       "    <tr>\n",
       "      <th>count</th>\n",
       "      <td>301735.000000</td>\n",
       "      <td>301735.000000</td>\n",
       "      <td>301735.000000</td>\n",
       "      <td>301735.000000</td>\n",
       "      <td>301735.000000</td>\n",
       "      <td>301735.000000</td>\n",
       "    </tr>\n",
       "    <tr>\n",
       "      <th>mean</th>\n",
       "      <td>50.766553</td>\n",
       "      <td>117.288594</td>\n",
       "      <td>408.429682</td>\n",
       "      <td>78.887709</td>\n",
       "      <td>31.166040</td>\n",
       "      <td>90.204885</td>\n",
       "    </tr>\n",
       "    <tr>\n",
       "      <th>std</th>\n",
       "      <td>12.546017</td>\n",
       "      <td>176.082959</td>\n",
       "      <td>554.615091</td>\n",
       "      <td>191.199761</td>\n",
       "      <td>31.570332</td>\n",
       "      <td>156.593954</td>\n",
       "    </tr>\n",
       "    <tr>\n",
       "      <th>min</th>\n",
       "      <td>40.000000</td>\n",
       "      <td>40.000000</td>\n",
       "      <td>48.000000</td>\n",
       "      <td>0.000000</td>\n",
       "      <td>-1.000000</td>\n",
       "      <td>-1.000000</td>\n",
       "    </tr>\n",
       "    <tr>\n",
       "      <th>25%</th>\n",
       "      <td>40.000000</td>\n",
       "      <td>48.000000</td>\n",
       "      <td>48.000000</td>\n",
       "      <td>0.000000</td>\n",
       "      <td>-1.000000</td>\n",
       "      <td>-1.000000</td>\n",
       "    </tr>\n",
       "    <tr>\n",
       "      <th>50%</th>\n",
       "      <td>48.000000</td>\n",
       "      <td>64.000000</td>\n",
       "      <td>96.000000</td>\n",
       "      <td>17.000000</td>\n",
       "      <td>40.000000</td>\n",
       "      <td>64.000000</td>\n",
       "    </tr>\n",
       "    <tr>\n",
       "      <th>75%</th>\n",
       "      <td>53.000000</td>\n",
       "      <td>84.000000</td>\n",
       "      <td>685.000000</td>\n",
       "      <td>26.000000</td>\n",
       "      <td>53.000000</td>\n",
       "      <td>72.000000</td>\n",
       "    </tr>\n",
       "    <tr>\n",
       "      <th>max</th>\n",
       "      <td>328.000000</td>\n",
       "      <td>1424.000000</td>\n",
       "      <td>1500.000000</td>\n",
       "      <td>840.000000</td>\n",
       "      <td>400.000000</td>\n",
       "      <td>1497.000000</td>\n",
       "    </tr>\n",
       "  </tbody>\n",
       "</table>\n",
       "</div>"
      ],
      "text/plain": [
       "                mink          meank           maxk           stdk  \\\n",
       "count  301735.000000  301735.000000  301735.000000  301735.000000   \n",
       "mean       50.766553     117.288594     408.429682      78.887709   \n",
       "std        12.546017     176.082959     554.615091     191.199761   \n",
       "min        40.000000      40.000000      48.000000       0.000000   \n",
       "25%        40.000000      48.000000      48.000000       0.000000   \n",
       "50%        48.000000      64.000000      96.000000      17.000000   \n",
       "75%        53.000000      84.000000     685.000000      26.000000   \n",
       "max       328.000000    1424.000000    1500.000000     840.000000   \n",
       "\n",
       "                minb          meanb  \n",
       "count  301735.000000  301735.000000  \n",
       "mean       31.166040      90.204885  \n",
       "std        31.570332     156.593954  \n",
       "min        -1.000000      -1.000000  \n",
       "25%        -1.000000      -1.000000  \n",
       "50%        40.000000      64.000000  \n",
       "75%        53.000000      72.000000  \n",
       "max       400.000000    1497.000000  "
      ]
     },
     "execution_count": 12,
     "metadata": {},
     "output_type": "execute_result"
    }
   ],
   "source": [
    "data.describe()"
   ]
  },
  {
   "cell_type": "code",
   "execution_count": 13,
   "id": "9ac55fd1",
   "metadata": {},
   "outputs": [
    {
     "data": {
      "text/plain": [
       "(301735, 6)"
      ]
     },
     "execution_count": 13,
     "metadata": {},
     "output_type": "execute_result"
    }
   ],
   "source": [
    "data.shape"
   ]
  },
  {
   "cell_type": "code",
   "execution_count": 62,
   "id": "4bd423d5",
   "metadata": {},
   "outputs": [
    {
     "data": {
      "text/plain": [
       "Int64Index([ 48,  64,  84,  42,  76,  41,  43,  61,  40,  62,\n",
       "            ...\n",
       "            509, 489, 475, 399, 513, 286, 302, 284, 891, 354],\n",
       "           dtype='int64', length=526)"
      ]
     },
     "execution_count": 62,
     "metadata": {},
     "output_type": "execute_result"
    }
   ],
   "source": [
    "key = data[\"meank\"].value_counts().keys()\n",
    "key"
   ]
  },
  {
   "cell_type": "code",
   "execution_count": 63,
   "id": "cd2e44b4",
   "metadata": {},
   "outputs": [
    {
     "data": {
      "text/plain": [
       "array([87731, 72109, 26023, 12378,  7027,  6981,  4211,  3586,  3513,\n",
       "        2044,  1584,  1323,  1282,  1256,  1255,  1032,   891,   881,\n",
       "         866,   862,   803,   773,   737,   701,   700,   672,   663,\n",
       "         660,   594,   569,   566,   564,   564,   558,   552,   547,\n",
       "         546,   527,   526,   521,   516,   492,   483,   482,   470,\n",
       "         468,   461,   458,   456,   453,   450,   437,   435,   417,\n",
       "         414,   413,   412,   410,   406,   400,   389,   384,   382,\n",
       "         374,   370,   366,   365,   364,   359,   353,   350,   343,\n",
       "         342,   341,   334,   334,   331,   327,   326,   324,   320,\n",
       "         318,   316,   311,   308,   308,   308,   307,   303,   302,\n",
       "         297,   292,   290,   289,   288,   288,   287,   286,   284,\n",
       "         284,   284,   284,   282,   281,   281,   277,   276,   276,\n",
       "         274,   273,   273,   271,   270,   268,   267,   267,   264,\n",
       "         263,   262,   259,   258,   258,   258,   258,   257,   256,\n",
       "         256,   256,   254,   254,   253,   250,   246,   246,   244,\n",
       "         242,   239,   237,   235,   235,   234,   233,   232,   231,\n",
       "         228,   228,   227,   225,   221,   220,   220,   220,   220,\n",
       "         217,   217,   216,   215,   214,   213,   213,   213,   212,\n",
       "         212,   205,   204,   202,   201,   200,   197,   196,   194,\n",
       "         187,   184,   183,   180,   180,   179,   176,   176,   175,\n",
       "         173,   173,   172,   172,   172,   172,   171,   170,   169,\n",
       "         169,   169,   168,   166,   165,   165,   163,   163,   162,\n",
       "         162,   155,   150,   149,   149,   146,   145,   145,   144,\n",
       "         143,   141,   141,   140,   140,   138,   137,   135,   135,\n",
       "         133,   126,   121,   121,   120,   117,   115,   114,   106,\n",
       "         105,   105,   104,   101,    98,    97,    89,    87,    83,\n",
       "          82,    82,    79,    79,    77,    77,    75,    73,    71,\n",
       "          68,    67,    67,    66,    66,    61,    61,    60,    59,\n",
       "          59,    59,    58,    58,    57,    55,    54,    54,    54,\n",
       "          52,    48,    48,    48,    47,    46,    45,    42,    42,\n",
       "          42,    42,    40,    37,    36,    36,    35,    35,    34,\n",
       "          34,    32,    31,    29,    29,    29,    29,    28,    27,\n",
       "          27,    26,    26,    25,    25,    24,    24,    23,    22,\n",
       "          22,    22,    21,    20,    20,    19,    19,    18,    18,\n",
       "          17,    17,    17,    17,    16,    15,    15,    14,    14,\n",
       "          14,    14,    13,    13,    13,    13,    13,    12,    12,\n",
       "          12,    12,    12,    11,    11,    11,    11,    11,    11,\n",
       "          10,    10,    10,    10,    10,    10,     9,     9,     9,\n",
       "           8,     8,     8,     8,     8,     8,     8,     8,     8,\n",
       "           8,     8,     8,     7,     7,     7,     7,     7,     7,\n",
       "           7,     7,     6,     6,     6,     6,     6,     6,     6,\n",
       "           6,     6,     6,     6,     6,     6,     6,     6,     6,\n",
       "           6,     6,     6,     6,     6,     6,     5,     5,     5,\n",
       "           5,     5,     5,     5,     5,     5,     5,     5,     5,\n",
       "           5,     5,     5,     5,     5,     4,     4,     4,     4,\n",
       "           4,     4,     4,     4,     4,     4,     4,     4,     4,\n",
       "           4,     4,     4,     4,     4,     3,     3,     3,     3,\n",
       "           3,     3,     3,     3,     3,     3,     3,     3,     3,\n",
       "           3,     3,     2,     2,     2,     2,     2,     2,     2,\n",
       "           2,     2,     2,     2,     2,     2,     2,     2,     2,\n",
       "           2,     2,     2,     2,     2,     2,     2,     2,     2,\n",
       "           2,     2,     2,     2,     2,     2,     2,     2,     2,\n",
       "           2,     2,     2,     1,     1,     1,     1,     1,     1,\n",
       "           1,     1,     1,     1,     1,     1,     1,     1,     1,\n",
       "           1,     1,     1,     1,     1,     1,     1,     1,     1,\n",
       "           1,     1,     1,     1,     1,     1,     1,     1,     1,\n",
       "           1,     1,     1,     1,     1,     1,     1,     1,     1,\n",
       "           1,     1,     1,     1,     1,     1,     1,     1,     1,\n",
       "           1,     1,     1,     1], dtype=int64)"
      ]
     },
     "execution_count": 63,
     "metadata": {},
     "output_type": "execute_result"
    }
   ],
   "source": [
    "# val = data[\"meank\"].value_counts().values\n",
    "val = data[\"meank\"].value_counts().values\n",
    "val"
   ]
  },
  {
   "cell_type": "code",
   "execution_count": 16,
   "id": "2423c9fb",
   "metadata": {},
   "outputs": [
    {
     "name": "stderr",
     "output_type": "stream",
     "text": [
      "e:\\softwares\\python setup\\lib\\site-packages\\seaborn\\_decorators.py:36: FutureWarning: Pass the following variables as keyword args: x, y. From version 0.12, the only valid positional argument will be `data`, and passing other arguments without an explicit keyword will result in an error or misinterpretation.\n",
      "  warnings.warn(\n"
     ]
    },
    {
     "data": {
      "image/png": "[encoded data removed]",
      "text/plain": [
       "<Figure size 432x288 with 1 Axes>"
      ]
     },
     "metadata": {
      "needs_background": "light"
     },
     "output_type": "display_data"
    }
   ],
   "source": [
    "sns.barplot(list(key)[:6], list(val)[:6])\n",
    "plt.show()"
   ]
  },
  {
   "cell_type": "code",
   "execution_count": 17,
   "id": "a26510f0",
   "metadata": {},
   "outputs": [
    {
     "data": {
      "text/html": [
       "<div>\n",
       "<style scoped>\n",
       "    .dataframe tbody tr th:only-of-type {\n",
       "        vertical-align: middle;\n",
       "    }\n",
       "\n",
       "    .dataframe tbody tr th {\n",
       "        vertical-align: top;\n",
       "    }\n",
       "\n",
       "    .dataframe thead th {\n",
       "        text-align: right;\n",
       "    }\n",
       "</style>\n",
       "<table border=\"1\" class=\"dataframe\">\n",
       "  <thead>\n",
       "    <tr style=\"text-align: right;\">\n",
       "      <th></th>\n",
       "      <th>mink</th>\n",
       "      <th>meank</th>\n",
       "      <th>maxk</th>\n",
       "      <th>stdk</th>\n",
       "      <th>minb</th>\n",
       "      <th>meanb</th>\n",
       "    </tr>\n",
       "  </thead>\n",
       "  <tbody>\n",
       "    <tr>\n",
       "      <th>0</th>\n",
       "      <td>53</td>\n",
       "      <td>64</td>\n",
       "      <td>96</td>\n",
       "      <td>17</td>\n",
       "      <td>53</td>\n",
       "      <td>64</td>\n",
       "    </tr>\n",
       "    <tr>\n",
       "      <th>1</th>\n",
       "      <td>53</td>\n",
       "      <td>64</td>\n",
       "      <td>96</td>\n",
       "      <td>17</td>\n",
       "      <td>53</td>\n",
       "      <td>64</td>\n",
       "    </tr>\n",
       "    <tr>\n",
       "      <th>2</th>\n",
       "      <td>53</td>\n",
       "      <td>64</td>\n",
       "      <td>96</td>\n",
       "      <td>17</td>\n",
       "      <td>53</td>\n",
       "      <td>64</td>\n",
       "    </tr>\n",
       "    <tr>\n",
       "      <th>3</th>\n",
       "      <td>53</td>\n",
       "      <td>64</td>\n",
       "      <td>96</td>\n",
       "      <td>17</td>\n",
       "      <td>53</td>\n",
       "      <td>64</td>\n",
       "    </tr>\n",
       "    <tr>\n",
       "      <th>4</th>\n",
       "      <td>53</td>\n",
       "      <td>64</td>\n",
       "      <td>96</td>\n",
       "      <td>17</td>\n",
       "      <td>53</td>\n",
       "      <td>64</td>\n",
       "    </tr>\n",
       "  </tbody>\n",
       "</table>\n",
       "</div>"
      ],
      "text/plain": [
       "   mink  meank  maxk  stdk  minb  meanb\n",
       "0    53     64    96    17    53     64\n",
       "1    53     64    96    17    53     64\n",
       "2    53     64    96    17    53     64\n",
       "3    53     64    96    17    53     64\n",
       "4    53     64    96    17    53     64"
      ]
     },
     "execution_count": 17,
     "metadata": {},
     "output_type": "execute_result"
    }
   ],
   "source": [
    "data.head()"
   ]
  },
  {
   "cell_type": "code",
   "execution_count": 74,
   "id": "47d7d9b9",
   "metadata": {},
   "outputs": [
    {
     "data": {
      "text/plain": [
       "0    0\n",
       "1    0\n",
       "2    0\n",
       "3    0\n",
       "4    0\n",
       "Name: proto, dtype: int64"
      ]
     },
     "execution_count": 74,
     "metadata": {},
     "output_type": "execute_result"
    }
   ],
   "source": [
    "pro = (gtak[\"proto\"] == 6).astype(np.int64)\n",
    "# pro = (gtak[\"proto\"] == 6)\n",
    "pro.head()"
   ]
  },
  {
   "cell_type": "code",
   "execution_count": 78,
   "id": "015ac9d8",
   "metadata": {},
   "outputs": [
    {
     "data": {
      "text/plain": [
       "0         0\n",
       "1         0\n",
       "2         0\n",
       "3         0\n",
       "4         0\n",
       "         ..\n",
       "301730    1\n",
       "301731    1\n",
       "301732    0\n",
       "301733    0\n",
       "301734    0\n",
       "Name: proto, Length: 301735, dtype: int64"
      ]
     },
     "execution_count": 78,
     "metadata": {},
     "output_type": "execute_result"
    }
   ],
   "source": [
    "data[\"proto\"] = pro\n",
    "data[\"proto\"]"
   ]
  },
  {
   "cell_type": "code",
   "execution_count": 76,
   "id": "78a8d8b6",
   "metadata": {},
   "outputs": [
    {
     "data": {
      "text/html": [
       "<div>\n",
       "<style scoped>\n",
       "    .dataframe tbody tr th:only-of-type {\n",
       "        vertical-align: middle;\n",
       "    }\n",
       "\n",
       "    .dataframe tbody tr th {\n",
       "        vertical-align: top;\n",
       "    }\n",
       "\n",
       "    .dataframe thead th {\n",
       "        text-align: right;\n",
       "    }\n",
       "</style>\n",
       "<table border=\"1\" class=\"dataframe\">\n",
       "  <thead>\n",
       "    <tr style=\"text-align: right;\">\n",
       "      <th></th>\n",
       "      <th>mink</th>\n",
       "      <th>meank</th>\n",
       "      <th>maxk</th>\n",
       "      <th>stdk</th>\n",
       "      <th>minb</th>\n",
       "      <th>meanb</th>\n",
       "    </tr>\n",
       "  </thead>\n",
       "  <tbody>\n",
       "    <tr>\n",
       "      <th>0</th>\n",
       "      <td>53</td>\n",
       "      <td>64</td>\n",
       "      <td>96</td>\n",
       "      <td>17</td>\n",
       "      <td>53</td>\n",
       "      <td>64</td>\n",
       "    </tr>\n",
       "    <tr>\n",
       "      <th>1</th>\n",
       "      <td>53</td>\n",
       "      <td>64</td>\n",
       "      <td>96</td>\n",
       "      <td>17</td>\n",
       "      <td>53</td>\n",
       "      <td>64</td>\n",
       "    </tr>\n",
       "    <tr>\n",
       "      <th>2</th>\n",
       "      <td>53</td>\n",
       "      <td>64</td>\n",
       "      <td>96</td>\n",
       "      <td>17</td>\n",
       "      <td>53</td>\n",
       "      <td>64</td>\n",
       "    </tr>\n",
       "    <tr>\n",
       "      <th>3</th>\n",
       "      <td>53</td>\n",
       "      <td>64</td>\n",
       "      <td>96</td>\n",
       "      <td>17</td>\n",
       "      <td>53</td>\n",
       "      <td>64</td>\n",
       "    </tr>\n",
       "    <tr>\n",
       "      <th>4</th>\n",
       "      <td>53</td>\n",
       "      <td>64</td>\n",
       "      <td>96</td>\n",
       "      <td>17</td>\n",
       "      <td>53</td>\n",
       "      <td>64</td>\n",
       "    </tr>\n",
       "    <tr>\n",
       "      <th>...</th>\n",
       "      <td>...</td>\n",
       "      <td>...</td>\n",
       "      <td>...</td>\n",
       "      <td>...</td>\n",
       "      <td>...</td>\n",
       "      <td>...</td>\n",
       "    </tr>\n",
       "    <tr>\n",
       "      <th>301730</th>\n",
       "      <td>40</td>\n",
       "      <td>145</td>\n",
       "      <td>427</td>\n",
       "      <td>82</td>\n",
       "      <td>40</td>\n",
       "      <td>48</td>\n",
       "    </tr>\n",
       "    <tr>\n",
       "      <th>301731</th>\n",
       "      <td>40</td>\n",
       "      <td>189</td>\n",
       "      <td>1470</td>\n",
       "      <td>260</td>\n",
       "      <td>40</td>\n",
       "      <td>273</td>\n",
       "    </tr>\n",
       "    <tr>\n",
       "      <th>301732</th>\n",
       "      <td>84</td>\n",
       "      <td>84</td>\n",
       "      <td>84</td>\n",
       "      <td>0</td>\n",
       "      <td>-1</td>\n",
       "      <td>-1</td>\n",
       "    </tr>\n",
       "    <tr>\n",
       "      <th>301733</th>\n",
       "      <td>84</td>\n",
       "      <td>84</td>\n",
       "      <td>84</td>\n",
       "      <td>0</td>\n",
       "      <td>-1</td>\n",
       "      <td>-1</td>\n",
       "    </tr>\n",
       "    <tr>\n",
       "      <th>301734</th>\n",
       "      <td>60</td>\n",
       "      <td>66</td>\n",
       "      <td>81</td>\n",
       "      <td>9</td>\n",
       "      <td>232</td>\n",
       "      <td>264</td>\n",
       "    </tr>\n",
       "  </tbody>\n",
       "</table>\n",
       "<p>301735 rows × 6 columns</p>\n",
       "</div>"
      ],
      "text/plain": [
       "        mink  meank  maxk  stdk  minb  meanb\n",
       "0         53     64    96    17    53     64\n",
       "1         53     64    96    17    53     64\n",
       "2         53     64    96    17    53     64\n",
       "3         53     64    96    17    53     64\n",
       "4         53     64    96    17    53     64\n",
       "...      ...    ...   ...   ...   ...    ...\n",
       "301730    40    145   427    82    40     48\n",
       "301731    40    189  1470   260    40    273\n",
       "301732    84     84    84     0    -1     -1\n",
       "301733    84     84    84     0    -1     -1\n",
       "301734    60     66    81     9   232    264\n",
       "\n",
       "[301735 rows x 6 columns]"
      ]
     },
     "execution_count": 76,
     "metadata": {},
     "output_type": "execute_result"
    }
   ],
   "source": [
    "xe =data.drop(\"proto\", axis = 1)\n",
    "xe"
   ]
  },
  {
   "cell_type": "code",
   "execution_count": 21,
   "id": "509e7a0a",
   "metadata": {},
   "outputs": [],
   "source": [
    "x = xe.drop(\"meanb\", axis = 1)"
   ]
  },
  {
   "cell_type": "code",
   "execution_count": 22,
   "id": "35b7f6c3",
   "metadata": {},
   "outputs": [],
   "source": [
    "y = data[[\"meanb\"]]"
   ]
  },
  {
   "cell_type": "code",
   "execution_count": 23,
   "id": "e000d4f7",
   "metadata": {},
   "outputs": [],
   "source": [
    " from sklearn.model_selection import train_test_split"
   ]
  },
  {
   "cell_type": "code",
   "execution_count": 24,
   "id": "ffd249c9",
   "metadata": {},
   "outputs": [
    {
     "data": {
      "text/html": [
       "<div>\n",
       "<style scoped>\n",
       "    .dataframe tbody tr th:only-of-type {\n",
       "        vertical-align: middle;\n",
       "    }\n",
       "\n",
       "    .dataframe tbody tr th {\n",
       "        vertical-align: top;\n",
       "    }\n",
       "\n",
       "    .dataframe thead th {\n",
       "        text-align: right;\n",
       "    }\n",
       "</style>\n",
       "<table border=\"1\" class=\"dataframe\">\n",
       "  <thead>\n",
       "    <tr style=\"text-align: right;\">\n",
       "      <th></th>\n",
       "      <th>meanb</th>\n",
       "    </tr>\n",
       "  </thead>\n",
       "  <tbody>\n",
       "    <tr>\n",
       "      <th>269245</th>\n",
       "      <td>184</td>\n",
       "    </tr>\n",
       "    <tr>\n",
       "      <th>218689</th>\n",
       "      <td>252</td>\n",
       "    </tr>\n",
       "    <tr>\n",
       "      <th>273385</th>\n",
       "      <td>-1</td>\n",
       "    </tr>\n",
       "    <tr>\n",
       "      <th>169403</th>\n",
       "      <td>386</td>\n",
       "    </tr>\n",
       "    <tr>\n",
       "      <th>131251</th>\n",
       "      <td>-1</td>\n",
       "    </tr>\n",
       "  </tbody>\n",
       "</table>\n",
       "</div>"
      ],
      "text/plain": [
       "        meanb\n",
       "269245    184\n",
       "218689    252\n",
       "273385     -1\n",
       "169403    386\n",
       "131251     -1"
      ]
     },
     "execution_count": 24,
     "metadata": {},
     "output_type": "execute_result"
    }
   ],
   "source": [
    "x_train,x_test,y_train, y_test = train_test_split(x,y, test_size = 0.3, random_state = 42)\n",
    "y_train.head()"
   ]
  },
  {
   "cell_type": "code",
   "execution_count": 25,
   "id": "62cb3e9a",
   "metadata": {},
   "outputs": [],
   "source": [
    "from sklearn.ensemble import RandomForestRegressor"
   ]
  },
  {
   "cell_type": "code",
   "execution_count": 26,
   "id": "9c362d44",
   "metadata": {},
   "outputs": [],
   "source": [
    "model = RandomForestRegressor()"
   ]
  },
  {
   "cell_type": "code",
   "execution_count": 27,
   "id": "d5960f52",
   "metadata": {},
   "outputs": [
    {
     "name": "stderr",
     "output_type": "stream",
     "text": [
      "C:\\Users\\PC16CA~1\\AppData\\Local\\Temp/ipykernel_4504/1002171229.py:1: DataConversionWarning: A column-vector y was passed when a 1d array was expected. Please change the shape of y to (n_samples,), for example using ravel().\n",
      "  model.fit(x_train,y_train)\n"
     ]
    },
    {
     "data": {
      "text/plain": [
       "RandomForestRegressor()"
      ]
     },
     "execution_count": 27,
     "metadata": {},
     "output_type": "execute_result"
    }
   ],
   "source": [
    "model.fit(x_train,y_train)"
   ]
  },
  {
   "cell_type": "code",
   "execution_count": 28,
   "id": "ce7782d2",
   "metadata": {},
   "outputs": [],
   "source": [
    "y_pre = model.predict(x_test)"
   ]
  },
  {
   "cell_type": "code",
   "execution_count": 29,
   "id": "deb61ad8",
   "metadata": {},
   "outputs": [
    {
     "data": {
      "text/plain": [
       "array([ -1.        ,  49.5375    , 156.59119722, 112.        ,\n",
       "        40.        ])"
      ]
     },
     "execution_count": 29,
     "metadata": {},
     "output_type": "execute_result"
    }
   ],
   "source": [
    "y_pre[:5]"
   ]
  },
  {
   "cell_type": "code",
   "execution_count": 30,
   "id": "d8307099",
   "metadata": {},
   "outputs": [
    {
     "data": {
      "text/html": [
       "<div>\n",
       "<style scoped>\n",
       "    .dataframe tbody tr th:only-of-type {\n",
       "        vertical-align: middle;\n",
       "    }\n",
       "\n",
       "    .dataframe tbody tr th {\n",
       "        vertical-align: top;\n",
       "    }\n",
       "\n",
       "    .dataframe thead th {\n",
       "        text-align: right;\n",
       "    }\n",
       "</style>\n",
       "<table border=\"1\" class=\"dataframe\">\n",
       "  <thead>\n",
       "    <tr style=\"text-align: right;\">\n",
       "      <th></th>\n",
       "      <th>meanb</th>\n",
       "    </tr>\n",
       "  </thead>\n",
       "  <tbody>\n",
       "    <tr>\n",
       "      <th>297709</th>\n",
       "      <td>-1</td>\n",
       "    </tr>\n",
       "    <tr>\n",
       "      <th>286281</th>\n",
       "      <td>49</td>\n",
       "    </tr>\n",
       "    <tr>\n",
       "      <th>204676</th>\n",
       "      <td>514</td>\n",
       "    </tr>\n",
       "    <tr>\n",
       "      <th>248055</th>\n",
       "      <td>112</td>\n",
       "    </tr>\n",
       "    <tr>\n",
       "      <th>207393</th>\n",
       "      <td>40</td>\n",
       "    </tr>\n",
       "  </tbody>\n",
       "</table>\n",
       "</div>"
      ],
      "text/plain": [
       "        meanb\n",
       "297709     -1\n",
       "286281     49\n",
       "204676    514\n",
       "248055    112\n",
       "207393     40"
      ]
     },
     "execution_count": 30,
     "metadata": {},
     "output_type": "execute_result"
    }
   ],
   "source": [
    "y_test.head()"
   ]
  },
  {
   "cell_type": "code",
   "execution_count": 31,
   "id": "c6353095",
   "metadata": {},
   "outputs": [],
   "source": [
    "from sklearn.metrics import mean_squared_error"
   ]
  },
  {
   "cell_type": "code",
   "execution_count": 32,
   "id": "2211caf2",
   "metadata": {},
   "outputs": [
    {
     "data": {
      "text/plain": [
       "911.8349490406665"
      ]
     },
     "execution_count": 32,
     "metadata": {},
     "output_type": "execute_result"
    }
   ],
   "source": [
    "mean_squared_error(y_test, y_pre)"
   ]
  },
  {
   "cell_type": "markdown",
   "id": "f30aaf0b",
   "metadata": {},
   "source": [
    "# MODEL 2"
   ]
  },
  {
   "cell_type": "code",
   "execution_count": 33,
   "id": "86a2c38f",
   "metadata": {},
   "outputs": [
    {
     "data": {
      "text/html": [
       "<div>\n",
       "<style scoped>\n",
       "    .dataframe tbody tr th:only-of-type {\n",
       "        vertical-align: middle;\n",
       "    }\n",
       "\n",
       "    .dataframe tbody tr th {\n",
       "        vertical-align: top;\n",
       "    }\n",
       "\n",
       "    .dataframe thead th {\n",
       "        text-align: right;\n",
       "    }\n",
       "</style>\n",
       "<table border=\"1\" class=\"dataframe\">\n",
       "  <thead>\n",
       "    <tr style=\"text-align: right;\">\n",
       "      <th></th>\n",
       "      <th>mink</th>\n",
       "      <th>meank</th>\n",
       "      <th>maxk</th>\n",
       "      <th>stdk</th>\n",
       "      <th>minb</th>\n",
       "      <th>meanb</th>\n",
       "      <th>proto</th>\n",
       "    </tr>\n",
       "  </thead>\n",
       "  <tbody>\n",
       "    <tr>\n",
       "      <th>0</th>\n",
       "      <td>53</td>\n",
       "      <td>64</td>\n",
       "      <td>96</td>\n",
       "      <td>17</td>\n",
       "      <td>53</td>\n",
       "      <td>64</td>\n",
       "      <td>0</td>\n",
       "    </tr>\n",
       "    <tr>\n",
       "      <th>1</th>\n",
       "      <td>53</td>\n",
       "      <td>64</td>\n",
       "      <td>96</td>\n",
       "      <td>17</td>\n",
       "      <td>53</td>\n",
       "      <td>64</td>\n",
       "      <td>0</td>\n",
       "    </tr>\n",
       "    <tr>\n",
       "      <th>2</th>\n",
       "      <td>53</td>\n",
       "      <td>64</td>\n",
       "      <td>96</td>\n",
       "      <td>17</td>\n",
       "      <td>53</td>\n",
       "      <td>64</td>\n",
       "      <td>0</td>\n",
       "    </tr>\n",
       "    <tr>\n",
       "      <th>3</th>\n",
       "      <td>53</td>\n",
       "      <td>64</td>\n",
       "      <td>96</td>\n",
       "      <td>17</td>\n",
       "      <td>53</td>\n",
       "      <td>64</td>\n",
       "      <td>0</td>\n",
       "    </tr>\n",
       "    <tr>\n",
       "      <th>4</th>\n",
       "      <td>53</td>\n",
       "      <td>64</td>\n",
       "      <td>96</td>\n",
       "      <td>17</td>\n",
       "      <td>53</td>\n",
       "      <td>64</td>\n",
       "      <td>0</td>\n",
       "    </tr>\n",
       "  </tbody>\n",
       "</table>\n",
       "</div>"
      ],
      "text/plain": [
       "   mink  meank  maxk  stdk  minb  meanb  proto\n",
       "0    53     64    96    17    53     64      0\n",
       "1    53     64    96    17    53     64      0\n",
       "2    53     64    96    17    53     64      0\n",
       "3    53     64    96    17    53     64      0\n",
       "4    53     64    96    17    53     64      0"
      ]
     },
     "execution_count": 33,
     "metadata": {},
     "output_type": "execute_result"
    }
   ],
   "source": [
    "data.head()"
   ]
  },
  {
   "cell_type": "code",
   "execution_count": 34,
   "id": "59558e7d",
   "metadata": {},
   "outputs": [],
   "source": [
    "x =data.drop(\"proto\", axis = 1)"
   ]
  },
  {
   "cell_type": "code",
   "execution_count": 35,
   "id": "7bc855f4",
   "metadata": {},
   "outputs": [],
   "source": [
    "y = data[\"proto\"]"
   ]
  },
  {
   "cell_type": "code",
   "execution_count": 36,
   "id": "12c85079",
   "metadata": {},
   "outputs": [],
   "source": [
    "from sklearn.model_selection import train_test_split"
   ]
  },
  {
   "cell_type": "code",
   "execution_count": 37,
   "id": "3f3bae45",
   "metadata": {},
   "outputs": [],
   "source": [
    "x_train,x_test, y_train,y_test = train_test_split(x,y , test_size = 0.3, random_state = 42 , stratify=y)"
   ]
  },
  {
   "cell_type": "code",
   "execution_count": 38,
   "id": "f1e3c059",
   "metadata": {},
   "outputs": [],
   "source": [
    "from sklearn.ensemble import RandomForestRegressor"
   ]
  },
  {
   "cell_type": "code",
   "execution_count": 39,
   "id": "4316283b",
   "metadata": {},
   "outputs": [],
   "source": [
    "rd = RandomForestRegressor()"
   ]
  },
  {
   "cell_type": "code",
   "execution_count": 40,
   "id": "f4790d26",
   "metadata": {},
   "outputs": [
    {
     "data": {
      "text/plain": [
       "RandomForestRegressor()"
      ]
     },
     "execution_count": 40,
     "metadata": {},
     "output_type": "execute_result"
    }
   ],
   "source": [
    "rd.fit(x,y)"
   ]
  },
  {
   "cell_type": "code",
   "execution_count": 41,
   "id": "e4c7c193",
   "metadata": {},
   "outputs": [],
   "source": [
    "y_pre = rd.predict(x_test)"
   ]
  },
  {
   "cell_type": "code",
   "execution_count": 42,
   "id": "a994ab05",
   "metadata": {},
   "outputs": [
    {
     "data": {
      "text/plain": [
       "(array([0., 1., 0., 1., 1.]),\n",
       " 294254    0\n",
       " 159862    1\n",
       " 281160    0\n",
       " 212637    1\n",
       " 162098    1\n",
       " Name: proto, dtype: int64)"
      ]
     },
     "execution_count": 42,
     "metadata": {},
     "output_type": "execute_result"
    }
   ],
   "source": [
    "y_pre[:5],y_test.head()"
   ]
  },
  {
   "cell_type": "code",
   "execution_count": 43,
   "id": "9ea1863b",
   "metadata": {},
   "outputs": [],
   "source": [
    "from sklearn.metrics import confusion_matrix"
   ]
  },
  {
   "cell_type": "code",
   "execution_count": 44,
   "id": "b7d6f783",
   "metadata": {},
   "outputs": [
    {
     "data": {
      "text/plain": [
       "array([[61311,     0],\n",
       "       [    0, 29210]], dtype=int64)"
      ]
     },
     "execution_count": 44,
     "metadata": {},
     "output_type": "execute_result"
    }
   ],
   "source": [
    "confusion_matrix(y_test, y_pre)"
   ]
  },
  {
   "cell_type": "code",
   "execution_count": null,
   "id": "2c20e8d5",
   "metadata": {},
   "outputs": [],
   "source": []
  }
 ],
 "metadata": {
  "kernelspec": {
   "display_name": "Python 3 (ipykernel)",
   "language": "python",
   "name": "python3"
  },
  "language_info": {
   "codemirror_mode": {
    "name": "ipython",
    "version": 3
   },
   "file_extension": ".py",
   "mimetype": "text/x-python",
   "name": "python",
   "nbconvert_exporter": "python",
   "pygments_lexer": "ipython3",
   "version": "3.9.0"
  }
 },
 "nbformat": 4,
 "nbformat_minor": 5
}
