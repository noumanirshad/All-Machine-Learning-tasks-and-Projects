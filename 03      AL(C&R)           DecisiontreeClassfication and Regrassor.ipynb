{
 "cells": [
  {
   "cell_type": "code",
   "execution_count": 1,
   "id": "8e1f4d07",
   "metadata": {},
   "outputs": [],
   "source": [
    "import pandas as pd\n",
    "import numpy as np\n",
    "import matplotlib.pyplot as plt\n",
    "import seaborn as sns"
   ]
  },
  {
   "cell_type": "code",
   "execution_count": 2,
   "id": "f12fca73",
   "metadata": {},
   "outputs": [],
   "source": [
    "zfone = pd.read_csv(\"Zfone.csv\")"
   ]
  },
  {
   "cell_type": "code",
   "execution_count": 3,
   "id": "586a0ad5",
   "metadata": {},
   "outputs": [
    {
     "data": {
      "text/html": [
       "<div>\n",
       "<style scoped>\n",
       "    .dataframe tbody tr th:only-of-type {\n",
       "        vertical-align: middle;\n",
       "    }\n",
       "\n",
       "    .dataframe tbody tr th {\n",
       "        vertical-align: top;\n",
       "    }\n",
       "\n",
       "    .dataframe thead th {\n",
       "        text-align: right;\n",
       "    }\n",
       "</style>\n",
       "<table border=\"1\" class=\"dataframe\">\n",
       "  <thead>\n",
       "    <tr style=\"text-align: right;\">\n",
       "      <th></th>\n",
       "      <th>min_fpktl</th>\n",
       "      <th>mean_fpktl</th>\n",
       "      <th>max_fpktl</th>\n",
       "      <th>std_fpktl</th>\n",
       "      <th>min_bpktl</th>\n",
       "      <th>mean_bpktl</th>\n",
       "      <th>max_bpktl</th>\n",
       "      <th>std_bpktl</th>\n",
       "      <th>min_fiat</th>\n",
       "      <th>mean_fiat</th>\n",
       "      <th>...</th>\n",
       "      <th>mean_biat</th>\n",
       "      <th>max_biat</th>\n",
       "      <th>std_biat</th>\n",
       "      <th>duration</th>\n",
       "      <th>proto</th>\n",
       "      <th>total_fpackets</th>\n",
       "      <th>total_fvolume</th>\n",
       "      <th>total_bpackets</th>\n",
       "      <th>total_bvolume</th>\n",
       "      <th>class</th>\n",
       "    </tr>\n",
       "  </thead>\n",
       "  <tbody>\n",
       "    <tr>\n",
       "      <th>0</th>\n",
       "      <td>40</td>\n",
       "      <td>55</td>\n",
       "      <td>123</td>\n",
       "      <td>33</td>\n",
       "      <td>40</td>\n",
       "      <td>136</td>\n",
       "      <td>414</td>\n",
       "      <td>185</td>\n",
       "      <td>547</td>\n",
       "      <td>196970</td>\n",
       "      <td>...</td>\n",
       "      <td>274569</td>\n",
       "      <td>703487</td>\n",
       "      <td>375882</td>\n",
       "      <td>984851</td>\n",
       "      <td>6</td>\n",
       "      <td>6</td>\n",
       "      <td>335</td>\n",
       "      <td>4</td>\n",
       "      <td>546</td>\n",
       "      <td>ZFONE</td>\n",
       "    </tr>\n",
       "    <tr>\n",
       "      <th>1</th>\n",
       "      <td>40</td>\n",
       "      <td>73</td>\n",
       "      <td>161</td>\n",
       "      <td>58</td>\n",
       "      <td>52</td>\n",
       "      <td>150</td>\n",
       "      <td>249</td>\n",
       "      <td>139</td>\n",
       "      <td>228</td>\n",
       "      <td>98243</td>\n",
       "      <td>...</td>\n",
       "      <td>161425</td>\n",
       "      <td>161425</td>\n",
       "      <td>0</td>\n",
       "      <td>294730</td>\n",
       "      <td>6</td>\n",
       "      <td>4</td>\n",
       "      <td>293</td>\n",
       "      <td>2</td>\n",
       "      <td>301</td>\n",
       "      <td>ZFONE</td>\n",
       "    </tr>\n",
       "    <tr>\n",
       "      <th>2</th>\n",
       "      <td>40</td>\n",
       "      <td>66</td>\n",
       "      <td>161</td>\n",
       "      <td>53</td>\n",
       "      <td>40</td>\n",
       "      <td>94</td>\n",
       "      <td>247</td>\n",
       "      <td>101</td>\n",
       "      <td>294</td>\n",
       "      <td>51030</td>\n",
       "      <td>...</td>\n",
       "      <td>68549</td>\n",
       "      <td>121763</td>\n",
       "      <td>62154</td>\n",
       "      <td>286660</td>\n",
       "      <td>6</td>\n",
       "      <td>5</td>\n",
       "      <td>333</td>\n",
       "      <td>4</td>\n",
       "      <td>379</td>\n",
       "      <td>ZFONE</td>\n",
       "    </tr>\n",
       "    <tr>\n",
       "      <th>3</th>\n",
       "      <td>40</td>\n",
       "      <td>97</td>\n",
       "      <td>266</td>\n",
       "      <td>92</td>\n",
       "      <td>40</td>\n",
       "      <td>320</td>\n",
       "      <td>1359</td>\n",
       "      <td>506</td>\n",
       "      <td>308</td>\n",
       "      <td>92852</td>\n",
       "      <td>...</td>\n",
       "      <td>103912</td>\n",
       "      <td>445511</td>\n",
       "      <td>158869</td>\n",
       "      <td>821078</td>\n",
       "      <td>6</td>\n",
       "      <td>9</td>\n",
       "      <td>880</td>\n",
       "      <td>8</td>\n",
       "      <td>2565</td>\n",
       "      <td>ZFONE</td>\n",
       "    </tr>\n",
       "    <tr>\n",
       "      <th>4</th>\n",
       "      <td>40</td>\n",
       "      <td>237</td>\n",
       "      <td>1211</td>\n",
       "      <td>477</td>\n",
       "      <td>40</td>\n",
       "      <td>673</td>\n",
       "      <td>1500</td>\n",
       "      <td>722</td>\n",
       "      <td>207</td>\n",
       "      <td>38775</td>\n",
       "      <td>...</td>\n",
       "      <td>39589</td>\n",
       "      <td>121720</td>\n",
       "      <td>56267</td>\n",
       "      <td>268906</td>\n",
       "      <td>6</td>\n",
       "      <td>6</td>\n",
       "      <td>1423</td>\n",
       "      <td>6</td>\n",
       "      <td>4038</td>\n",
       "      <td>ZFONE</td>\n",
       "    </tr>\n",
       "  </tbody>\n",
       "</table>\n",
       "<p>5 rows × 23 columns</p>\n",
       "</div>"
      ],
      "text/plain": [
       "   min_fpktl  mean_fpktl  max_fpktl  std_fpktl  min_bpktl  mean_bpktl  \\\n",
       "0         40          55        123         33         40         136   \n",
       "1         40          73        161         58         52         150   \n",
       "2         40          66        161         53         40          94   \n",
       "3         40          97        266         92         40         320   \n",
       "4         40         237       1211        477         40         673   \n",
       "\n",
       "   max_bpktl  std_bpktl  min_fiat  mean_fiat  ...  mean_biat  max_biat  \\\n",
       "0        414        185       547     196970  ...     274569    703487   \n",
       "1        249        139       228      98243  ...     161425    161425   \n",
       "2        247        101       294      51030  ...      68549    121763   \n",
       "3       1359        506       308      92852  ...     103912    445511   \n",
       "4       1500        722       207      38775  ...      39589    121720   \n",
       "\n",
       "   std_biat  duration  proto  total_fpackets  total_fvolume  total_bpackets  \\\n",
       "0    375882    984851      6               6            335               4   \n",
       "1         0    294730      6               4            293               2   \n",
       "2     62154    286660      6               5            333               4   \n",
       "3    158869    821078      6               9            880               8   \n",
       "4     56267    268906      6               6           1423               6   \n",
       "\n",
       "   total_bvolume  class  \n",
       "0            546  ZFONE  \n",
       "1            301  ZFONE  \n",
       "2            379  ZFONE  \n",
       "3           2565  ZFONE  \n",
       "4           4038  ZFONE  \n",
       "\n",
       "[5 rows x 23 columns]"
      ]
     },
     "execution_count": 3,
     "metadata": {},
     "output_type": "execute_result"
    }
   ],
   "source": [
    "zfone.head()"
   ]
  },
  {
   "cell_type": "code",
   "execution_count": 4,
   "id": "4393437c",
   "metadata": {},
   "outputs": [],
   "source": [
    "data = zfone.iloc[:, 17:]"
   ]
  },
  {
   "cell_type": "code",
   "execution_count": 5,
   "id": "3d1d7843",
   "metadata": {},
   "outputs": [
    {
     "data": {
      "text/html": [
       "<div>\n",
       "<style scoped>\n",
       "    .dataframe tbody tr th:only-of-type {\n",
       "        vertical-align: middle;\n",
       "    }\n",
       "\n",
       "    .dataframe tbody tr th {\n",
       "        vertical-align: top;\n",
       "    }\n",
       "\n",
       "    .dataframe thead th {\n",
       "        text-align: right;\n",
       "    }\n",
       "</style>\n",
       "<table border=\"1\" class=\"dataframe\">\n",
       "  <thead>\n",
       "    <tr style=\"text-align: right;\">\n",
       "      <th></th>\n",
       "      <th>proto</th>\n",
       "      <th>total_fpackets</th>\n",
       "      <th>total_fvolume</th>\n",
       "      <th>total_bpackets</th>\n",
       "      <th>total_bvolume</th>\n",
       "      <th>class</th>\n",
       "    </tr>\n",
       "  </thead>\n",
       "  <tbody>\n",
       "    <tr>\n",
       "      <th>0</th>\n",
       "      <td>6</td>\n",
       "      <td>6</td>\n",
       "      <td>335</td>\n",
       "      <td>4</td>\n",
       "      <td>546</td>\n",
       "      <td>ZFONE</td>\n",
       "    </tr>\n",
       "    <tr>\n",
       "      <th>1</th>\n",
       "      <td>6</td>\n",
       "      <td>4</td>\n",
       "      <td>293</td>\n",
       "      <td>2</td>\n",
       "      <td>301</td>\n",
       "      <td>ZFONE</td>\n",
       "    </tr>\n",
       "    <tr>\n",
       "      <th>2</th>\n",
       "      <td>6</td>\n",
       "      <td>5</td>\n",
       "      <td>333</td>\n",
       "      <td>4</td>\n",
       "      <td>379</td>\n",
       "      <td>ZFONE</td>\n",
       "    </tr>\n",
       "    <tr>\n",
       "      <th>3</th>\n",
       "      <td>6</td>\n",
       "      <td>9</td>\n",
       "      <td>880</td>\n",
       "      <td>8</td>\n",
       "      <td>2565</td>\n",
       "      <td>ZFONE</td>\n",
       "    </tr>\n",
       "    <tr>\n",
       "      <th>4</th>\n",
       "      <td>6</td>\n",
       "      <td>6</td>\n",
       "      <td>1423</td>\n",
       "      <td>6</td>\n",
       "      <td>4038</td>\n",
       "      <td>ZFONE</td>\n",
       "    </tr>\n",
       "  </tbody>\n",
       "</table>\n",
       "</div>"
      ],
      "text/plain": [
       "   proto  total_fpackets  total_fvolume  total_bpackets  total_bvolume  class\n",
       "0      6               6            335               4            546  ZFONE\n",
       "1      6               4            293               2            301  ZFONE\n",
       "2      6               5            333               4            379  ZFONE\n",
       "3      6               9            880               8           2565  ZFONE\n",
       "4      6               6           1423               6           4038  ZFONE"
      ]
     },
     "execution_count": 5,
     "metadata": {},
     "output_type": "execute_result"
    }
   ],
   "source": [
    "data.head()"
   ]
  },
  {
   "cell_type": "code",
   "execution_count": 6,
   "id": "4407fd8f",
   "metadata": {},
   "outputs": [
    {
     "data": {
      "text/plain": [
       "(29961, 6)"
      ]
     },
     "execution_count": 6,
     "metadata": {},
     "output_type": "execute_result"
    }
   ],
   "source": [
    "data.shape"
   ]
  },
  {
   "cell_type": "code",
   "execution_count": 7,
   "id": "0e7971e8",
   "metadata": {},
   "outputs": [],
   "source": [
    "datasets = data.rename(columns = {\"total_fvolume\" : \"fvol\", \n",
    "                                  \"total_fpackets\": 'fpac', \n",
    "                                  \"total_bpackets\": \"bpac\",\n",
    "                                  \"total_bvolume\":\"bvol\"})"
   ]
  },
  {
   "cell_type": "code",
   "execution_count": 8,
   "id": "e9b6c4dd",
   "metadata": {},
   "outputs": [
    {
     "data": {
      "text/html": [
       "<div>\n",
       "<style scoped>\n",
       "    .dataframe tbody tr th:only-of-type {\n",
       "        vertical-align: middle;\n",
       "    }\n",
       "\n",
       "    .dataframe tbody tr th {\n",
       "        vertical-align: top;\n",
       "    }\n",
       "\n",
       "    .dataframe thead th {\n",
       "        text-align: right;\n",
       "    }\n",
       "</style>\n",
       "<table border=\"1\" class=\"dataframe\">\n",
       "  <thead>\n",
       "    <tr style=\"text-align: right;\">\n",
       "      <th></th>\n",
       "      <th>proto</th>\n",
       "      <th>fpac</th>\n",
       "      <th>fvol</th>\n",
       "      <th>bpac</th>\n",
       "      <th>bvol</th>\n",
       "      <th>class</th>\n",
       "    </tr>\n",
       "  </thead>\n",
       "  <tbody>\n",
       "    <tr>\n",
       "      <th>0</th>\n",
       "      <td>6</td>\n",
       "      <td>6</td>\n",
       "      <td>335</td>\n",
       "      <td>4</td>\n",
       "      <td>546</td>\n",
       "      <td>ZFONE</td>\n",
       "    </tr>\n",
       "    <tr>\n",
       "      <th>1</th>\n",
       "      <td>6</td>\n",
       "      <td>4</td>\n",
       "      <td>293</td>\n",
       "      <td>2</td>\n",
       "      <td>301</td>\n",
       "      <td>ZFONE</td>\n",
       "    </tr>\n",
       "    <tr>\n",
       "      <th>2</th>\n",
       "      <td>6</td>\n",
       "      <td>5</td>\n",
       "      <td>333</td>\n",
       "      <td>4</td>\n",
       "      <td>379</td>\n",
       "      <td>ZFONE</td>\n",
       "    </tr>\n",
       "    <tr>\n",
       "      <th>3</th>\n",
       "      <td>6</td>\n",
       "      <td>9</td>\n",
       "      <td>880</td>\n",
       "      <td>8</td>\n",
       "      <td>2565</td>\n",
       "      <td>ZFONE</td>\n",
       "    </tr>\n",
       "    <tr>\n",
       "      <th>4</th>\n",
       "      <td>6</td>\n",
       "      <td>6</td>\n",
       "      <td>1423</td>\n",
       "      <td>6</td>\n",
       "      <td>4038</td>\n",
       "      <td>ZFONE</td>\n",
       "    </tr>\n",
       "  </tbody>\n",
       "</table>\n",
       "</div>"
      ],
      "text/plain": [
       "   proto  fpac  fvol  bpac  bvol  class\n",
       "0      6     6   335     4   546  ZFONE\n",
       "1      6     4   293     2   301  ZFONE\n",
       "2      6     5   333     4   379  ZFONE\n",
       "3      6     9   880     8  2565  ZFONE\n",
       "4      6     6  1423     6  4038  ZFONE"
      ]
     },
     "execution_count": 8,
     "metadata": {},
     "output_type": "execute_result"
    }
   ],
   "source": [
    "datasets.head()"
   ]
  },
  {
   "cell_type": "code",
   "execution_count": 9,
   "id": "f934b18d",
   "metadata": {},
   "outputs": [
    {
     "data": {
      "text/plain": [
       "17    18666\n",
       "6     11295\n",
       "Name: proto, dtype: int64"
      ]
     },
     "execution_count": 9,
     "metadata": {},
     "output_type": "execute_result"
    }
   ],
   "source": [
    "datasets['proto'].value_counts()"
   ]
  },
  {
   "cell_type": "code",
   "execution_count": 10,
   "id": "218b87a0",
   "metadata": {},
   "outputs": [
    {
     "data": {
      "image/png": "[encoded data removed]",
      "text/plain": [
       "<Figure size 432x288 with 1 Axes>"
      ]
     },
     "metadata": {
      "needs_background": "light"
     },
     "output_type": "display_data"
    }
   ],
   "source": [
    "sns.histplot(datasets[\"proto\"])\n",
    "plt.show()"
   ]
  },
  {
   "cell_type": "code",
   "execution_count": 11,
   "id": "f6a25029",
   "metadata": {},
   "outputs": [
    {
     "data": {
      "text/html": [
       "<div>\n",
       "<style scoped>\n",
       "    .dataframe tbody tr th:only-of-type {\n",
       "        vertical-align: middle;\n",
       "    }\n",
       "\n",
       "    .dataframe tbody tr th {\n",
       "        vertical-align: top;\n",
       "    }\n",
       "\n",
       "    .dataframe thead th {\n",
       "        text-align: right;\n",
       "    }\n",
       "</style>\n",
       "<table border=\"1\" class=\"dataframe\">\n",
       "  <thead>\n",
       "    <tr style=\"text-align: right;\">\n",
       "      <th></th>\n",
       "      <th>proto</th>\n",
       "      <th>fpac</th>\n",
       "      <th>fvol</th>\n",
       "      <th>bpac</th>\n",
       "      <th>bvol</th>\n",
       "    </tr>\n",
       "  </thead>\n",
       "  <tbody>\n",
       "    <tr>\n",
       "      <th>count</th>\n",
       "      <td>29961.000000</td>\n",
       "      <td>29961.000000</td>\n",
       "      <td>2.996100e+04</td>\n",
       "      <td>29961.000000</td>\n",
       "      <td>2.996100e+04</td>\n",
       "    </tr>\n",
       "    <tr>\n",
       "      <th>mean</th>\n",
       "      <td>12.853109</td>\n",
       "      <td>4813.040352</td>\n",
       "      <td>7.636447e+05</td>\n",
       "      <td>1766.863022</td>\n",
       "      <td>9.001921e+04</td>\n",
       "    </tr>\n",
       "    <tr>\n",
       "      <th>std</th>\n",
       "      <td>5.331045</td>\n",
       "      <td>18992.424114</td>\n",
       "      <td>2.948771e+06</td>\n",
       "      <td>6389.174741</td>\n",
       "      <td>3.174704e+05</td>\n",
       "    </tr>\n",
       "    <tr>\n",
       "      <th>min</th>\n",
       "      <td>6.000000</td>\n",
       "      <td>1.000000</td>\n",
       "      <td>5.600000e+01</td>\n",
       "      <td>0.000000</td>\n",
       "      <td>0.000000e+00</td>\n",
       "    </tr>\n",
       "    <tr>\n",
       "      <th>25%</th>\n",
       "      <td>6.000000</td>\n",
       "      <td>10.000000</td>\n",
       "      <td>1.276000e+03</td>\n",
       "      <td>3.000000</td>\n",
       "      <td>2.450000e+02</td>\n",
       "    </tr>\n",
       "    <tr>\n",
       "      <th>50%</th>\n",
       "      <td>17.000000</td>\n",
       "      <td>61.000000</td>\n",
       "      <td>4.036000e+03</td>\n",
       "      <td>53.000000</td>\n",
       "      <td>3.298000e+03</td>\n",
       "    </tr>\n",
       "    <tr>\n",
       "      <th>75%</th>\n",
       "      <td>17.000000</td>\n",
       "      <td>155.000000</td>\n",
       "      <td>1.052200e+04</td>\n",
       "      <td>190.000000</td>\n",
       "      <td>1.069300e+04</td>\n",
       "    </tr>\n",
       "    <tr>\n",
       "      <th>max</th>\n",
       "      <td>17.000000</td>\n",
       "      <td>149100.000000</td>\n",
       "      <td>2.174054e+07</td>\n",
       "      <td>45772.000000</td>\n",
       "      <td>2.263520e+06</td>\n",
       "    </tr>\n",
       "  </tbody>\n",
       "</table>\n",
       "</div>"
      ],
      "text/plain": [
       "              proto           fpac          fvol          bpac          bvol\n",
       "count  29961.000000   29961.000000  2.996100e+04  29961.000000  2.996100e+04\n",
       "mean      12.853109    4813.040352  7.636447e+05   1766.863022  9.001921e+04\n",
       "std        5.331045   18992.424114  2.948771e+06   6389.174741  3.174704e+05\n",
       "min        6.000000       1.000000  5.600000e+01      0.000000  0.000000e+00\n",
       "25%        6.000000      10.000000  1.276000e+03      3.000000  2.450000e+02\n",
       "50%       17.000000      61.000000  4.036000e+03     53.000000  3.298000e+03\n",
       "75%       17.000000     155.000000  1.052200e+04    190.000000  1.069300e+04\n",
       "max       17.000000  149100.000000  2.174054e+07  45772.000000  2.263520e+06"
      ]
     },
     "execution_count": 11,
     "metadata": {},
     "output_type": "execute_result"
    }
   ],
   "source": [
    "datasets.describe()"
   ]
  },
  {
   "cell_type": "code",
   "execution_count": 12,
   "id": "cfcb5b5b",
   "metadata": {},
   "outputs": [
    {
     "data": {
      "image/png": "[encoded data removed]",
      "text/plain": [
       "<Figure size 720x360 with 1 Axes>"
      ]
     },
     "metadata": {
      "needs_background": "light"
     },
     "output_type": "display_data"
    }
   ],
   "source": [
    "plt.figure(figsize = (10,5))\n",
    "plt.subplot(1,2,1)\n",
    "sns.barplot(x = datasets['class'], y = datasets['bpac'])\n",
    "plt.show()"
   ]
  },
  {
   "cell_type": "code",
   "execution_count": 13,
   "id": "f11188c7",
   "metadata": {
    "scrolled": true
   },
   "outputs": [],
   "source": [
    "cls= (datasets[\"proto\"] == 6)"
   ]
  },
  {
   "cell_type": "code",
   "execution_count": 14,
   "id": "c3ab419b",
   "metadata": {},
   "outputs": [],
   "source": [
    "datasets = datasets.drop(\"class\",axis = 1)"
   ]
  },
  {
   "cell_type": "code",
   "execution_count": 15,
   "id": "6333cf90",
   "metadata": {},
   "outputs": [],
   "source": [
    "datasets = datasets.drop(\"proto\",axis = 1)"
   ]
  },
  {
   "cell_type": "code",
   "execution_count": 16,
   "id": "ed8b374b",
   "metadata": {},
   "outputs": [],
   "source": [
    "datasets[\"class\"] = cls"
   ]
  },
  {
   "cell_type": "code",
   "execution_count": 44,
   "id": "283c41fe",
   "metadata": {},
   "outputs": [
    {
     "data": {
      "text/html": [
       "<div>\n",
       "<style scoped>\n",
       "    .dataframe tbody tr th:only-of-type {\n",
       "        vertical-align: middle;\n",
       "    }\n",
       "\n",
       "    .dataframe tbody tr th {\n",
       "        vertical-align: top;\n",
       "    }\n",
       "\n",
       "    .dataframe thead th {\n",
       "        text-align: right;\n",
       "    }\n",
       "</style>\n",
       "<table border=\"1\" class=\"dataframe\">\n",
       "  <thead>\n",
       "    <tr style=\"text-align: right;\">\n",
       "      <th></th>\n",
       "      <th>fpac</th>\n",
       "      <th>fvol</th>\n",
       "      <th>bpac</th>\n",
       "      <th>bvol</th>\n",
       "      <th>class</th>\n",
       "    </tr>\n",
       "  </thead>\n",
       "  <tbody>\n",
       "    <tr>\n",
       "      <th>0</th>\n",
       "      <td>6</td>\n",
       "      <td>335</td>\n",
       "      <td>4</td>\n",
       "      <td>546</td>\n",
       "      <td>True</td>\n",
       "    </tr>\n",
       "    <tr>\n",
       "      <th>1</th>\n",
       "      <td>4</td>\n",
       "      <td>293</td>\n",
       "      <td>2</td>\n",
       "      <td>301</td>\n",
       "      <td>True</td>\n",
       "    </tr>\n",
       "    <tr>\n",
       "      <th>2</th>\n",
       "      <td>5</td>\n",
       "      <td>333</td>\n",
       "      <td>4</td>\n",
       "      <td>379</td>\n",
       "      <td>True</td>\n",
       "    </tr>\n",
       "    <tr>\n",
       "      <th>3</th>\n",
       "      <td>9</td>\n",
       "      <td>880</td>\n",
       "      <td>8</td>\n",
       "      <td>2565</td>\n",
       "      <td>True</td>\n",
       "    </tr>\n",
       "    <tr>\n",
       "      <th>4</th>\n",
       "      <td>6</td>\n",
       "      <td>1423</td>\n",
       "      <td>6</td>\n",
       "      <td>4038</td>\n",
       "      <td>True</td>\n",
       "    </tr>\n",
       "  </tbody>\n",
       "</table>\n",
       "</div>"
      ],
      "text/plain": [
       "   fpac  fvol  bpac  bvol  class\n",
       "0     6   335     4   546   True\n",
       "1     4   293     2   301   True\n",
       "2     5   333     4   379   True\n",
       "3     9   880     8  2565   True\n",
       "4     6  1423     6  4038   True"
      ]
     },
     "execution_count": 44,
     "metadata": {},
     "output_type": "execute_result"
    }
   ],
   "source": [
    "datasets.head()"
   ]
  },
  {
   "cell_type": "code",
   "execution_count": 48,
   "id": "eac79ed7",
   "metadata": {},
   "outputs": [
    {
     "data": {
      "text/plain": [
       "fvol     1.000000\n",
       "bpac     0.998339\n",
       "bvol     0.997497\n",
       "fpac     0.995218\n",
       "class   -0.199856\n",
       "Name: fvol, dtype: float64"
      ]
     },
     "execution_count": 48,
     "metadata": {},
     "output_type": "execute_result"
    }
   ],
   "source": [
    "cor = datasets.corr()\n",
    "cor[\"fvol\"].sort_values(ascending = False)"
   ]
  },
  {
   "cell_type": "code",
   "execution_count": 18,
   "id": "c4438fad",
   "metadata": {},
   "outputs": [
    {
     "data": {
      "text/plain": [
       "False    0.62301\n",
       "True     0.37699\n",
       "Name: class, dtype: float64"
      ]
     },
     "execution_count": 18,
     "metadata": {},
     "output_type": "execute_result"
    }
   ],
   "source": [
    "datasets[\"class\"].value_counts(normalize=True)"
   ]
  },
  {
   "cell_type": "code",
   "execution_count": null,
   "id": "aec49654",
   "metadata": {},
   "outputs": [],
   "source": []
  },
  {
   "cell_type": "markdown",
   "id": "1001c4f4",
   "metadata": {},
   "source": [
    "# MODEL 01"
   ]
  },
  {
   "cell_type": "code",
   "execution_count": 19,
   "id": "45aaaf23",
   "metadata": {},
   "outputs": [
    {
     "name": "stderr",
     "output_type": "stream",
     "text": [
      "e:\\softwares\\python setup\\lib\\site-packages\\sklearn\\utils\\validation.py:985: DataConversionWarning: A column-vector y was passed when a 1d array was expected. Please change the shape of y to (n_samples, ), for example using ravel().\n",
      "  y = column_or_1d(y, warn=True)\n"
     ]
    },
    {
     "data": {
      "text/plain": [
       "LogisticRegression()"
      ]
     },
     "execution_count": 19,
     "metadata": {},
     "output_type": "execute_result"
    }
   ],
   "source": [
    "x = datasets.drop(\"class\", axis = 1)\n",
    "y = datasets[[\"class\"]]\n",
    "from sklearn.model_selection import train_test_split\n",
    "x_train,x_test,y_train,y_test = train_test_split(x,y , test_size = 0.3,random_state = 42)\n",
    "from sklearn.linear_model import LogisticRegression\n",
    "dt = LogisticRegression()\n",
    "dt.fit(x_train,y_train)"
   ]
  },
  {
   "cell_type": "code",
   "execution_count": 20,
   "id": "229fee66",
   "metadata": {},
   "outputs": [
    {
     "data": {
      "text/plain": [
       "array([False,  True, False,  True,  True])"
      ]
     },
     "execution_count": 20,
     "metadata": {},
     "output_type": "execute_result"
    }
   ],
   "source": [
    "y_pred = dt.predict(x_test)\n",
    "y_pred[:5]"
   ]
  },
  {
   "cell_type": "code",
   "execution_count": 21,
   "id": "bcab6900",
   "metadata": {},
   "outputs": [
    {
     "data": {
      "text/html": [
       "<div>\n",
       "<style scoped>\n",
       "    .dataframe tbody tr th:only-of-type {\n",
       "        vertical-align: middle;\n",
       "    }\n",
       "\n",
       "    .dataframe tbody tr th {\n",
       "        vertical-align: top;\n",
       "    }\n",
       "\n",
       "    .dataframe thead th {\n",
       "        text-align: right;\n",
       "    }\n",
       "</style>\n",
       "<table border=\"1\" class=\"dataframe\">\n",
       "  <thead>\n",
       "    <tr style=\"text-align: right;\">\n",
       "      <th></th>\n",
       "      <th>class</th>\n",
       "    </tr>\n",
       "  </thead>\n",
       "  <tbody>\n",
       "    <tr>\n",
       "      <th>11960</th>\n",
       "      <td>False</td>\n",
       "    </tr>\n",
       "    <tr>\n",
       "      <th>1804</th>\n",
       "      <td>True</td>\n",
       "    </tr>\n",
       "    <tr>\n",
       "      <th>516</th>\n",
       "      <td>False</td>\n",
       "    </tr>\n",
       "    <tr>\n",
       "      <th>3813</th>\n",
       "      <td>True</td>\n",
       "    </tr>\n",
       "    <tr>\n",
       "      <th>22211</th>\n",
       "      <td>True</td>\n",
       "    </tr>\n",
       "  </tbody>\n",
       "</table>\n",
       "</div>"
      ],
      "text/plain": [
       "       class\n",
       "11960  False\n",
       "1804    True\n",
       "516    False\n",
       "3813    True\n",
       "22211   True"
      ]
     },
     "execution_count": 21,
     "metadata": {},
     "output_type": "execute_result"
    }
   ],
   "source": [
    "y_test.head()"
   ]
  },
  {
   "cell_type": "code",
   "execution_count": 22,
   "id": "be80d48d",
   "metadata": {},
   "outputs": [],
   "source": [
    "from sklearn.metrics import confusion_matrix"
   ]
  },
  {
   "cell_type": "code",
   "execution_count": 23,
   "id": "87879d9b",
   "metadata": {},
   "outputs": [
    {
     "data": {
      "text/plain": [
       "array([[5514,  100],\n",
       "       [ 392, 2983]], dtype=int64)"
      ]
     },
     "execution_count": 23,
     "metadata": {},
     "output_type": "execute_result"
    }
   ],
   "source": [
    "confusion_matrix(y_test, y_pred)"
   ]
  },
  {
   "cell_type": "code",
   "execution_count": 24,
   "id": "93fd67e5",
   "metadata": {},
   "outputs": [
    {
     "data": {
      "text/plain": [
       "0.9452664367560352"
      ]
     },
     "execution_count": 24,
     "metadata": {},
     "output_type": "execute_result"
    }
   ],
   "source": [
    "(5514+2983)/(5514+2983+392+100)"
   ]
  },
  {
   "cell_type": "markdown",
   "id": "64ff5fc4",
   "metadata": {},
   "source": [
    "#      MODEL 02"
   ]
  },
  {
   "cell_type": "code",
   "execution_count": 42,
   "id": "3d40677b",
   "metadata": {},
   "outputs": [],
   "source": [
    "x = datasets.drop(\"class\", axis = 1)\n",
    "y = datasets[[\"class\"]]\n",
    "from sklearn.model_selection import train_test_split\n",
    "x_train,x_test,y_train,y_test = train_test_split(x,y , test_size = 0.3, random_state = 42, stratify = y)"
   ]
  },
  {
   "cell_type": "code",
   "execution_count": 26,
   "id": "421588e1",
   "metadata": {},
   "outputs": [
    {
     "data": {
      "text/plain": [
       "array([False,  True, False, False, False])"
      ]
     },
     "execution_count": 26,
     "metadata": {},
     "output_type": "execute_result"
    }
   ],
   "source": [
    "from sklearn.tree import DecisionTreeClassifier\n",
    "dt1 = DecisionTreeClassifier() \n",
    "dt1.fit(x_train,y_train)\n",
    "y_pred = dt1.predict(x_test)\n",
    "y_pred[:5]"
   ]
  },
  {
   "cell_type": "code",
   "execution_count": 27,
   "id": "afb77fb0",
   "metadata": {},
   "outputs": [],
   "source": [
    "# dt1 = DecisionTreeClassif ier() dt1.fit(x_train,y_train) y_pred = dt1.predict(x_test) y_pred[:5]"
   ]
  },
  {
   "cell_type": "code",
   "execution_count": 28,
   "id": "897c0198",
   "metadata": {},
   "outputs": [
    {
     "data": {
      "text/html": [
       "<div>\n",
       "<style scoped>\n",
       "    .dataframe tbody tr th:only-of-type {\n",
       "        vertical-align: middle;\n",
       "    }\n",
       "\n",
       "    .dataframe tbody tr th {\n",
       "        vertical-align: top;\n",
       "    }\n",
       "\n",
       "    .dataframe thead th {\n",
       "        text-align: right;\n",
       "    }\n",
       "</style>\n",
       "<table border=\"1\" class=\"dataframe\">\n",
       "  <thead>\n",
       "    <tr style=\"text-align: right;\">\n",
       "      <th></th>\n",
       "      <th>class</th>\n",
       "    </tr>\n",
       "  </thead>\n",
       "  <tbody>\n",
       "    <tr>\n",
       "      <th>16137</th>\n",
       "      <td>False</td>\n",
       "    </tr>\n",
       "    <tr>\n",
       "      <th>18440</th>\n",
       "      <td>True</td>\n",
       "    </tr>\n",
       "    <tr>\n",
       "      <th>2039</th>\n",
       "      <td>False</td>\n",
       "    </tr>\n",
       "    <tr>\n",
       "      <th>26238</th>\n",
       "      <td>False</td>\n",
       "    </tr>\n",
       "    <tr>\n",
       "      <th>16214</th>\n",
       "      <td>False</td>\n",
       "    </tr>\n",
       "  </tbody>\n",
       "</table>\n",
       "</div>"
      ],
      "text/plain": [
       "       class\n",
       "16137  False\n",
       "18440   True\n",
       "2039   False\n",
       "26238  False\n",
       "16214  False"
      ]
     },
     "execution_count": 28,
     "metadata": {},
     "output_type": "execute_result"
    }
   ],
   "source": [
    "y_test.head()"
   ]
  },
  {
   "cell_type": "code",
   "execution_count": 29,
   "id": "eb5eb153",
   "metadata": {},
   "outputs": [
    {
     "data": {
      "text/plain": [
       "array([[5597,    3],\n",
       "       [   3, 3386]], dtype=int64)"
      ]
     },
     "execution_count": 29,
     "metadata": {},
     "output_type": "execute_result"
    }
   ],
   "source": [
    "from sklearn.metrics import confusion_matrix\n",
    "confusion_matrix(y_test, y_pred)\n"
   ]
  },
  {
   "cell_type": "code",
   "execution_count": 30,
   "id": "f81d6d00",
   "metadata": {},
   "outputs": [
    {
     "data": {
      "text/plain": [
       "0.999332517521415"
      ]
     },
     "execution_count": 30,
     "metadata": {},
     "output_type": "execute_result"
    }
   ],
   "source": [
    "(5597+3386)/(5597+3386+3+3)"
   ]
  },
  {
   "cell_type": "markdown",
   "id": "9751eaac",
   "metadata": {},
   "source": [
    "# REGRASSION"
   ]
  },
  {
   "cell_type": "code",
   "execution_count": 31,
   "id": "15b7fd32",
   "metadata": {},
   "outputs": [],
   "source": [
    "y = datasets[[\"bpac\"]]\n",
    "x = datasets[[\"bvol\"]]"
   ]
  },
  {
   "cell_type": "code",
   "execution_count": 32,
   "id": "a9b192d3",
   "metadata": {},
   "outputs": [],
   "source": [
    "from sklearn.model_selection import train_test_split"
   ]
  },
  {
   "cell_type": "code",
   "execution_count": 33,
   "id": "9cce63e0",
   "metadata": {},
   "outputs": [],
   "source": [
    "x_train, x_test, y_train, y_test = train_test_split(x, y, test_size = 0.3,random_state = 42)"
   ]
  },
  {
   "cell_type": "code",
   "execution_count": 34,
   "id": "da45a2d6",
   "metadata": {},
   "outputs": [],
   "source": [
    "from sklearn.tree import DecisionTreeRegressor"
   ]
  },
  {
   "cell_type": "code",
   "execution_count": 35,
   "id": "e4529230",
   "metadata": {},
   "outputs": [],
   "source": [
    "dtr = DecisionTreeRegressor()"
   ]
  },
  {
   "cell_type": "code",
   "execution_count": 36,
   "id": "aab23ab7",
   "metadata": {},
   "outputs": [
    {
     "data": {
      "text/plain": [
       "DecisionTreeRegressor()"
      ]
     },
     "execution_count": 36,
     "metadata": {},
     "output_type": "execute_result"
    }
   ],
   "source": [
    "dtr.fit(x_train,y_train)"
   ]
  },
  {
   "cell_type": "code",
   "execution_count": 37,
   "id": "8c6ddd6c",
   "metadata": {},
   "outputs": [],
   "source": [
    "y_pred = dtr.predict(x_test)"
   ]
  },
  {
   "cell_type": "code",
   "execution_count": 38,
   "id": "2eed8b7b",
   "metadata": {},
   "outputs": [
    {
     "data": {
      "text/plain": [
       "array([  2.        ,  66.81818182,  27.        , 407.        ,\n",
       "       246.5       ])"
      ]
     },
     "execution_count": 38,
     "metadata": {},
     "output_type": "execute_result"
    }
   ],
   "source": [
    "y_pred[:5]"
   ]
  },
  {
   "cell_type": "code",
   "execution_count": 39,
   "id": "80429b47",
   "metadata": {},
   "outputs": [
    {
     "data": {
      "text/html": [
       "<div>\n",
       "<style scoped>\n",
       "    .dataframe tbody tr th:only-of-type {\n",
       "        vertical-align: middle;\n",
       "    }\n",
       "\n",
       "    .dataframe tbody tr th {\n",
       "        vertical-align: top;\n",
       "    }\n",
       "\n",
       "    .dataframe thead th {\n",
       "        text-align: right;\n",
       "    }\n",
       "</style>\n",
       "<table border=\"1\" class=\"dataframe\">\n",
       "  <thead>\n",
       "    <tr style=\"text-align: right;\">\n",
       "      <th></th>\n",
       "      <th>bpac</th>\n",
       "    </tr>\n",
       "  </thead>\n",
       "  <tbody>\n",
       "    <tr>\n",
       "      <th>11960</th>\n",
       "      <td>2</td>\n",
       "    </tr>\n",
       "    <tr>\n",
       "      <th>1804</th>\n",
       "      <td>36</td>\n",
       "    </tr>\n",
       "    <tr>\n",
       "      <th>516</th>\n",
       "      <td>15</td>\n",
       "    </tr>\n",
       "    <tr>\n",
       "      <th>3813</th>\n",
       "      <td>407</td>\n",
       "    </tr>\n",
       "    <tr>\n",
       "      <th>22211</th>\n",
       "      <td>335</td>\n",
       "    </tr>\n",
       "  </tbody>\n",
       "</table>\n",
       "</div>"
      ],
      "text/plain": [
       "       bpac\n",
       "11960     2\n",
       "1804     36\n",
       "516      15\n",
       "3813    407\n",
       "22211   335"
      ]
     },
     "execution_count": 39,
     "metadata": {},
     "output_type": "execute_result"
    }
   ],
   "source": [
    "y_test.head()"
   ]
  },
  {
   "cell_type": "code",
   "execution_count": 40,
   "id": "44e4960b",
   "metadata": {},
   "outputs": [
    {
     "data": {
      "text/plain": [
       "14393.237790619276"
      ]
     },
     "execution_count": 40,
     "metadata": {},
     "output_type": "execute_result"
    }
   ],
   "source": [
    "from sklearn.metrics import mean_squared_error\n",
    "mean_squared_error(y_test, y_pred)\n"
   ]
  },
  {
   "cell_type": "code",
   "execution_count": null,
   "id": "44b59535",
   "metadata": {},
   "outputs": [],
   "source": []
  }
 ],
 "metadata": {
  "kernelspec": {
   "display_name": "Python 3 (ipykernel)",
   "language": "python",
   "name": "python3"
  },
  "language_info": {
   "codemirror_mode": {
    "name": "ipython",
    "version": 3
   },
   "file_extension": ".py",
   "mimetype": "text/x-python",
   "name": "python",
   "nbconvert_exporter": "python",
   "pygments_lexer": "ipython3",
   "version": "3.9.0"
  }
 },
 "nbformat": 4,
 "nbformat_minor": 5
}
