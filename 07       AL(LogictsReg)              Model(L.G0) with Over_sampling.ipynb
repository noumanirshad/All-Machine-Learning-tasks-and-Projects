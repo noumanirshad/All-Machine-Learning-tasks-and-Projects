{
 "cells": [
  {
   "cell_type": "code",
   "execution_count": 1,
   "id": "3e897d39",
   "metadata": {},
   "outputs": [],
   "source": [
    "import pandas as pd\n",
    "import numpy as np"
   ]
  },
  {
   "cell_type": "code",
   "execution_count": 2,
   "id": "bb4ebf05",
   "metadata": {},
   "outputs": [],
   "source": [
    "gtalk = pd.read_csv(\"Zfone.csv\")"
   ]
  },
  {
   "cell_type": "code",
   "execution_count": 3,
   "id": "5c32c93b",
   "metadata": {},
   "outputs": [
    {
     "data": {
      "text/html": [
       "<div>\n",
       "<style scoped>\n",
       "    .dataframe tbody tr th:only-of-type {\n",
       "        vertical-align: middle;\n",
       "    }\n",
       "\n",
       "    .dataframe tbody tr th {\n",
       "        vertical-align: top;\n",
       "    }\n",
       "\n",
       "    .dataframe thead th {\n",
       "        text-align: right;\n",
       "    }\n",
       "</style>\n",
       "<table border=\"1\" class=\"dataframe\">\n",
       "  <thead>\n",
       "    <tr style=\"text-align: right;\">\n",
       "      <th></th>\n",
       "      <th>min_fpktl</th>\n",
       "      <th>mean_fpktl</th>\n",
       "      <th>max_fpktl</th>\n",
       "      <th>std_fpktl</th>\n",
       "      <th>min_bpktl</th>\n",
       "      <th>mean_bpktl</th>\n",
       "      <th>max_bpktl</th>\n",
       "      <th>std_bpktl</th>\n",
       "      <th>min_fiat</th>\n",
       "      <th>mean_fiat</th>\n",
       "      <th>...</th>\n",
       "      <th>mean_biat</th>\n",
       "      <th>max_biat</th>\n",
       "      <th>std_biat</th>\n",
       "      <th>duration</th>\n",
       "      <th>proto</th>\n",
       "      <th>total_fpackets</th>\n",
       "      <th>total_fvolume</th>\n",
       "      <th>total_bpackets</th>\n",
       "      <th>total_bvolume</th>\n",
       "      <th>class</th>\n",
       "    </tr>\n",
       "  </thead>\n",
       "  <tbody>\n",
       "    <tr>\n",
       "      <th>0</th>\n",
       "      <td>40</td>\n",
       "      <td>55</td>\n",
       "      <td>123</td>\n",
       "      <td>33</td>\n",
       "      <td>40</td>\n",
       "      <td>136</td>\n",
       "      <td>414</td>\n",
       "      <td>185</td>\n",
       "      <td>547</td>\n",
       "      <td>196970</td>\n",
       "      <td>...</td>\n",
       "      <td>274569</td>\n",
       "      <td>703487</td>\n",
       "      <td>375882</td>\n",
       "      <td>984851</td>\n",
       "      <td>6</td>\n",
       "      <td>6</td>\n",
       "      <td>335</td>\n",
       "      <td>4</td>\n",
       "      <td>546</td>\n",
       "      <td>ZFONE</td>\n",
       "    </tr>\n",
       "    <tr>\n",
       "      <th>1</th>\n",
       "      <td>40</td>\n",
       "      <td>73</td>\n",
       "      <td>161</td>\n",
       "      <td>58</td>\n",
       "      <td>52</td>\n",
       "      <td>150</td>\n",
       "      <td>249</td>\n",
       "      <td>139</td>\n",
       "      <td>228</td>\n",
       "      <td>98243</td>\n",
       "      <td>...</td>\n",
       "      <td>161425</td>\n",
       "      <td>161425</td>\n",
       "      <td>0</td>\n",
       "      <td>294730</td>\n",
       "      <td>6</td>\n",
       "      <td>4</td>\n",
       "      <td>293</td>\n",
       "      <td>2</td>\n",
       "      <td>301</td>\n",
       "      <td>ZFONE</td>\n",
       "    </tr>\n",
       "    <tr>\n",
       "      <th>2</th>\n",
       "      <td>40</td>\n",
       "      <td>66</td>\n",
       "      <td>161</td>\n",
       "      <td>53</td>\n",
       "      <td>40</td>\n",
       "      <td>94</td>\n",
       "      <td>247</td>\n",
       "      <td>101</td>\n",
       "      <td>294</td>\n",
       "      <td>51030</td>\n",
       "      <td>...</td>\n",
       "      <td>68549</td>\n",
       "      <td>121763</td>\n",
       "      <td>62154</td>\n",
       "      <td>286660</td>\n",
       "      <td>6</td>\n",
       "      <td>5</td>\n",
       "      <td>333</td>\n",
       "      <td>4</td>\n",
       "      <td>379</td>\n",
       "      <td>ZFONE</td>\n",
       "    </tr>\n",
       "    <tr>\n",
       "      <th>3</th>\n",
       "      <td>40</td>\n",
       "      <td>97</td>\n",
       "      <td>266</td>\n",
       "      <td>92</td>\n",
       "      <td>40</td>\n",
       "      <td>320</td>\n",
       "      <td>1359</td>\n",
       "      <td>506</td>\n",
       "      <td>308</td>\n",
       "      <td>92852</td>\n",
       "      <td>...</td>\n",
       "      <td>103912</td>\n",
       "      <td>445511</td>\n",
       "      <td>158869</td>\n",
       "      <td>821078</td>\n",
       "      <td>6</td>\n",
       "      <td>9</td>\n",
       "      <td>880</td>\n",
       "      <td>8</td>\n",
       "      <td>2565</td>\n",
       "      <td>ZFONE</td>\n",
       "    </tr>\n",
       "    <tr>\n",
       "      <th>4</th>\n",
       "      <td>40</td>\n",
       "      <td>237</td>\n",
       "      <td>1211</td>\n",
       "      <td>477</td>\n",
       "      <td>40</td>\n",
       "      <td>673</td>\n",
       "      <td>1500</td>\n",
       "      <td>722</td>\n",
       "      <td>207</td>\n",
       "      <td>38775</td>\n",
       "      <td>...</td>\n",
       "      <td>39589</td>\n",
       "      <td>121720</td>\n",
       "      <td>56267</td>\n",
       "      <td>268906</td>\n",
       "      <td>6</td>\n",
       "      <td>6</td>\n",
       "      <td>1423</td>\n",
       "      <td>6</td>\n",
       "      <td>4038</td>\n",
       "      <td>ZFONE</td>\n",
       "    </tr>\n",
       "  </tbody>\n",
       "</table>\n",
       "<p>5 rows × 23 columns</p>\n",
       "</div>"
      ],
      "text/plain": [
       "   min_fpktl  mean_fpktl  max_fpktl  std_fpktl  min_bpktl  mean_bpktl  \\\n",
       "0         40          55        123         33         40         136   \n",
       "1         40          73        161         58         52         150   \n",
       "2         40          66        161         53         40          94   \n",
       "3         40          97        266         92         40         320   \n",
       "4         40         237       1211        477         40         673   \n",
       "\n",
       "   max_bpktl  std_bpktl  min_fiat  mean_fiat  ...  mean_biat  max_biat  \\\n",
       "0        414        185       547     196970  ...     274569    703487   \n",
       "1        249        139       228      98243  ...     161425    161425   \n",
       "2        247        101       294      51030  ...      68549    121763   \n",
       "3       1359        506       308      92852  ...     103912    445511   \n",
       "4       1500        722       207      38775  ...      39589    121720   \n",
       "\n",
       "   std_biat  duration  proto  total_fpackets  total_fvolume  total_bpackets  \\\n",
       "0    375882    984851      6               6            335               4   \n",
       "1         0    294730      6               4            293               2   \n",
       "2     62154    286660      6               5            333               4   \n",
       "3    158869    821078      6               9            880               8   \n",
       "4     56267    268906      6               6           1423               6   \n",
       "\n",
       "   total_bvolume  class  \n",
       "0            546  ZFONE  \n",
       "1            301  ZFONE  \n",
       "2            379  ZFONE  \n",
       "3           2565  ZFONE  \n",
       "4           4038  ZFONE  \n",
       "\n",
       "[5 rows x 23 columns]"
      ]
     },
     "execution_count": 3,
     "metadata": {},
     "output_type": "execute_result"
    }
   ],
   "source": [
    "gtalk.head()"
   ]
  },
  {
   "cell_type": "code",
   "execution_count": 4,
   "id": "ec795a98",
   "metadata": {},
   "outputs": [],
   "source": [
    "data = gtalk[['min_fpktl', 'mean_fpktl', 'max_fpktl', 'std_fpktl']]"
   ]
  },
  {
   "cell_type": "code",
   "execution_count": 5,
   "id": "f8687a50",
   "metadata": {},
   "outputs": [
    {
     "data": {
      "text/plain": [
       "0    0.65\n",
       "1    0.35\n",
       "Name: std_fpktl, dtype: float64"
      ]
     },
     "execution_count": 5,
     "metadata": {},
     "output_type": "execute_result"
    }
   ],
   "source": [
    "col = (data['std_fpktl']>30).astype(np.int64)\n",
    "col.value_counts(normalize=True).round(2)"
   ]
  },
  {
   "cell_type": "code",
   "execution_count": 6,
   "id": "22db94ac",
   "metadata": {},
   "outputs": [
    {
     "name": "stderr",
     "output_type": "stream",
     "text": [
      "C:\\Users\\PC16CA~1\\AppData\\Local\\Temp/ipykernel_6196/903684849.py:1: SettingWithCopyWarning: \n",
      "A value is trying to be set on a copy of a slice from a DataFrame.\n",
      "Try using .loc[row_indexer,col_indexer] = value instead\n",
      "\n",
      "See the caveats in the documentation: https://pandas.pydata.org/pandas-docs/stable/user_guide/indexing.html#returning-a-view-versus-a-copy\n",
      "  data['class'] = col\n"
     ]
    }
   ],
   "source": [
    "data['class'] = col"
   ]
  },
  {
   "cell_type": "code",
   "execution_count": 7,
   "id": "0f14f7d5",
   "metadata": {},
   "outputs": [
    {
     "data": {
      "text/html": [
       "<div>\n",
       "<style scoped>\n",
       "    .dataframe tbody tr th:only-of-type {\n",
       "        vertical-align: middle;\n",
       "    }\n",
       "\n",
       "    .dataframe tbody tr th {\n",
       "        vertical-align: top;\n",
       "    }\n",
       "\n",
       "    .dataframe thead th {\n",
       "        text-align: right;\n",
       "    }\n",
       "</style>\n",
       "<table border=\"1\" class=\"dataframe\">\n",
       "  <thead>\n",
       "    <tr style=\"text-align: right;\">\n",
       "      <th></th>\n",
       "      <th>min_fpktl</th>\n",
       "      <th>mean_fpktl</th>\n",
       "      <th>max_fpktl</th>\n",
       "      <th>std_fpktl</th>\n",
       "      <th>class</th>\n",
       "    </tr>\n",
       "  </thead>\n",
       "  <tbody>\n",
       "    <tr>\n",
       "      <th>0</th>\n",
       "      <td>40</td>\n",
       "      <td>55</td>\n",
       "      <td>123</td>\n",
       "      <td>33</td>\n",
       "      <td>1</td>\n",
       "    </tr>\n",
       "    <tr>\n",
       "      <th>1</th>\n",
       "      <td>40</td>\n",
       "      <td>73</td>\n",
       "      <td>161</td>\n",
       "      <td>58</td>\n",
       "      <td>1</td>\n",
       "    </tr>\n",
       "    <tr>\n",
       "      <th>2</th>\n",
       "      <td>40</td>\n",
       "      <td>66</td>\n",
       "      <td>161</td>\n",
       "      <td>53</td>\n",
       "      <td>1</td>\n",
       "    </tr>\n",
       "    <tr>\n",
       "      <th>3</th>\n",
       "      <td>40</td>\n",
       "      <td>97</td>\n",
       "      <td>266</td>\n",
       "      <td>92</td>\n",
       "      <td>1</td>\n",
       "    </tr>\n",
       "    <tr>\n",
       "      <th>4</th>\n",
       "      <td>40</td>\n",
       "      <td>237</td>\n",
       "      <td>1211</td>\n",
       "      <td>477</td>\n",
       "      <td>1</td>\n",
       "    </tr>\n",
       "  </tbody>\n",
       "</table>\n",
       "</div>"
      ],
      "text/plain": [
       "   min_fpktl  mean_fpktl  max_fpktl  std_fpktl  class\n",
       "0         40          55        123         33      1\n",
       "1         40          73        161         58      1\n",
       "2         40          66        161         53      1\n",
       "3         40          97        266         92      1\n",
       "4         40         237       1211        477      1"
      ]
     },
     "execution_count": 7,
     "metadata": {},
     "output_type": "execute_result"
    }
   ],
   "source": [
    "data[\"class\"].value_counts()\n",
    "data.head()"
   ]
  },
  {
   "cell_type": "code",
   "execution_count": 8,
   "id": "38b0b883",
   "metadata": {},
   "outputs": [
    {
     "data": {
      "text/plain": [
       "(29961, 5)"
      ]
     },
     "execution_count": 8,
     "metadata": {},
     "output_type": "execute_result"
    }
   ],
   "source": [
    "data.shape"
   ]
  },
  {
   "cell_type": "code",
   "execution_count": 9,
   "id": "666c11be",
   "metadata": {},
   "outputs": [
    {
     "data": {
      "text/html": [
       "<div>\n",
       "<style scoped>\n",
       "    .dataframe tbody tr th:only-of-type {\n",
       "        vertical-align: middle;\n",
       "    }\n",
       "\n",
       "    .dataframe tbody tr th {\n",
       "        vertical-align: top;\n",
       "    }\n",
       "\n",
       "    .dataframe thead th {\n",
       "        text-align: right;\n",
       "    }\n",
       "</style>\n",
       "<table border=\"1\" class=\"dataframe\">\n",
       "  <thead>\n",
       "    <tr style=\"text-align: right;\">\n",
       "      <th></th>\n",
       "      <th>min_fpktl</th>\n",
       "      <th>mean_fpktl</th>\n",
       "      <th>max_fpktl</th>\n",
       "      <th>std_fpktl</th>\n",
       "      <th>class</th>\n",
       "    </tr>\n",
       "  </thead>\n",
       "  <tbody>\n",
       "    <tr>\n",
       "      <th>count</th>\n",
       "      <td>29961.000000</td>\n",
       "      <td>29961.000000</td>\n",
       "      <td>29961.000000</td>\n",
       "      <td>29961.000000</td>\n",
       "      <td>29961.000000</td>\n",
       "    </tr>\n",
       "    <tr>\n",
       "      <th>mean</th>\n",
       "      <td>45.318614</td>\n",
       "      <td>98.939221</td>\n",
       "      <td>382.767765</td>\n",
       "      <td>83.391609</td>\n",
       "      <td>0.346617</td>\n",
       "    </tr>\n",
       "    <tr>\n",
       "      <th>std</th>\n",
       "      <td>14.698224</td>\n",
       "      <td>72.157685</td>\n",
       "      <td>462.879571</td>\n",
       "      <td>138.376590</td>\n",
       "      <td>0.475901</td>\n",
       "    </tr>\n",
       "    <tr>\n",
       "      <th>min</th>\n",
       "      <td>40.000000</td>\n",
       "      <td>40.000000</td>\n",
       "      <td>56.000000</td>\n",
       "      <td>0.000000</td>\n",
       "      <td>0.000000</td>\n",
       "    </tr>\n",
       "    <tr>\n",
       "      <th>25%</th>\n",
       "      <td>40.000000</td>\n",
       "      <td>48.000000</td>\n",
       "      <td>116.000000</td>\n",
       "      <td>12.000000</td>\n",
       "      <td>0.000000</td>\n",
       "    </tr>\n",
       "    <tr>\n",
       "      <th>50%</th>\n",
       "      <td>40.000000</td>\n",
       "      <td>57.000000</td>\n",
       "      <td>196.000000</td>\n",
       "      <td>24.000000</td>\n",
       "      <td>0.000000</td>\n",
       "    </tr>\n",
       "    <tr>\n",
       "      <th>75%</th>\n",
       "      <td>40.000000</td>\n",
       "      <td>145.000000</td>\n",
       "      <td>287.000000</td>\n",
       "      <td>48.000000</td>\n",
       "      <td>1.000000</td>\n",
       "    </tr>\n",
       "    <tr>\n",
       "      <th>max</th>\n",
       "      <td>196.000000</td>\n",
       "      <td>461.000000</td>\n",
       "      <td>1500.000000</td>\n",
       "      <td>724.000000</td>\n",
       "      <td>1.000000</td>\n",
       "    </tr>\n",
       "  </tbody>\n",
       "</table>\n",
       "</div>"
      ],
      "text/plain": [
       "          min_fpktl    mean_fpktl     max_fpktl     std_fpktl         class\n",
       "count  29961.000000  29961.000000  29961.000000  29961.000000  29961.000000\n",
       "mean      45.318614     98.939221    382.767765     83.391609      0.346617\n",
       "std       14.698224     72.157685    462.879571    138.376590      0.475901\n",
       "min       40.000000     40.000000     56.000000      0.000000      0.000000\n",
       "25%       40.000000     48.000000    116.000000     12.000000      0.000000\n",
       "50%       40.000000     57.000000    196.000000     24.000000      0.000000\n",
       "75%       40.000000    145.000000    287.000000     48.000000      1.000000\n",
       "max      196.000000    461.000000   1500.000000    724.000000      1.000000"
      ]
     },
     "execution_count": 9,
     "metadata": {},
     "output_type": "execute_result"
    }
   ],
   "source": [
    "data.describe()"
   ]
  },
  {
   "cell_type": "code",
   "execution_count": 10,
   "id": "d3dcc982",
   "metadata": {},
   "outputs": [],
   "source": [
    "import matplotlib.pyplot as plt\n",
    "import seaborn as sns\n",
    "color = sns.color_palette()\n",
    "import sklearn.metrics as metrics"
   ]
  },
  {
   "cell_type": "code",
   "execution_count": 11,
   "id": "dcb93217",
   "metadata": {},
   "outputs": [
    {
     "data": {
      "text/plain": [
       "<AxesSubplot:ylabel='mean_bpktl'>"
      ]
     },
     "execution_count": 11,
     "metadata": {},
     "output_type": "execute_result"
    },
    {
     "data": {
      "image/png": "[encoded data removed]",
      "text/plain": [
       "<Figure size 1080x360 with 2 Axes>"
      ]
     },
     "metadata": {
      "needs_background": "light"
     },
     "output_type": "display_data"
    }
   ],
   "source": [
    "plt.figure(figsize = (15,5))\n",
    "plt.subplot(1,2,1)\n",
    "sns.boxplot(y = gtalk['min_bpktl'])\n",
    "\n",
    "plt.subplot(1,2,2)\n",
    "sns.boxplot(y = gtalk['mean_bpktl'])"
   ]
  },
  {
   "cell_type": "code",
   "execution_count": 12,
   "id": "d2fb1b84",
   "metadata": {},
   "outputs": [
    {
     "name": "stderr",
     "output_type": "stream",
     "text": [
      "e:\\softwares\\python setup\\lib\\site-packages\\seaborn\\_decorators.py:36: FutureWarning: Pass the following variable as a keyword arg: x. From version 0.12, the only valid positional argument will be `data`, and passing other arguments without an explicit keyword will result in an error or misinterpretation.\n",
      "  warnings.warn(\n"
     ]
    },
    {
     "data": {
      "image/png": "[encoded data removed]",
      "text/plain": [
       "<Figure size 720x360 with 1 Axes>"
      ]
     },
     "metadata": {
      "needs_background": "light"
     },
     "output_type": "display_data"
    }
   ],
   "source": [
    "plt.figure(figsize = (10,5))\n",
    "plt.subplot(1,2,1)\n",
    "sns.countplot(data['class'])\n",
    "plt.show()"
   ]
  },
  {
   "cell_type": "code",
   "execution_count": 13,
   "id": "10cf6267",
   "metadata": {},
   "outputs": [
    {
     "name": "stderr",
     "output_type": "stream",
     "text": [
      "e:\\softwares\\python setup\\lib\\site-packages\\seaborn\\_decorators.py:36: FutureWarning: Pass the following variables as keyword args: x, y. From version 0.12, the only valid positional argument will be `data`, and passing other arguments without an explicit keyword will result in an error or misinterpretation.\n",
      "  warnings.warn(\n",
      "e:\\softwares\\python setup\\lib\\site-packages\\seaborn\\_decorators.py:36: FutureWarning: Pass the following variables as keyword args: x, y. From version 0.12, the only valid positional argument will be `data`, and passing other arguments without an explicit keyword will result in an error or misinterpretation.\n",
      "  warnings.warn(\n"
     ]
    },
    {
     "data": {
      "image/png": "[encoded data removed]",
      "text/plain": [
       "<Figure size 1080x360 with 2 Axes>"
      ]
     },
     "metadata": {
      "needs_background": "light"
     },
     "output_type": "display_data"
    }
   ],
   "source": [
    "plt.figure(figsize = (15,5))\n",
    "plt.subplot(1,2,1)\n",
    "sns.boxplot(data[\"class\"], data['mean_fpktl'])\\\n",
    "\n",
    "plt.subplot(1,2,2)\n",
    "sns.boxplot(data[\"class\"], data[\"max_fpktl\"])\n",
    "plt.show()"
   ]
  },
  {
   "cell_type": "code",
   "execution_count": 14,
   "id": "eb70f27e",
   "metadata": {},
   "outputs": [
    {
     "data": {
      "text/plain": [
       "min_fpktl     0\n",
       "mean_fpktl    0\n",
       "max_fpktl     0\n",
       "std_fpktl     0\n",
       "class         0\n",
       "dtype: int64"
      ]
     },
     "execution_count": 14,
     "metadata": {},
     "output_type": "execute_result"
    }
   ],
   "source": [
    "data.isnull().sum()"
   ]
  },
  {
   "cell_type": "code",
   "execution_count": 15,
   "id": "14c47f83",
   "metadata": {},
   "outputs": [],
   "source": [
    "Q1, Q3 = data['min_fpktl'].quantile([.25,.75])\n",
    "IQR = Q3-Q1\n",
    "LL = Q1 - 1.5*(IQR)\n",
    "UL = Q3 - 1.5*(IQR)"
   ]
  },
  {
   "cell_type": "code",
   "execution_count": 16,
   "id": "96f5c258",
   "metadata": {},
   "outputs": [
    {
     "data": {
      "text/plain": [
       "40.0"
      ]
     },
     "execution_count": 16,
     "metadata": {},
     "output_type": "execute_result"
    }
   ],
   "source": [
    "UL"
   ]
  },
  {
   "cell_type": "code",
   "execution_count": 17,
   "id": "e091fc36",
   "metadata": {},
   "outputs": [
    {
     "data": {
      "text/html": [
       "<div>\n",
       "<style scoped>\n",
       "    .dataframe tbody tr th:only-of-type {\n",
       "        vertical-align: middle;\n",
       "    }\n",
       "\n",
       "    .dataframe tbody tr th {\n",
       "        vertical-align: top;\n",
       "    }\n",
       "\n",
       "    .dataframe thead th {\n",
       "        text-align: right;\n",
       "    }\n",
       "</style>\n",
       "<table border=\"1\" class=\"dataframe\">\n",
       "  <thead>\n",
       "    <tr style=\"text-align: right;\">\n",
       "      <th></th>\n",
       "      <th>min_fpktl</th>\n",
       "      <th>mean_fpktl</th>\n",
       "      <th>max_fpktl</th>\n",
       "      <th>std_fpktl</th>\n",
       "      <th>class</th>\n",
       "    </tr>\n",
       "  </thead>\n",
       "  <tbody>\n",
       "    <tr>\n",
       "      <th>31</th>\n",
       "      <td>56</td>\n",
       "      <td>56</td>\n",
       "      <td>56</td>\n",
       "      <td>0</td>\n",
       "      <td>0</td>\n",
       "    </tr>\n",
       "    <tr>\n",
       "      <th>33</th>\n",
       "      <td>56</td>\n",
       "      <td>56</td>\n",
       "      <td>56</td>\n",
       "      <td>0</td>\n",
       "      <td>0</td>\n",
       "    </tr>\n",
       "    <tr>\n",
       "      <th>34</th>\n",
       "      <td>112</td>\n",
       "      <td>112</td>\n",
       "      <td>112</td>\n",
       "      <td>0</td>\n",
       "      <td>0</td>\n",
       "    </tr>\n",
       "    <tr>\n",
       "      <th>46</th>\n",
       "      <td>56</td>\n",
       "      <td>56</td>\n",
       "      <td>56</td>\n",
       "      <td>0</td>\n",
       "      <td>0</td>\n",
       "    </tr>\n",
       "    <tr>\n",
       "      <th>48</th>\n",
       "      <td>56</td>\n",
       "      <td>56</td>\n",
       "      <td>56</td>\n",
       "      <td>0</td>\n",
       "      <td>0</td>\n",
       "    </tr>\n",
       "    <tr>\n",
       "      <th>...</th>\n",
       "      <td>...</td>\n",
       "      <td>...</td>\n",
       "      <td>...</td>\n",
       "      <td>...</td>\n",
       "      <td>...</td>\n",
       "    </tr>\n",
       "    <tr>\n",
       "      <th>29948</th>\n",
       "      <td>48</td>\n",
       "      <td>50</td>\n",
       "      <td>116</td>\n",
       "      <td>10</td>\n",
       "      <td>0</td>\n",
       "    </tr>\n",
       "    <tr>\n",
       "      <th>29952</th>\n",
       "      <td>49</td>\n",
       "      <td>149</td>\n",
       "      <td>291</td>\n",
       "      <td>24</td>\n",
       "      <td>0</td>\n",
       "    </tr>\n",
       "    <tr>\n",
       "      <th>29956</th>\n",
       "      <td>48</td>\n",
       "      <td>104</td>\n",
       "      <td>136</td>\n",
       "      <td>25</td>\n",
       "      <td>0</td>\n",
       "    </tr>\n",
       "    <tr>\n",
       "      <th>29957</th>\n",
       "      <td>48</td>\n",
       "      <td>50</td>\n",
       "      <td>116</td>\n",
       "      <td>10</td>\n",
       "      <td>0</td>\n",
       "    </tr>\n",
       "    <tr>\n",
       "      <th>29960</th>\n",
       "      <td>49</td>\n",
       "      <td>149</td>\n",
       "      <td>291</td>\n",
       "      <td>24</td>\n",
       "      <td>0</td>\n",
       "    </tr>\n",
       "  </tbody>\n",
       "</table>\n",
       "<p>6396 rows × 5 columns</p>\n",
       "</div>"
      ],
      "text/plain": [
       "       min_fpktl  mean_fpktl  max_fpktl  std_fpktl  class\n",
       "31            56          56         56          0      0\n",
       "33            56          56         56          0      0\n",
       "34           112         112        112          0      0\n",
       "46            56          56         56          0      0\n",
       "48            56          56         56          0      0\n",
       "...          ...         ...        ...        ...    ...\n",
       "29948         48          50        116         10      0\n",
       "29952         49         149        291         24      0\n",
       "29956         48         104        136         25      0\n",
       "29957         48          50        116         10      0\n",
       "29960         49         149        291         24      0\n",
       "\n",
       "[6396 rows x 5 columns]"
      ]
     },
     "execution_count": 17,
     "metadata": {},
     "output_type": "execute_result"
    }
   ],
   "source": [
    "df = data[data[\"min_fpktl\"]>UL]\n",
    "df"
   ]
  },
  {
   "cell_type": "code",
   "execution_count": 18,
   "id": "1fb8364b",
   "metadata": {},
   "outputs": [
    {
     "data": {
      "text/plain": [
       "31        56\n",
       "33        56\n",
       "34       112\n",
       "46        56\n",
       "48        56\n",
       "        ... \n",
       "29948     48\n",
       "29952     49\n",
       "29956     48\n",
       "29957     48\n",
       "29960     49\n",
       "Name: min_fpktl, Length: 6396, dtype: int64"
      ]
     },
     "execution_count": 18,
     "metadata": {},
     "output_type": "execute_result"
    }
   ],
   "source": [
    "df[\"min_fpktl\"]"
   ]
  },
  {
   "cell_type": "code",
   "execution_count": 19,
   "id": "07ab703b",
   "metadata": {},
   "outputs": [
    {
     "data": {
      "text/plain": [
       "(29961, 5)"
      ]
     },
     "execution_count": 19,
     "metadata": {},
     "output_type": "execute_result"
    }
   ],
   "source": [
    "data.shape"
   ]
  },
  {
   "cell_type": "code",
   "execution_count": 20,
   "id": "baf13098",
   "metadata": {},
   "outputs": [
    {
     "name": "stderr",
     "output_type": "stream",
     "text": [
      "C:\\Users\\PC16CA~1\\AppData\\Local\\Temp/ipykernel_6196/2084863303.py:1: SettingWithCopyWarning: \n",
      "A value is trying to be set on a copy of a slice from a DataFrame.\n",
      "Try using .loc[row_indexer,col_indexer] = value instead\n",
      "\n",
      "See the caveats in the documentation: https://pandas.pydata.org/pandas-docs/stable/user_guide/indexing.html#returning-a-view-versus-a-copy\n",
      "  data[\"min_fpktl\"] = np.where(data[\"min_fpktl\"]> UL, UL, data[\"min_fpktl\"])\n"
     ]
    }
   ],
   "source": [
    "data[\"min_fpktl\"] = np.where(data[\"min_fpktl\"]> UL, UL, data[\"min_fpktl\"])"
   ]
  },
  {
   "cell_type": "code",
   "execution_count": 21,
   "id": "886750e2",
   "metadata": {},
   "outputs": [
    {
     "data": {
      "image/png": "[encoded data removed]",
      "text/plain": [
       "<Figure size 432x288 with 1 Axes>"
      ]
     },
     "metadata": {
      "needs_background": "light"
     },
     "output_type": "display_data"
    }
   ],
   "source": [
    "sns.boxplot(y = data[\"min_fpktl\"])\n",
    "plt.show()"
   ]
  },
  {
   "cell_type": "code",
   "execution_count": 22,
   "id": "81b62b80",
   "metadata": {},
   "outputs": [
    {
     "data": {
      "text/html": [
       "<div>\n",
       "<style scoped>\n",
       "    .dataframe tbody tr th:only-of-type {\n",
       "        vertical-align: middle;\n",
       "    }\n",
       "\n",
       "    .dataframe tbody tr th {\n",
       "        vertical-align: top;\n",
       "    }\n",
       "\n",
       "    .dataframe thead th {\n",
       "        text-align: right;\n",
       "    }\n",
       "</style>\n",
       "<table border=\"1\" class=\"dataframe\">\n",
       "  <thead>\n",
       "    <tr style=\"text-align: right;\">\n",
       "      <th></th>\n",
       "      <th>min_fpktl</th>\n",
       "      <th>mean_fpktl</th>\n",
       "      <th>max_fpktl</th>\n",
       "      <th>std_fpktl</th>\n",
       "      <th>class</th>\n",
       "    </tr>\n",
       "  </thead>\n",
       "  <tbody>\n",
       "    <tr>\n",
       "      <th>0</th>\n",
       "      <td>40.0</td>\n",
       "      <td>55</td>\n",
       "      <td>123</td>\n",
       "      <td>33</td>\n",
       "      <td>1</td>\n",
       "    </tr>\n",
       "    <tr>\n",
       "      <th>1</th>\n",
       "      <td>40.0</td>\n",
       "      <td>73</td>\n",
       "      <td>161</td>\n",
       "      <td>58</td>\n",
       "      <td>1</td>\n",
       "    </tr>\n",
       "    <tr>\n",
       "      <th>2</th>\n",
       "      <td>40.0</td>\n",
       "      <td>66</td>\n",
       "      <td>161</td>\n",
       "      <td>53</td>\n",
       "      <td>1</td>\n",
       "    </tr>\n",
       "    <tr>\n",
       "      <th>3</th>\n",
       "      <td>40.0</td>\n",
       "      <td>97</td>\n",
       "      <td>266</td>\n",
       "      <td>92</td>\n",
       "      <td>1</td>\n",
       "    </tr>\n",
       "    <tr>\n",
       "      <th>4</th>\n",
       "      <td>40.0</td>\n",
       "      <td>237</td>\n",
       "      <td>1211</td>\n",
       "      <td>477</td>\n",
       "      <td>1</td>\n",
       "    </tr>\n",
       "  </tbody>\n",
       "</table>\n",
       "</div>"
      ],
      "text/plain": [
       "   min_fpktl  mean_fpktl  max_fpktl  std_fpktl  class\n",
       "0       40.0          55        123         33      1\n",
       "1       40.0          73        161         58      1\n",
       "2       40.0          66        161         53      1\n",
       "3       40.0          97        266         92      1\n",
       "4       40.0         237       1211        477      1"
      ]
     },
     "execution_count": 22,
     "metadata": {},
     "output_type": "execute_result"
    }
   ],
   "source": [
    "data.head()"
   ]
  },
  {
   "cell_type": "code",
   "execution_count": 23,
   "id": "cc56f0e8",
   "metadata": {},
   "outputs": [],
   "source": [
    " data = pd.get_dummies(data , drop_first = True )"
   ]
  },
  {
   "cell_type": "code",
   "execution_count": 24,
   "id": "0e0a47e1",
   "metadata": {},
   "outputs": [
    {
     "data": {
      "text/html": [
       "<div>\n",
       "<style scoped>\n",
       "    .dataframe tbody tr th:only-of-type {\n",
       "        vertical-align: middle;\n",
       "    }\n",
       "\n",
       "    .dataframe tbody tr th {\n",
       "        vertical-align: top;\n",
       "    }\n",
       "\n",
       "    .dataframe thead th {\n",
       "        text-align: right;\n",
       "    }\n",
       "</style>\n",
       "<table border=\"1\" class=\"dataframe\">\n",
       "  <thead>\n",
       "    <tr style=\"text-align: right;\">\n",
       "      <th></th>\n",
       "      <th>min_fpktl</th>\n",
       "      <th>mean_fpktl</th>\n",
       "      <th>max_fpktl</th>\n",
       "      <th>std_fpktl</th>\n",
       "      <th>class</th>\n",
       "    </tr>\n",
       "  </thead>\n",
       "  <tbody>\n",
       "    <tr>\n",
       "      <th>0</th>\n",
       "      <td>40.0</td>\n",
       "      <td>55</td>\n",
       "      <td>123</td>\n",
       "      <td>33</td>\n",
       "      <td>1</td>\n",
       "    </tr>\n",
       "    <tr>\n",
       "      <th>1</th>\n",
       "      <td>40.0</td>\n",
       "      <td>73</td>\n",
       "      <td>161</td>\n",
       "      <td>58</td>\n",
       "      <td>1</td>\n",
       "    </tr>\n",
       "    <tr>\n",
       "      <th>2</th>\n",
       "      <td>40.0</td>\n",
       "      <td>66</td>\n",
       "      <td>161</td>\n",
       "      <td>53</td>\n",
       "      <td>1</td>\n",
       "    </tr>\n",
       "    <tr>\n",
       "      <th>3</th>\n",
       "      <td>40.0</td>\n",
       "      <td>97</td>\n",
       "      <td>266</td>\n",
       "      <td>92</td>\n",
       "      <td>1</td>\n",
       "    </tr>\n",
       "    <tr>\n",
       "      <th>4</th>\n",
       "      <td>40.0</td>\n",
       "      <td>237</td>\n",
       "      <td>1211</td>\n",
       "      <td>477</td>\n",
       "      <td>1</td>\n",
       "    </tr>\n",
       "  </tbody>\n",
       "</table>\n",
       "</div>"
      ],
      "text/plain": [
       "   min_fpktl  mean_fpktl  max_fpktl  std_fpktl  class\n",
       "0       40.0          55        123         33      1\n",
       "1       40.0          73        161         58      1\n",
       "2       40.0          66        161         53      1\n",
       "3       40.0          97        266         92      1\n",
       "4       40.0         237       1211        477      1"
      ]
     },
     "execution_count": 24,
     "metadata": {},
     "output_type": "execute_result"
    }
   ],
   "source": [
    "data.head()"
   ]
  },
  {
   "cell_type": "markdown",
   "id": "dfb5f6cb",
   "metadata": {},
   "source": [
    "\n",
    "# MODEL 01\n"
   ]
  },
  {
   "cell_type": "code",
   "execution_count": 25,
   "id": "e8ab674b",
   "metadata": {},
   "outputs": [],
   "source": [
    "from sklearn.model_selection import train_test_split"
   ]
  },
  {
   "cell_type": "code",
   "execution_count": 26,
   "id": "3870ad3e",
   "metadata": {},
   "outputs": [],
   "source": [
    "x = data.drop('class', axis = 1)\n",
    "y = data[\"class\"]"
   ]
  },
  {
   "cell_type": "code",
   "execution_count": 27,
   "id": "93059068",
   "metadata": {},
   "outputs": [],
   "source": [
    "x_train,x_test, y_train,y_test = train_test_split(x,y,test_size = 0.3, random_state = 42, stratify = y)"
   ]
  },
  {
   "cell_type": "code",
   "execution_count": 28,
   "id": "4b76c31b",
   "metadata": {},
   "outputs": [
    {
     "data": {
      "text/plain": [
       "0    0.65\n",
       "1    0.35\n",
       "Name: class, dtype: float64"
      ]
     },
     "execution_count": 28,
     "metadata": {},
     "output_type": "execute_result"
    }
   ],
   "source": [
    "y_train.value_counts(normalize=True).round(2)\n",
    "y_test.value_counts(normalize=True).round(2)"
   ]
  },
  {
   "cell_type": "code",
   "execution_count": 29,
   "id": "fac46696",
   "metadata": {},
   "outputs": [],
   "source": [
    "from sklearn.linear_model import LogisticRegression"
   ]
  },
  {
   "cell_type": "code",
   "execution_count": 30,
   "id": "bd956f0d",
   "metadata": {},
   "outputs": [],
   "source": [
    "model = LogisticRegression()"
   ]
  },
  {
   "cell_type": "code",
   "execution_count": 31,
   "id": "85524097",
   "metadata": {},
   "outputs": [
    {
     "data": {
      "text/plain": [
       "LogisticRegression()"
      ]
     },
     "execution_count": 31,
     "metadata": {},
     "output_type": "execute_result"
    }
   ],
   "source": [
    "model.fit(x_train,y_train)"
   ]
  },
  {
   "cell_type": "code",
   "execution_count": 32,
   "id": "ebaf8404",
   "metadata": {},
   "outputs": [],
   "source": [
    "y_pre = model.predict(x_test)"
   ]
  },
  {
   "cell_type": "code",
   "execution_count": 33,
   "id": "6a9d2885",
   "metadata": {},
   "outputs": [
    {
     "data": {
      "text/plain": [
       "array([0, 1, 0, 0, 0], dtype=int64)"
      ]
     },
     "execution_count": 33,
     "metadata": {},
     "output_type": "execute_result"
    }
   ],
   "source": [
    "y_pre[:5]"
   ]
  },
  {
   "cell_type": "code",
   "execution_count": 34,
   "id": "8a906be4",
   "metadata": {},
   "outputs": [
    {
     "data": {
      "text/plain": [
       "6458     0\n",
       "21289    1\n",
       "19799    0\n",
       "27437    0\n",
       "4988     0\n",
       "Name: class, dtype: int64"
      ]
     },
     "execution_count": 34,
     "metadata": {},
     "output_type": "execute_result"
    }
   ],
   "source": [
    "y_test.head()"
   ]
  },
  {
   "cell_type": "code",
   "execution_count": 35,
   "id": "ff437bd4",
   "metadata": {},
   "outputs": [
    {
     "data": {
      "text/plain": [
       "array([[5873,    0],\n",
       "       [   0, 3116]], dtype=int64)"
      ]
     },
     "execution_count": 35,
     "metadata": {},
     "output_type": "execute_result"
    }
   ],
   "source": [
    "from sklearn.metrics import confusion_matrix, classification_report\n",
    "confusion_matrix(y_test,y_pre)"
   ]
  },
  {
   "cell_type": "code",
   "execution_count": null,
   "id": "3484dc35",
   "metadata": {},
   "outputs": [],
   "source": []
  },
  {
   "cell_type": "markdown",
   "id": "f30c2e51",
   "metadata": {},
   "source": [
    "# MODEL 2"
   ]
  },
  {
   "cell_type": "code",
   "execution_count": 36,
   "id": "348f4f2d",
   "metadata": {},
   "outputs": [],
   "source": [
    "from sklearn.model_selection import train_test_split"
   ]
  },
  {
   "cell_type": "code",
   "execution_count": 37,
   "id": "e674f706",
   "metadata": {},
   "outputs": [],
   "source": [
    "x_train,x_test,y_train,y_test = train_test_split(x, y ,test_size = 0.2, random_state = 42, stratify = y)"
   ]
  },
  {
   "cell_type": "code",
   "execution_count": 38,
   "id": "1bc1d146",
   "metadata": {},
   "outputs": [],
   "source": [
    "model2 = LogisticRegression()"
   ]
  },
  {
   "cell_type": "code",
   "execution_count": 39,
   "id": "54691c5b",
   "metadata": {},
   "outputs": [],
   "source": [
    "from imblearn.over_sampling import SMOTE"
   ]
  },
  {
   "cell_type": "code",
   "execution_count": 40,
   "id": "2a1b3324",
   "metadata": {},
   "outputs": [],
   "source": [
    "# sm = SMOTE(random_state = 42, sampling_strategy = 0.75)\n",
    "sm = SMOTE(random_state = 42)\n",
    "x1,y1 = sm.fit_resample(x_train, y_train)"
   ]
  },
  {
   "cell_type": "code",
   "execution_count": 41,
   "id": "5483102b",
   "metadata": {},
   "outputs": [
    {
     "data": {
      "text/plain": [
       "LogisticRegression()"
      ]
     },
     "execution_count": 41,
     "metadata": {},
     "output_type": "execute_result"
    }
   ],
   "source": [
    "model2.fit(x1,y1)"
   ]
  },
  {
   "cell_type": "code",
   "execution_count": 42,
   "id": "8e1a89f1",
   "metadata": {},
   "outputs": [],
   "source": [
    "y_pre = model2.predict(x_test)"
   ]
  },
  {
   "cell_type": "code",
   "execution_count": 43,
   "id": "60ff12e3",
   "metadata": {},
   "outputs": [
    {
     "data": {
      "text/plain": [
       "array([1, 1, 0, 0, 0], dtype=int64)"
      ]
     },
     "execution_count": 43,
     "metadata": {},
     "output_type": "execute_result"
    }
   ],
   "source": [
    "y_pre[:5]"
   ]
  },
  {
   "cell_type": "code",
   "execution_count": 44,
   "id": "8e9373e3",
   "metadata": {},
   "outputs": [
    {
     "data": {
      "text/plain": [
       "24319    1\n",
       "16165    1\n",
       "18471    0\n",
       "462      0\n",
       "10415    0\n",
       "Name: class, dtype: int64"
      ]
     },
     "execution_count": 44,
     "metadata": {},
     "output_type": "execute_result"
    }
   ],
   "source": [
    "y_test.head()"
   ]
  },
  {
   "cell_type": "code",
   "execution_count": 45,
   "id": "6567c41c",
   "metadata": {},
   "outputs": [
    {
     "data": {
      "text/plain": [
       "array([[3916,    0],\n",
       "       [   0, 2077]], dtype=int64)"
      ]
     },
     "execution_count": 45,
     "metadata": {},
     "output_type": "execute_result"
    }
   ],
   "source": [
    "from sklearn.metrics import confusion_matrix, classification_report\n",
    "confusion_matrix(y_test,y_pre)"
   ]
  },
  {
   "cell_type": "code",
   "execution_count": 46,
   "id": "363fc5e4",
   "metadata": {},
   "outputs": [
    {
     "data": {
      "text/plain": [
       "1.0"
      ]
     },
     "execution_count": 46,
     "metadata": {},
     "output_type": "execute_result"
    }
   ],
   "source": [
    "(3916+2077)/ (3916+2077+0+0)"
   ]
  }
 ],
 "metadata": {
  "kernelspec": {
   "display_name": "Python 3 (ipykernel)",
   "language": "python",
   "name": "python3"
  },
  "language_info": {
   "codemirror_mode": {
    "name": "ipython",
    "version": 3
   },
   "file_extension": ".py",
   "mimetype": "text/x-python",
   "name": "python",
   "nbconvert_exporter": "python",
   "pygments_lexer": "ipython3",
   "version": "3.9.0"
  }
 },
 "nbformat": 4,
 "nbformat_minor": 5
}
