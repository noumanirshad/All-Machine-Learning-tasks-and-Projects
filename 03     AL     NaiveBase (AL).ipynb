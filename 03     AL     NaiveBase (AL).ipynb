{
 "cells": [
  {
   "cell_type": "code",
   "execution_count": 1,
   "id": "8fdee21b",
   "metadata": {},
   "outputs": [],
   "source": [
    "import numpy as np\n",
    "import matplotlib.pyplot as plt\n",
    "import seaborn as sns\n",
    "import  pandas as pd"
   ]
  },
  {
   "cell_type": "code",
   "execution_count": null,
   "id": "9f3d6b67",
   "metadata": {},
   "outputs": [],
   "source": [
    "indest = pd.read_csv(\"Indestries 37081.csv\")"
   ]
  },
  {
   "cell_type": "code",
   "execution_count": null,
   "id": "e21fe20f",
   "metadata": {},
   "outputs": [],
   "source": [
    "indest.head()"
   ]
  },
  {
   "cell_type": "code",
   "execution_count": null,
   "id": "d88bab3e",
   "metadata": {},
   "outputs": [],
   "source": [
    "indest.isnull().any()\n",
    "# np.product(indest.shape)"
   ]
  },
  {
   "cell_type": "code",
   "execution_count": null,
   "id": "a71ebb78",
   "metadata": {},
   "outputs": [],
   "source": [
    "indest[\"Industry_code_ANZSIC06\"].value_counts()"
   ]
  },
  {
   "cell_type": "code",
   "execution_count": null,
   "id": "823a2d66",
   "metadata": {},
   "outputs": [],
   "source": [
    "ind = indest.drop(\"Industry_code_ANZSIC06\", axis = 1)\n",
    "indest.shape"
   ]
  },
  {
   "cell_type": "code",
   "execution_count": null,
   "id": "6910082b",
   "metadata": {},
   "outputs": [],
   "source": [
    "ind[\"Year\"].value_counts()"
   ]
  },
  {
   "cell_type": "code",
   "execution_count": null,
   "id": "17357a05",
   "metadata": {},
   "outputs": [],
   "source": [
    "ind[\"Industry_aggregation_NZSIOC\"].value_counts()"
   ]
  },
  {
   "cell_type": "code",
   "execution_count": null,
   "id": "bf2e9284",
   "metadata": {},
   "outputs": [],
   "source": [
    "ind[\"Industry_code_NZSIOC\"].value_counts()"
   ]
  },
  {
   "cell_type": "code",
   "execution_count": null,
   "id": "9bc94850",
   "metadata": {},
   "outputs": [],
   "source": [
    "ind[\"Industry_name_NZSIOC\"].value_counts()"
   ]
  },
  {
   "cell_type": "code",
   "execution_count": null,
   "id": "4ea0c25f",
   "metadata": {},
   "outputs": [],
   "source": [
    "ind[\"Variable_category\"].value_counts()"
   ]
  },
  {
   "cell_type": "code",
   "execution_count": null,
   "id": "b8d3bbb6",
   "metadata": {},
   "outputs": [],
   "source": [
    "data = ind.rename(columns = {\"Industry_aggregation_NZSIOC\": \"level\",\n",
    "                                \"Industry_code_NZSIOC\": \"ind_code\",\n",
    "                                \"Industry_name_NZSIOC\": \"ind_name\",\n",
    "                                \"Variable_code\": \"val_code\",\n",
    "                                'Variable_name': \"val_name\",\n",
    "                                'Variable_category': \"val_cat\"\n",
    "                                ''\n",
    "})"
   ]
  },
  {
   "cell_type": "code",
   "execution_count": null,
   "id": "6a8c8bcd",
   "metadata": {},
   "outputs": [],
   "source": [
    "data.head()"
   ]
  },
  {
   "cell_type": "code",
   "execution_count": null,
   "id": "7d328248",
   "metadata": {},
   "outputs": [],
   "source": [
    "data.shape"
   ]
  },
  {
   "cell_type": "code",
   "execution_count": null,
   "id": "ec735b99",
   "metadata": {},
   "outputs": [],
   "source": [
    "data.describe()"
   ]
  },
  {
   "cell_type": "code",
   "execution_count": null,
   "id": "90680c75",
   "metadata": {},
   "outputs": [],
   "source": [
    "data[\"ind_code\"].value_counts() "
   ]
  },
  {
   "cell_type": "code",
   "execution_count": null,
   "id": "7c254613",
   "metadata": {},
   "outputs": [],
   "source": [
    "f = data[data[\"ind_name\"] == \"All industries\"]\n",
    "f"
   ]
  },
  {
   "cell_type": "code",
   "execution_count": null,
   "id": "99965013",
   "metadata": {},
   "outputs": [],
   "source": [
    "data[data[\"ind_code\"] == \"99999\"]"
   ]
  },
  {
   "cell_type": "code",
   "execution_count": null,
   "id": "ec483306",
   "metadata": {},
   "outputs": [],
   "source": [
    "data['Value'].value_counts()"
   ]
  },
  {
   "cell_type": "code",
   "execution_count": null,
   "id": "1e8ac524",
   "metadata": {},
   "outputs": [],
   "source": [
    "c = data[data[\"Value\"] == 'C']\n",
    "c.tail()"
   ]
  },
  {
   "cell_type": "code",
   "execution_count": null,
   "id": "e61c5a77",
   "metadata": {},
   "outputs": [],
   "source": [
    "data[\"Year\"].value_counts()"
   ]
  },
  {
   "cell_type": "code",
   "execution_count": null,
   "id": "52492934",
   "metadata": {},
   "outputs": [],
   "source": [
    "sns.barplot(list(data[\"Year\"].value_counts().keys()), list(data[\"Year\"].value_counts().values))\n",
    "plt.show()"
   ]
  },
  {
   "cell_type": "code",
   "execution_count": null,
   "id": "848f13f7",
   "metadata": {},
   "outputs": [],
   "source": [
    "sns.displot(data[\"Year\"])\n",
    "plt.show()"
   ]
  },
  {
   "cell_type": "code",
   "execution_count": null,
   "id": "ee9ea838",
   "metadata": {},
   "outputs": [],
   "source": [
    "data.head()"
   ]
  },
  {
   "cell_type": "code",
   "execution_count": null,
   "id": "93c72c03",
   "metadata": {},
   "outputs": [],
   "source": [
    "data[\"level\"].value_counts()"
   ]
  },
  {
   "cell_type": "code",
   "execution_count": null,
   "id": "f8b5c7bc",
   "metadata": {},
   "outputs": [],
   "source": [
    "sns.barplot(list(data[\"level\"].value_counts().keys()), data[\"level\"].value_counts().values)\n",
    "plt.show()"
   ]
  },
  {
   "cell_type": "code",
   "execution_count": null,
   "id": "ce7eb9f4",
   "metadata": {},
   "outputs": [],
   "source": [
    "sns.displot(data['level'])\n",
    "plt.show()"
   ]
  },
  {
   "cell_type": "code",
   "execution_count": null,
   "id": "ede92857",
   "metadata": {},
   "outputs": [],
   "source": [
    "data.head()"
   ]
  },
  {
   "cell_type": "code",
   "execution_count": null,
   "id": "8883b18c",
   "metadata": {},
   "outputs": [],
   "source": [
    " data[\"Units\"].value_counts()"
   ]
  },
  {
   "cell_type": "code",
   "execution_count": null,
   "id": "0769a7ed",
   "metadata": {},
   "outputs": [],
   "source": [
    "sns.barplot(list(data[\"Units\"].value_counts().keys()), list(data['Units'].value_counts().values))\n",
    "plt.show()"
   ]
  },
  {
   "cell_type": "code",
   "execution_count": null,
   "id": "77c87395",
   "metadata": {},
   "outputs": [],
   "source": [
    "sns.displot(data['Units'])\n",
    "plt.show()"
   ]
  },
  {
   "cell_type": "code",
   "execution_count": null,
   "id": "0fa86784",
   "metadata": {},
   "outputs": [],
   "source": [
    "data.head()"
   ]
  },
  {
   "cell_type": "markdown",
   "id": "67afc254",
   "metadata": {},
   "source": [
    "# MODEL 1"
   ]
  },
  {
   "cell_type": "code",
   "execution_count": null,
   "id": "a03cf7f7",
   "metadata": {},
   "outputs": [],
   "source": [
    "x = data[[\"Year\"]]"
   ]
  },
  {
   "cell_type": "code",
   "execution_count": null,
   "id": "4f48414e",
   "metadata": {},
   "outputs": [],
   "source": [
    "y = data[[\"Value\"]]"
   ]
  },
  {
   "cell_type": "code",
   "execution_count": null,
   "id": "ed5f9f10",
   "metadata": {},
   "outputs": [],
   "source": [
    "from sklearn.model_selection import train_test_split"
   ]
  },
  {
   "cell_type": "code",
   "execution_count": null,
   "id": "4bd1846d",
   "metadata": {},
   "outputs": [],
   "source": [
    "x_train,x_test,y_train,y_test = train_test_split(x,y, test_size = 0.3, random_state = 42)"
   ]
  },
  {
   "cell_type": "code",
   "execution_count": null,
   "id": "3ed3aaac",
   "metadata": {},
   "outputs": [],
   "source": [
    "from sklearn.naive_bayes import MultinomialNB\n",
    "# from sklearn.naive_bayes import GaussianNB"
   ]
  },
  {
   "cell_type": "code",
   "execution_count": null,
   "id": "733fe666",
   "metadata": {},
   "outputs": [],
   "source": [
    "nb = MultinomialNB()\n",
    "# nb = GaussianNB()"
   ]
  },
  {
   "cell_type": "code",
   "execution_count": null,
   "id": "88b136cf",
   "metadata": {},
   "outputs": [],
   "source": [
    "nb.fit(x_train, y_train)"
   ]
  },
  {
   "cell_type": "code",
   "execution_count": null,
   "id": "bb33790d",
   "metadata": {},
   "outputs": [],
   "source": [
    "y_pre = nb.predict(x_test)"
   ]
  },
  {
   "cell_type": "code",
   "execution_count": null,
   "id": "6e5fb672",
   "metadata": {},
   "outputs": [],
   "source": [
    "y_test.head()"
   ]
  },
  {
   "cell_type": "code",
   "execution_count": null,
   "id": "043c3b6f",
   "metadata": {},
   "outputs": [],
   "source": [
    "# array(['11,858', '4,163', '4,163', '14,972', '11,509'], dtype='<U9')\n",
    "y_pre[0:5]"
   ]
  },
  {
   "cell_type": "code",
   "execution_count": null,
   "id": "b99510c8",
   "metadata": {},
   "outputs": [],
   "source": [
    "from sklearn.metrics import confusion_matrix"
   ]
  },
  {
   "cell_type": "code",
   "execution_count": null,
   "id": "7f6bac87",
   "metadata": {},
   "outputs": [],
   "source": [
    "confusion_matrix(y_test,y_pre)"
   ]
  },
  {
   "cell_type": "markdown",
   "id": "84302b59",
   "metadata": {},
   "source": [
    "# MODEL 02"
   ]
  },
  {
   "cell_type": "code",
   "execution_count": null,
   "id": "557d0240",
   "metadata": {},
   "outputs": [],
   "source": [
    "x = data[[\"Year\"]]\n",
    "\n",
    "# ValueError: could not convert string to float: 'Level 3'"
   ]
  },
  {
   "cell_type": "code",
   "execution_count": null,
   "id": "9ad813d7",
   "metadata": {},
   "outputs": [],
   "source": [
    "y = data[[\"Value\"]]"
   ]
  },
  {
   "cell_type": "code",
   "execution_count": null,
   "id": "19c41b97",
   "metadata": {},
   "outputs": [],
   "source": [
    "from sklearn.model_selection import train_test_split"
   ]
  },
  {
   "cell_type": "code",
   "execution_count": null,
   "id": "4021ec55",
   "metadata": {},
   "outputs": [],
   "source": [
    "x_train,x_test,y_train, y_test = train_test_split(x,y, test_size = 0.3, random_state = 42)"
   ]
  },
  {
   "cell_type": "code",
   "execution_count": null,
   "id": "49afd4d4",
   "metadata": {},
   "outputs": [],
   "source": [
    "from sklearn.naive_bayes import GaussianNB"
   ]
  },
  {
   "cell_type": "code",
   "execution_count": null,
   "id": "98668171",
   "metadata": {},
   "outputs": [],
   "source": [
    "mul = GaussianNB()"
   ]
  },
  {
   "cell_type": "code",
   "execution_count": null,
   "id": "5332a4bc",
   "metadata": {},
   "outputs": [],
   "source": [
    "mul.fit(x_train, y_train)"
   ]
  },
  {
   "cell_type": "code",
   "execution_count": null,
   "id": "dcc058e8",
   "metadata": {},
   "outputs": [],
   "source": [
    "pre = mul.predict(x_test)"
   ]
  },
  {
   "cell_type": "code",
   "execution_count": null,
   "id": "f9fe4fca",
   "metadata": {},
   "outputs": [],
   "source": [
    "pre[:5], y_test.head()"
   ]
  },
  {
   "cell_type": "code",
   "execution_count": null,
   "id": "7058c5b8",
   "metadata": {},
   "outputs": [],
   "source": []
  },
  {
   "cell_type": "code",
   "execution_count": null,
   "id": "745e8d34",
   "metadata": {},
   "outputs": [],
   "source": []
  },
  {
   "cell_type": "code",
   "execution_count": null,
   "id": "fe8f10d9",
   "metadata": {},
   "outputs": [],
   "source": []
  },
  {
   "cell_type": "code",
   "execution_count": null,
   "id": "fe08e634",
   "metadata": {},
   "outputs": [],
   "source": [
    "cols_with_missing = [col for col in X_train_full.columns if X_train_full[col].isnull().any()] \n",
    "X_train_full.drop(cols_with_missing, axis=1, inplace=True)\n",
    "X_valid_full.drop(cols_with_missing, axis=1, inplace=True)"
   ]
  }
 ],
 "metadata": {
  "kernelspec": {
   "display_name": "Python 3 (ipykernel)",
   "language": "python",
   "name": "python3"
  },
  "language_info": {
   "codemirror_mode": {
    "name": "ipython",
    "version": 3
   },
   "file_extension": ".py",
   "mimetype": "text/x-python",
   "name": "python",
   "nbconvert_exporter": "python",
   "pygments_lexer": "ipython3",
   "version": "3.9.0"
  }
 },
 "nbformat": 4,
 "nbformat_minor": 5
}
